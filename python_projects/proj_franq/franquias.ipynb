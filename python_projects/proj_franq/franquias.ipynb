{
 "cells": [
  {
   "cell_type": "code",
   "execution_count": null,
   "metadata": {},
   "outputs": [
    {
     "ename": "",
     "evalue": "",
     "output_type": "error",
     "traceback": [
      "\u001b[1;31mFailed to start the Kernel. \n",
      "\u001b[1;31mUnable to start Kernel 'Python 3.11.3' due to a timeout waiting for the ports to get used. \n",
      "\u001b[1;31mView Jupyter <a href='command:jupyter.viewOutput'>log</a> for further details."
     ]
    }
   ],
   "source": [
    "import pyautogui\n",
    "import time\n"
   ]
  },
  {
   "cell_type": "code",
   "execution_count": null,
   "metadata": {},
   "outputs": [],
   "source": []
  },
  {
   "cell_type": "code",
   "execution_count": 3,
   "metadata": {},
   "outputs": [],
   "source": [
    "NUM_PAGS = 116\n",
    "SL = 3\n",
    "MOUSE_X = 1890\n",
    "MOUSE_Y = 560\n",
    "time.sleep(10)\n",
    "for n in range(NUM_PAGS):\n",
    "    myScreenshot = pyautogui.screenshot()\n",
    "    myScreenshot.save(f'screenshots/page{n}.png')\n",
    "    pyautogui.click(MOUSE_X, MOUSE_Y)\n",
    "    time.sleep(SL)"
   ]
  },
  {
   "cell_type": "code",
   "execution_count": 7,
   "metadata": {},
   "outputs": [],
   "source": [
    "import cv2 \n",
    "import pytesseract\n",
    "\n",
    "\n",
    "pytesseract.pytesseract.tesseract_cmd = r'C:\\Program Files\\Tesseract-OCR\\tesseract.exe'"
   ]
  },
  {
   "cell_type": "code",
   "execution_count": 10,
   "metadata": {},
   "outputs": [
    {
     "name": "stdout",
     "output_type": "stream",
     "text": [
      "AGUA DOCE CACHACARIA\n",
      "AGUA DOCE FRANCHISING TUPA LTDA EPP\n",
      "\n",
      "RESTAURANTES DE SERV. COMPLETO\n",
      "\n",
      "Fundagao: 1990 / Franchising: 1993\n",
      "Principal Executivo: Delfino Golfeto\n",
      "Unidades Préprias: 1 / Franqueadas: 66\n",
      "Investimento total (R$): 320.000 / 910.000\n",
      "Royalties: 5,00% - Fat. Bruto (loja)\n",
      "\n",
      "Taxa de Publicidade: 1,00% - Fat. Bruto (loja)\n",
      "\n",
      "Faturamento Médio (R$): 160.000 (loja)\n",
      "Prazo de Retorno Médio (meses): 36 a 60 (loja)\n",
      "\n",
      "(14) 3441-2321\n",
      "gerente@aguadoce.com.br\n",
      "www.aguadoce.com.br\n",
      "\n",
      "\n"
     ]
    }
   ],
   "source": [
    "\n",
    "\n",
    "image = cv2.imread('screenshots/xxxxx.png') #Read the image using OpenCV\t\n",
    "text = pytesseract.image_to_string(image) #Extract text using Tesseract\t\n",
    "print(text)"
   ]
  },
  {
   "cell_type": "code",
   "execution_count": null,
   "metadata": {},
   "outputs": [],
   "source": []
  }
 ],
 "metadata": {
  "kernelspec": {
   "display_name": "Python 3",
   "language": "python",
   "name": "python3"
  },
  "language_info": {
   "codemirror_mode": {
    "name": "ipython",
    "version": 3
   },
   "file_extension": ".py",
   "mimetype": "text/x-python",
   "name": "python",
   "nbconvert_exporter": "python",
   "pygments_lexer": "ipython3",
   "version": "3.11.3"
  }
 },
 "nbformat": 4,
 "nbformat_minor": 2
}
