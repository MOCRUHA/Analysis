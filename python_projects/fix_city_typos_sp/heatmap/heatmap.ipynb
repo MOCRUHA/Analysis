{
 "cells": [
  {
   "cell_type": "code",
   "execution_count": 1,
   "metadata": {},
   "outputs": [],
   "source": [
    "import pandas as pd\n",
    "import matplotlib.pyplot as plt\n",
    "\n"
   ]
  },
  {
   "cell_type": "code",
   "execution_count": 2,
   "metadata": {},
   "outputs": [
    {
     "name": "stderr",
     "output_type": "stream",
     "text": [
      "C:\\Users\\gusta\\AppData\\Local\\Temp\\ipykernel_13252\\292791356.py:1: ParserWarning: Falling back to the 'python' engine because the 'c' engine does not support regex separators (separators > 1 char and different from '\\s+' are interpreted as regex); you can avoid this warning by specifying engine='python'.\n",
      "  df = pd.read_csv('latitude-longitude-cidades.csv', sep=\"\\\"*\\\"\")\n"
     ]
    }
   ],
   "source": [
    "df = pd.read_csv('latitude-longitude-cidades.csv', sep=\"\\\"*\\\"\")"
   ]
  },
  {
   "cell_type": "code",
   "execution_count": 3,
   "metadata": {},
   "outputs": [
    {
     "data": {
      "text/html": [
       "<div>\n",
       "<style scoped>\n",
       "    .dataframe tbody tr th:only-of-type {\n",
       "        vertical-align: middle;\n",
       "    }\n",
       "\n",
       "    .dataframe tbody tr th {\n",
       "        vertical-align: top;\n",
       "    }\n",
       "\n",
       "    .dataframe thead th {\n",
       "        text-align: right;\n",
       "    }\n",
       "</style>\n",
       "<table border=\"1\" class=\"dataframe\">\n",
       "  <thead>\n",
       "    <tr style=\"text-align: right;\">\n",
       "      <th></th>\n",
       "      <th>Unnamed: 0</th>\n",
       "      <th>id_municipio;</th>\n",
       "      <th>uf</th>\n",
       "      <th>;</th>\n",
       "      <th>municipio</th>\n",
       "      <th>;.1</th>\n",
       "      <th>longitude</th>\n",
       "      <th>;.2</th>\n",
       "      <th>latitude</th>\n",
       "      <th>Unnamed: 9</th>\n",
       "    </tr>\n",
       "  </thead>\n",
       "  <tbody>\n",
       "    <tr>\n",
       "      <th>0</th>\n",
       "      <td>NaN</td>\n",
       "      <td>2;</td>\n",
       "      <td>AC</td>\n",
       "      <td>;</td>\n",
       "      <td>Acrelândia</td>\n",
       "      <td>;-66.897166;-9.825808</td>\n",
       "      <td>NaN</td>\n",
       "      <td>NaN</td>\n",
       "      <td>NaN</td>\n",
       "      <td>NaN</td>\n",
       "    </tr>\n",
       "    <tr>\n",
       "      <th>1</th>\n",
       "      <td>NaN</td>\n",
       "      <td>3;</td>\n",
       "      <td>AC</td>\n",
       "      <td>;</td>\n",
       "      <td>Assis Brasil</td>\n",
       "      <td>;-69.573794;-10.929765</td>\n",
       "      <td>NaN</td>\n",
       "      <td>NaN</td>\n",
       "      <td>NaN</td>\n",
       "      <td>NaN</td>\n",
       "    </tr>\n",
       "    <tr>\n",
       "      <th>2</th>\n",
       "      <td>NaN</td>\n",
       "      <td>4;</td>\n",
       "      <td>AC</td>\n",
       "      <td>;</td>\n",
       "      <td>Brasiléia</td>\n",
       "      <td>;-68.749696;-10.994994</td>\n",
       "      <td>NaN</td>\n",
       "      <td>NaN</td>\n",
       "      <td>NaN</td>\n",
       "      <td>NaN</td>\n",
       "    </tr>\n",
       "    <tr>\n",
       "      <th>3</th>\n",
       "      <td>NaN</td>\n",
       "      <td>5;</td>\n",
       "      <td>AC</td>\n",
       "      <td>;</td>\n",
       "      <td>Bujari</td>\n",
       "      <td>;-67.955029;-9.815277</td>\n",
       "      <td>NaN</td>\n",
       "      <td>NaN</td>\n",
       "      <td>NaN</td>\n",
       "      <td>NaN</td>\n",
       "    </tr>\n",
       "    <tr>\n",
       "      <th>4</th>\n",
       "      <td>NaN</td>\n",
       "      <td>6;</td>\n",
       "      <td>AC</td>\n",
       "      <td>;</td>\n",
       "      <td>Capixaba</td>\n",
       "      <td>;-67.686006;-10.566031</td>\n",
       "      <td>NaN</td>\n",
       "      <td>NaN</td>\n",
       "      <td>NaN</td>\n",
       "      <td>NaN</td>\n",
       "    </tr>\n",
       "    <tr>\n",
       "      <th>...</th>\n",
       "      <td>...</td>\n",
       "      <td>...</td>\n",
       "      <td>...</td>\n",
       "      <td>...</td>\n",
       "      <td>...</td>\n",
       "      <td>...</td>\n",
       "      <td>...</td>\n",
       "      <td>...</td>\n",
       "      <td>...</td>\n",
       "      <td>...</td>\n",
       "    </tr>\n",
       "    <tr>\n",
       "      <th>5578</th>\n",
       "      <td>NaN</td>\n",
       "      <td>5509;</td>\n",
       "      <td>TO</td>\n",
       "      <td>;</td>\n",
       "      <td>Tocantínia</td>\n",
       "      <td>;-48.374104;-9.563198</td>\n",
       "      <td>NaN</td>\n",
       "      <td>NaN</td>\n",
       "      <td>NaN</td>\n",
       "      <td>NaN</td>\n",
       "    </tr>\n",
       "    <tr>\n",
       "      <th>5579</th>\n",
       "      <td>NaN</td>\n",
       "      <td>5511;</td>\n",
       "      <td>TO</td>\n",
       "      <td>;</td>\n",
       "      <td>Tupirama</td>\n",
       "      <td>;-48.188324;-8.971676</td>\n",
       "      <td>NaN</td>\n",
       "      <td>NaN</td>\n",
       "      <td>NaN</td>\n",
       "      <td>NaN</td>\n",
       "    </tr>\n",
       "    <tr>\n",
       "      <th>5580</th>\n",
       "      <td>NaN</td>\n",
       "      <td>5512;</td>\n",
       "      <td>TO</td>\n",
       "      <td>;</td>\n",
       "      <td>Tupiratins</td>\n",
       "      <td>;-48.127744;-8.39388</td>\n",
       "      <td>NaN</td>\n",
       "      <td>NaN</td>\n",
       "      <td>NaN</td>\n",
       "      <td>NaN</td>\n",
       "    </tr>\n",
       "    <tr>\n",
       "      <th>5581</th>\n",
       "      <td>NaN</td>\n",
       "      <td>5513;</td>\n",
       "      <td>TO</td>\n",
       "      <td>;</td>\n",
       "      <td>Wanderlândia</td>\n",
       "      <td>;-47.96014;-6.852742</td>\n",
       "      <td>NaN</td>\n",
       "      <td>NaN</td>\n",
       "      <td>NaN</td>\n",
       "      <td>NaN</td>\n",
       "    </tr>\n",
       "    <tr>\n",
       "      <th>5582</th>\n",
       "      <td>NaN</td>\n",
       "      <td>5514;</td>\n",
       "      <td>TO</td>\n",
       "      <td>;</td>\n",
       "      <td>Xambioá</td>\n",
       "      <td>;-48.531974;-6.414104</td>\n",
       "      <td>NaN</td>\n",
       "      <td>NaN</td>\n",
       "      <td>NaN</td>\n",
       "      <td>NaN</td>\n",
       "    </tr>\n",
       "  </tbody>\n",
       "</table>\n",
       "<p>5583 rows × 10 columns</p>\n",
       "</div>"
      ],
      "text/plain": [
       "      Unnamed: 0 id_municipio;  uf  ;     municipio                     ;.1   \n",
       "0            NaN            2;  AC  ;    Acrelândia   ;-66.897166;-9.825808  \\\n",
       "1            NaN            3;  AC  ;  Assis Brasil  ;-69.573794;-10.929765   \n",
       "2            NaN            4;  AC  ;     Brasiléia  ;-68.749696;-10.994994   \n",
       "3            NaN            5;  AC  ;        Bujari   ;-67.955029;-9.815277   \n",
       "4            NaN            6;  AC  ;      Capixaba  ;-67.686006;-10.566031   \n",
       "...          ...           ...  .. ..           ...                     ...   \n",
       "5578         NaN         5509;  TO  ;    Tocantínia   ;-48.374104;-9.563198   \n",
       "5579         NaN         5511;  TO  ;      Tupirama   ;-48.188324;-8.971676   \n",
       "5580         NaN         5512;  TO  ;    Tupiratins    ;-48.127744;-8.39388   \n",
       "5581         NaN         5513;  TO  ;  Wanderlândia    ;-47.96014;-6.852742   \n",
       "5582         NaN         5514;  TO  ;       Xambioá   ;-48.531974;-6.414104   \n",
       "\n",
       "      longitude  ;.2  latitude  Unnamed: 9  \n",
       "0           NaN  NaN       NaN         NaN  \n",
       "1           NaN  NaN       NaN         NaN  \n",
       "2           NaN  NaN       NaN         NaN  \n",
       "3           NaN  NaN       NaN         NaN  \n",
       "4           NaN  NaN       NaN         NaN  \n",
       "...         ...  ...       ...         ...  \n",
       "5578        NaN  NaN       NaN         NaN  \n",
       "5579        NaN  NaN       NaN         NaN  \n",
       "5580        NaN  NaN       NaN         NaN  \n",
       "5581        NaN  NaN       NaN         NaN  \n",
       "5582        NaN  NaN       NaN         NaN  \n",
       "\n",
       "[5583 rows x 10 columns]"
      ]
     },
     "execution_count": 3,
     "metadata": {},
     "output_type": "execute_result"
    }
   ],
   "source": [
    "df"
   ]
  },
  {
   "cell_type": "code",
   "execution_count": 4,
   "metadata": {},
   "outputs": [
    {
     "data": {
      "text/html": [
       "<div>\n",
       "<style scoped>\n",
       "    .dataframe tbody tr th:only-of-type {\n",
       "        vertical-align: middle;\n",
       "    }\n",
       "\n",
       "    .dataframe tbody tr th {\n",
       "        vertical-align: top;\n",
       "    }\n",
       "\n",
       "    .dataframe thead th {\n",
       "        text-align: right;\n",
       "    }\n",
       "</style>\n",
       "<table border=\"1\" class=\"dataframe\">\n",
       "  <thead>\n",
       "    <tr style=\"text-align: right;\">\n",
       "      <th></th>\n",
       "      <th>uf</th>\n",
       "      <th>municipio</th>\n",
       "      <th>;.1</th>\n",
       "    </tr>\n",
       "  </thead>\n",
       "  <tbody>\n",
       "    <tr>\n",
       "      <th>0</th>\n",
       "      <td>AC</td>\n",
       "      <td>Acrelândia</td>\n",
       "      <td>;-66.897166;-9.825808</td>\n",
       "    </tr>\n",
       "    <tr>\n",
       "      <th>1</th>\n",
       "      <td>AC</td>\n",
       "      <td>Assis Brasil</td>\n",
       "      <td>;-69.573794;-10.929765</td>\n",
       "    </tr>\n",
       "    <tr>\n",
       "      <th>2</th>\n",
       "      <td>AC</td>\n",
       "      <td>Brasiléia</td>\n",
       "      <td>;-68.749696;-10.994994</td>\n",
       "    </tr>\n",
       "    <tr>\n",
       "      <th>3</th>\n",
       "      <td>AC</td>\n",
       "      <td>Bujari</td>\n",
       "      <td>;-67.955029;-9.815277</td>\n",
       "    </tr>\n",
       "    <tr>\n",
       "      <th>4</th>\n",
       "      <td>AC</td>\n",
       "      <td>Capixaba</td>\n",
       "      <td>;-67.686006;-10.566031</td>\n",
       "    </tr>\n",
       "    <tr>\n",
       "      <th>...</th>\n",
       "      <td>...</td>\n",
       "      <td>...</td>\n",
       "      <td>...</td>\n",
       "    </tr>\n",
       "    <tr>\n",
       "      <th>5578</th>\n",
       "      <td>TO</td>\n",
       "      <td>Tocantínia</td>\n",
       "      <td>;-48.374104;-9.563198</td>\n",
       "    </tr>\n",
       "    <tr>\n",
       "      <th>5579</th>\n",
       "      <td>TO</td>\n",
       "      <td>Tupirama</td>\n",
       "      <td>;-48.188324;-8.971676</td>\n",
       "    </tr>\n",
       "    <tr>\n",
       "      <th>5580</th>\n",
       "      <td>TO</td>\n",
       "      <td>Tupiratins</td>\n",
       "      <td>;-48.127744;-8.39388</td>\n",
       "    </tr>\n",
       "    <tr>\n",
       "      <th>5581</th>\n",
       "      <td>TO</td>\n",
       "      <td>Wanderlândia</td>\n",
       "      <td>;-47.96014;-6.852742</td>\n",
       "    </tr>\n",
       "    <tr>\n",
       "      <th>5582</th>\n",
       "      <td>TO</td>\n",
       "      <td>Xambioá</td>\n",
       "      <td>;-48.531974;-6.414104</td>\n",
       "    </tr>\n",
       "  </tbody>\n",
       "</table>\n",
       "<p>5583 rows × 3 columns</p>\n",
       "</div>"
      ],
      "text/plain": [
       "      uf     municipio                     ;.1\n",
       "0     AC    Acrelândia   ;-66.897166;-9.825808\n",
       "1     AC  Assis Brasil  ;-69.573794;-10.929765\n",
       "2     AC     Brasiléia  ;-68.749696;-10.994994\n",
       "3     AC        Bujari   ;-67.955029;-9.815277\n",
       "4     AC      Capixaba  ;-67.686006;-10.566031\n",
       "...   ..           ...                     ...\n",
       "5578  TO    Tocantínia   ;-48.374104;-9.563198\n",
       "5579  TO      Tupirama   ;-48.188324;-8.971676\n",
       "5580  TO    Tupiratins    ;-48.127744;-8.39388\n",
       "5581  TO  Wanderlândia    ;-47.96014;-6.852742\n",
       "5582  TO       Xambioá   ;-48.531974;-6.414104\n",
       "\n",
       "[5583 rows x 3 columns]"
      ]
     },
     "execution_count": 4,
     "metadata": {},
     "output_type": "execute_result"
    }
   ],
   "source": [
    "df = df.drop(['Unnamed: 0','id_municipio;', ';',\n",
    "       'longitude', ';.2', 'latitude', 'Unnamed: 9'], axis=1)\n",
    "df\n",
    "\n"
   ]
  },
  {
   "cell_type": "code",
   "execution_count": 5,
   "metadata": {},
   "outputs": [],
   "source": [
    "df[['x', 'y','l']] = df[';.1'].str.split(';', expand=True)\n",
    "df = df.drop([ ';.1', 'x'], axis=1)"
   ]
  },
  {
   "cell_type": "code",
   "execution_count": 6,
   "metadata": {},
   "outputs": [
    {
     "data": {
      "text/html": [
       "<div>\n",
       "<style scoped>\n",
       "    .dataframe tbody tr th:only-of-type {\n",
       "        vertical-align: middle;\n",
       "    }\n",
       "\n",
       "    .dataframe tbody tr th {\n",
       "        vertical-align: top;\n",
       "    }\n",
       "\n",
       "    .dataframe thead th {\n",
       "        text-align: right;\n",
       "    }\n",
       "</style>\n",
       "<table border=\"1\" class=\"dataframe\">\n",
       "  <thead>\n",
       "    <tr style=\"text-align: right;\">\n",
       "      <th></th>\n",
       "      <th>uf</th>\n",
       "      <th>municipio</th>\n",
       "      <th>lon</th>\n",
       "      <th>lat</th>\n",
       "    </tr>\n",
       "  </thead>\n",
       "  <tbody>\n",
       "    <tr>\n",
       "      <th>0</th>\n",
       "      <td>AC</td>\n",
       "      <td>Acrelândia</td>\n",
       "      <td>-66.897166</td>\n",
       "      <td>-9.825808</td>\n",
       "    </tr>\n",
       "    <tr>\n",
       "      <th>1</th>\n",
       "      <td>AC</td>\n",
       "      <td>Assis Brasil</td>\n",
       "      <td>-69.573794</td>\n",
       "      <td>-10.929765</td>\n",
       "    </tr>\n",
       "    <tr>\n",
       "      <th>2</th>\n",
       "      <td>AC</td>\n",
       "      <td>Brasiléia</td>\n",
       "      <td>-68.749696</td>\n",
       "      <td>-10.994994</td>\n",
       "    </tr>\n",
       "    <tr>\n",
       "      <th>3</th>\n",
       "      <td>AC</td>\n",
       "      <td>Bujari</td>\n",
       "      <td>-67.955029</td>\n",
       "      <td>-9.815277</td>\n",
       "    </tr>\n",
       "    <tr>\n",
       "      <th>4</th>\n",
       "      <td>AC</td>\n",
       "      <td>Capixaba</td>\n",
       "      <td>-67.686006</td>\n",
       "      <td>-10.566031</td>\n",
       "    </tr>\n",
       "    <tr>\n",
       "      <th>...</th>\n",
       "      <td>...</td>\n",
       "      <td>...</td>\n",
       "      <td>...</td>\n",
       "      <td>...</td>\n",
       "    </tr>\n",
       "    <tr>\n",
       "      <th>5578</th>\n",
       "      <td>TO</td>\n",
       "      <td>Tocantínia</td>\n",
       "      <td>-48.374104</td>\n",
       "      <td>-9.563198</td>\n",
       "    </tr>\n",
       "    <tr>\n",
       "      <th>5579</th>\n",
       "      <td>TO</td>\n",
       "      <td>Tupirama</td>\n",
       "      <td>-48.188324</td>\n",
       "      <td>-8.971676</td>\n",
       "    </tr>\n",
       "    <tr>\n",
       "      <th>5580</th>\n",
       "      <td>TO</td>\n",
       "      <td>Tupiratins</td>\n",
       "      <td>-48.127744</td>\n",
       "      <td>-8.39388</td>\n",
       "    </tr>\n",
       "    <tr>\n",
       "      <th>5581</th>\n",
       "      <td>TO</td>\n",
       "      <td>Wanderlândia</td>\n",
       "      <td>-47.96014</td>\n",
       "      <td>-6.852742</td>\n",
       "    </tr>\n",
       "    <tr>\n",
       "      <th>5582</th>\n",
       "      <td>TO</td>\n",
       "      <td>Xambioá</td>\n",
       "      <td>-48.531974</td>\n",
       "      <td>-6.414104</td>\n",
       "    </tr>\n",
       "  </tbody>\n",
       "</table>\n",
       "<p>5583 rows × 4 columns</p>\n",
       "</div>"
      ],
      "text/plain": [
       "      uf     municipio         lon         lat\n",
       "0     AC    Acrelândia  -66.897166   -9.825808\n",
       "1     AC  Assis Brasil  -69.573794  -10.929765\n",
       "2     AC     Brasiléia  -68.749696  -10.994994\n",
       "3     AC        Bujari  -67.955029   -9.815277\n",
       "4     AC      Capixaba  -67.686006  -10.566031\n",
       "...   ..           ...         ...         ...\n",
       "5578  TO    Tocantínia  -48.374104   -9.563198\n",
       "5579  TO      Tupirama  -48.188324   -8.971676\n",
       "5580  TO    Tupiratins  -48.127744    -8.39388\n",
       "5581  TO  Wanderlândia   -47.96014   -6.852742\n",
       "5582  TO       Xambioá  -48.531974   -6.414104\n",
       "\n",
       "[5583 rows x 4 columns]"
      ]
     },
     "execution_count": 6,
     "metadata": {},
     "output_type": "execute_result"
    }
   ],
   "source": [
    "\n",
    "df = df.rename(columns={'y': 'lon', 'l': 'lat'})\n",
    "df"
   ]
  },
  {
   "cell_type": "code",
   "execution_count": 7,
   "metadata": {},
   "outputs": [],
   "source": [
    "df = df.set_index('uf')"
   ]
  },
  {
   "cell_type": "code",
   "execution_count": 8,
   "metadata": {},
   "outputs": [],
   "source": [
    "df_sp = df.drop(['AC', 'AL', 'AM', 'AP', 'BA', 'CE', 'DF', 'ES', 'GO', 'MA', 'MG', 'MS',\n",
    "       'MT', 'PA', 'PB', 'PE', 'PI', 'PR', 'RJ', 'RN', 'RO', 'RR', 'RS', 'SC',\n",
    "       'SE', 'TO'])"
   ]
  },
  {
   "cell_type": "code",
   "execution_count": 9,
   "metadata": {},
   "outputs": [
    {
     "data": {
      "text/html": [
       "<div>\n",
       "<style scoped>\n",
       "    .dataframe tbody tr th:only-of-type {\n",
       "        vertical-align: middle;\n",
       "    }\n",
       "\n",
       "    .dataframe tbody tr th {\n",
       "        vertical-align: top;\n",
       "    }\n",
       "\n",
       "    .dataframe thead th {\n",
       "        text-align: right;\n",
       "    }\n",
       "</style>\n",
       "<table border=\"1\" class=\"dataframe\">\n",
       "  <thead>\n",
       "    <tr style=\"text-align: right;\">\n",
       "      <th></th>\n",
       "      <th>municipio</th>\n",
       "      <th>lon</th>\n",
       "      <th>lat</th>\n",
       "    </tr>\n",
       "    <tr>\n",
       "      <th>uf</th>\n",
       "      <th></th>\n",
       "      <th></th>\n",
       "      <th></th>\n",
       "    </tr>\n",
       "  </thead>\n",
       "  <tbody>\n",
       "    <tr>\n",
       "      <th>SP</th>\n",
       "      <td>ADAMANTINA</td>\n",
       "      <td>-51.073695</td>\n",
       "      <td>-21.682012</td>\n",
       "    </tr>\n",
       "    <tr>\n",
       "      <th>SP</th>\n",
       "      <td>ADOLFO</td>\n",
       "      <td>-49.645128</td>\n",
       "      <td>-21.232494</td>\n",
       "    </tr>\n",
       "    <tr>\n",
       "      <th>SP</th>\n",
       "      <td>AGUAÍ</td>\n",
       "      <td>-46.973502</td>\n",
       "      <td>-22.057207</td>\n",
       "    </tr>\n",
       "    <tr>\n",
       "      <th>SP</th>\n",
       "      <td>AGUDOS</td>\n",
       "      <td>-48.98632</td>\n",
       "      <td>-22.469433</td>\n",
       "    </tr>\n",
       "    <tr>\n",
       "      <th>SP</th>\n",
       "      <td>ALAMBARI</td>\n",
       "      <td>-47.897971</td>\n",
       "      <td>-23.550338</td>\n",
       "    </tr>\n",
       "    <tr>\n",
       "      <th>...</th>\n",
       "      <td>...</td>\n",
       "      <td>...</td>\n",
       "      <td>...</td>\n",
       "    </tr>\n",
       "    <tr>\n",
       "      <th>SP</th>\n",
       "      <td>ÁGUAS DE SÃO PEDRO</td>\n",
       "      <td>-47.873395</td>\n",
       "      <td>-22.597749</td>\n",
       "    </tr>\n",
       "    <tr>\n",
       "      <th>SP</th>\n",
       "      <td>ÁLVARES FLORENCE</td>\n",
       "      <td>-49.914126</td>\n",
       "      <td>-20.320341</td>\n",
       "    </tr>\n",
       "    <tr>\n",
       "      <th>SP</th>\n",
       "      <td>ÁLVARES MACHADO</td>\n",
       "      <td>-51.47224</td>\n",
       "      <td>-22.076415</td>\n",
       "    </tr>\n",
       "    <tr>\n",
       "      <th>SP</th>\n",
       "      <td>ÁLVARO DE CARVALHO</td>\n",
       "      <td>-49.719044</td>\n",
       "      <td>-22.084132</td>\n",
       "    </tr>\n",
       "    <tr>\n",
       "      <th>SP</th>\n",
       "      <td>ÓLEO</td>\n",
       "      <td>-49.341924</td>\n",
       "      <td>-22.943461</td>\n",
       "    </tr>\n",
       "  </tbody>\n",
       "</table>\n",
       "<p>645 rows × 3 columns</p>\n",
       "</div>"
      ],
      "text/plain": [
       "             municipio         lon         lat\n",
       "uf                                            \n",
       "SP          ADAMANTINA  -51.073695  -21.682012\n",
       "SP              ADOLFO  -49.645128  -21.232494\n",
       "SP               AGUAÍ  -46.973502  -22.057207\n",
       "SP              AGUDOS   -48.98632  -22.469433\n",
       "SP            ALAMBARI  -47.897971  -23.550338\n",
       "..                 ...         ...         ...\n",
       "SP  ÁGUAS DE SÃO PEDRO  -47.873395  -22.597749\n",
       "SP    ÁLVARES FLORENCE  -49.914126  -20.320341\n",
       "SP     ÁLVARES MACHADO   -51.47224  -22.076415\n",
       "SP  ÁLVARO DE CARVALHO  -49.719044  -22.084132\n",
       "SP                ÓLEO  -49.341924  -22.943461\n",
       "\n",
       "[645 rows x 3 columns]"
      ]
     },
     "execution_count": 9,
     "metadata": {},
     "output_type": "execute_result"
    }
   ],
   "source": [
    "df_sp['municipio'] = df_sp['municipio'].str.upper()\n",
    "df_sp"
   ]
  },
  {
   "cell_type": "code",
   "execution_count": 10,
   "metadata": {},
   "outputs": [],
   "source": [
    "res = pd.read_csv('resultado.txt', header=None)"
   ]
  },
  {
   "cell_type": "code",
   "execution_count": 11,
   "metadata": {},
   "outputs": [],
   "source": [
    "res[['x','y','cidade', 'uf']] = res[0].str.split('-', expand=True)"
   ]
  },
  {
   "cell_type": "code",
   "execution_count": 12,
   "metadata": {},
   "outputs": [],
   "source": [
    "res = res.drop([0, 'cidade', 'uf'], axis=1)\n"
   ]
  },
  {
   "cell_type": "code",
   "execution_count": 13,
   "metadata": {},
   "outputs": [
    {
     "data": {
      "text/html": [
       "<div>\n",
       "<style scoped>\n",
       "    .dataframe tbody tr th:only-of-type {\n",
       "        vertical-align: middle;\n",
       "    }\n",
       "\n",
       "    .dataframe tbody tr th {\n",
       "        vertical-align: top;\n",
       "    }\n",
       "\n",
       "    .dataframe thead th {\n",
       "        text-align: right;\n",
       "    }\n",
       "</style>\n",
       "<table border=\"1\" class=\"dataframe\">\n",
       "  <thead>\n",
       "    <tr style=\"text-align: right;\">\n",
       "      <th></th>\n",
       "      <th>city</th>\n",
       "      <th>uf</th>\n",
       "    </tr>\n",
       "  </thead>\n",
       "  <tbody>\n",
       "    <tr>\n",
       "      <th>0</th>\n",
       "      <td>SÃO PEDRO</td>\n",
       "      <td>SP</td>\n",
       "    </tr>\n",
       "    <tr>\n",
       "      <th>1</th>\n",
       "      <td>OSASCO</td>\n",
       "      <td>SP</td>\n",
       "    </tr>\n",
       "    <tr>\n",
       "      <th>2</th>\n",
       "      <td>PIUMA</td>\n",
       "      <td>ES</td>\n",
       "    </tr>\n",
       "    <tr>\n",
       "      <th>3</th>\n",
       "      <td>CARATINGA</td>\n",
       "      <td>MG</td>\n",
       "    </tr>\n",
       "    <tr>\n",
       "      <th>4</th>\n",
       "      <td>FLORIANOPOLIS</td>\n",
       "      <td>SC</td>\n",
       "    </tr>\n",
       "    <tr>\n",
       "      <th>...</th>\n",
       "      <td>...</td>\n",
       "      <td>...</td>\n",
       "    </tr>\n",
       "    <tr>\n",
       "      <th>3216</th>\n",
       "      <td>ESPIRITO SANTO</td>\n",
       "      <td>SP</td>\n",
       "    </tr>\n",
       "    <tr>\n",
       "      <th>3217</th>\n",
       "      <td>SÃO PAULO</td>\n",
       "      <td>SP</td>\n",
       "    </tr>\n",
       "    <tr>\n",
       "      <th>3218</th>\n",
       "      <td>SANTA ROSA</td>\n",
       "      <td>RS</td>\n",
       "    </tr>\n",
       "    <tr>\n",
       "      <th>3219</th>\n",
       "      <td>ARAGUARI</td>\n",
       "      <td>MG</td>\n",
       "    </tr>\n",
       "    <tr>\n",
       "      <th>3220</th>\n",
       "      <td>SANTA BÁRBARA D</td>\n",
       "      <td>SP</td>\n",
       "    </tr>\n",
       "  </tbody>\n",
       "</table>\n",
       "<p>3221 rows × 2 columns</p>\n",
       "</div>"
      ],
      "text/plain": [
       "                 city  uf\n",
       "0          SÃO PEDRO   SP\n",
       "1              OSASCO  SP\n",
       "2               PIUMA  ES\n",
       "3           CARATINGA  MG\n",
       "4       FLORIANOPOLIS  SC\n",
       "...               ...  ..\n",
       "3216  ESPIRITO SANTO   SP\n",
       "3217       SÃO PAULO   SP\n",
       "3218       SANTA ROSA  RS\n",
       "3219         ARAGUARI  MG\n",
       "3220  SANTA BÁRBARA D  SP\n",
       "\n",
       "[3221 rows x 2 columns]"
      ]
     },
     "execution_count": 13,
     "metadata": {},
     "output_type": "execute_result"
    }
   ],
   "source": [
    "res = res.rename(columns={'x': 'city', 'y': 'uf'})\n",
    "res"
   ]
  },
  {
   "cell_type": "code",
   "execution_count": 14,
   "metadata": {},
   "outputs": [
    {
     "data": {
      "text/html": [
       "<div>\n",
       "<style scoped>\n",
       "    .dataframe tbody tr th:only-of-type {\n",
       "        vertical-align: middle;\n",
       "    }\n",
       "\n",
       "    .dataframe tbody tr th {\n",
       "        vertical-align: top;\n",
       "    }\n",
       "\n",
       "    .dataframe thead th {\n",
       "        text-align: right;\n",
       "    }\n",
       "</style>\n",
       "<table border=\"1\" class=\"dataframe\">\n",
       "  <thead>\n",
       "    <tr style=\"text-align: right;\">\n",
       "      <th></th>\n",
       "      <th>city</th>\n",
       "    </tr>\n",
       "    <tr>\n",
       "      <th>uf</th>\n",
       "      <th></th>\n",
       "    </tr>\n",
       "  </thead>\n",
       "  <tbody>\n",
       "    <tr>\n",
       "      <th>SP</th>\n",
       "      <td>SÃO PEDRO</td>\n",
       "    </tr>\n",
       "    <tr>\n",
       "      <th>SP</th>\n",
       "      <td>OSASCO</td>\n",
       "    </tr>\n",
       "    <tr>\n",
       "      <th>ES</th>\n",
       "      <td>PIUMA</td>\n",
       "    </tr>\n",
       "    <tr>\n",
       "      <th>MG</th>\n",
       "      <td>CARATINGA</td>\n",
       "    </tr>\n",
       "    <tr>\n",
       "      <th>SC</th>\n",
       "      <td>FLORIANOPOLIS</td>\n",
       "    </tr>\n",
       "    <tr>\n",
       "      <th>...</th>\n",
       "      <td>...</td>\n",
       "    </tr>\n",
       "    <tr>\n",
       "      <th>SP</th>\n",
       "      <td>ESPIRITO SANTO</td>\n",
       "    </tr>\n",
       "    <tr>\n",
       "      <th>SP</th>\n",
       "      <td>SÃO PAULO</td>\n",
       "    </tr>\n",
       "    <tr>\n",
       "      <th>RS</th>\n",
       "      <td>SANTA ROSA</td>\n",
       "    </tr>\n",
       "    <tr>\n",
       "      <th>MG</th>\n",
       "      <td>ARAGUARI</td>\n",
       "    </tr>\n",
       "    <tr>\n",
       "      <th>SP</th>\n",
       "      <td>SANTA BÁRBARA D</td>\n",
       "    </tr>\n",
       "  </tbody>\n",
       "</table>\n",
       "<p>3221 rows × 1 columns</p>\n",
       "</div>"
      ],
      "text/plain": [
       "               city\n",
       "uf                 \n",
       "SP       SÃO PEDRO \n",
       "SP           OSASCO\n",
       "ES            PIUMA\n",
       "MG        CARATINGA\n",
       "SC    FLORIANOPOLIS\n",
       "..              ...\n",
       "SP  ESPIRITO SANTO \n",
       "SP       SÃO PAULO \n",
       "RS       SANTA ROSA\n",
       "MG         ARAGUARI\n",
       "SP  SANTA BÁRBARA D\n",
       "\n",
       "[3221 rows x 1 columns]"
      ]
     },
     "execution_count": 14,
     "metadata": {},
     "output_type": "execute_result"
    }
   ],
   "source": [
    "res = res.set_index('uf')\n",
    "res"
   ]
  },
  {
   "cell_type": "code",
   "execution_count": 15,
   "metadata": {},
   "outputs": [],
   "source": [
    "res_sp = res.drop(['AC', 'AL', 'AM', 'AP', 'BA', 'CE', 'DF', 'ES', 'GO', 'MA', 'MG', 'MS',\n",
    "       'MT', 'PA', 'PB', 'PE', 'PI', 'PR', 'RJ', 'RN', 'RO', 'RR', 'RS', 'SC',\n",
    "       'SE', 'TO'])"
   ]
  },
  {
   "cell_type": "code",
   "execution_count": 16,
   "metadata": {},
   "outputs": [
    {
     "data": {
      "text/html": [
       "<div>\n",
       "<style scoped>\n",
       "    .dataframe tbody tr th:only-of-type {\n",
       "        vertical-align: middle;\n",
       "    }\n",
       "\n",
       "    .dataframe tbody tr th {\n",
       "        vertical-align: top;\n",
       "    }\n",
       "\n",
       "    .dataframe thead th {\n",
       "        text-align: right;\n",
       "    }\n",
       "</style>\n",
       "<table border=\"1\" class=\"dataframe\">\n",
       "  <thead>\n",
       "    <tr style=\"text-align: right;\">\n",
       "      <th></th>\n",
       "      <th>city</th>\n",
       "    </tr>\n",
       "    <tr>\n",
       "      <th>uf</th>\n",
       "      <th></th>\n",
       "    </tr>\n",
       "  </thead>\n",
       "  <tbody>\n",
       "    <tr>\n",
       "      <th>SP</th>\n",
       "      <td>SÃO PEDRO</td>\n",
       "    </tr>\n",
       "    <tr>\n",
       "      <th>SP</th>\n",
       "      <td>OSASCO</td>\n",
       "    </tr>\n",
       "    <tr>\n",
       "      <th>SP</th>\n",
       "      <td>FERRAZ DE VASCO</td>\n",
       "    </tr>\n",
       "    <tr>\n",
       "      <th>SP</th>\n",
       "      <td>ITATIBA</td>\n",
       "    </tr>\n",
       "    <tr>\n",
       "      <th>SP</th>\n",
       "      <td>SÃO PAULO</td>\n",
       "    </tr>\n",
       "    <tr>\n",
       "      <th>...</th>\n",
       "      <td>...</td>\n",
       "    </tr>\n",
       "    <tr>\n",
       "      <th>SP</th>\n",
       "      <td>SÃO PAULO</td>\n",
       "    </tr>\n",
       "    <tr>\n",
       "      <th>SP</th>\n",
       "      <td>PIRACICABA</td>\n",
       "    </tr>\n",
       "    <tr>\n",
       "      <th>SP</th>\n",
       "      <td>ESPIRITO SANTO</td>\n",
       "    </tr>\n",
       "    <tr>\n",
       "      <th>SP</th>\n",
       "      <td>SÃO PAULO</td>\n",
       "    </tr>\n",
       "    <tr>\n",
       "      <th>SP</th>\n",
       "      <td>SANTA BÁRBARA D</td>\n",
       "    </tr>\n",
       "  </tbody>\n",
       "</table>\n",
       "<p>1930 rows × 1 columns</p>\n",
       "</div>"
      ],
      "text/plain": [
       "               city\n",
       "uf                 \n",
       "SP       SÃO PEDRO \n",
       "SP           OSASCO\n",
       "SP  FERRAZ DE VASCO\n",
       "SP          ITATIBA\n",
       "SP        SÃO PAULO\n",
       "..              ...\n",
       "SP        SÃO PAULO\n",
       "SP       PIRACICABA\n",
       "SP  ESPIRITO SANTO \n",
       "SP       SÃO PAULO \n",
       "SP  SANTA BÁRBARA D\n",
       "\n",
       "[1930 rows x 1 columns]"
      ]
     },
     "execution_count": 16,
     "metadata": {},
     "output_type": "execute_result"
    }
   ],
   "source": [
    "res_sp"
   ]
  },
  {
   "cell_type": "code",
   "execution_count": 17,
   "metadata": {},
   "outputs": [],
   "source": [
    "from difflib import SequenceMatcher as sm\n"
   ]
  },
  {
   "cell_type": "code",
   "execution_count": 18,
   "metadata": {},
   "outputs": [],
   "source": [
    "pairs = {}\n",
    "def busca_city (typo, reference ):\n",
    "    for city in reference:\n",
    "        match = sm(None, city, typo).ratio()\n",
    "        pairs[city] = match\n",
    "    rat = pd.Series(pairs).sort_values(ascending=False)\n",
    "    \n",
    "    \n",
    "    return rat.index[0]"
   ]
  },
  {
   "cell_type": "code",
   "execution_count": 19,
   "metadata": {},
   "outputs": [],
   "source": [
    "to_fix = pd.Series(res_sp['city'])\n",
    "ref = pd.Series(df_sp['municipio'])"
   ]
  },
  {
   "cell_type": "code",
   "execution_count": 20,
   "metadata": {},
   "outputs": [
    {
     "name": "stdout",
     "output_type": "stream",
     "text": [
      "SÃO PEDRO\n",
      "OSASCO\n",
      "FERRAZ DE VASCONCELOS\n",
      "ITATIBA\n",
      "SÃO PAULO\n",
      "SÃO PAULO\n",
      "ARAÇATUBA\n",
      "MARÍLIA\n",
      "JUNDIAÍ\n",
      "SÃO PAULO\n",
      "SÃO PAULO\n",
      "ATIBAIA\n",
      "SÃO PAULO\n",
      "SÃO PAULO\n",
      "BOM JESUS DOS PERDÕES\n",
      "SÃO PAULO\n",
      "SÃO PAULO\n",
      "ARAÇATUBA\n",
      "SANTOS\n",
      "HORTOLÂNDIA\n",
      "CATANDUVA\n",
      "GUARULHOS\n",
      "SÃO PEDRO\n",
      "MARÍLIA\n",
      "BROTAS\n",
      "ATIBAIA\n",
      "SANTO ANDRÉ\n",
      "SANTO ANDRÉ\n",
      "RIBEIRÃO PRETO\n",
      "DIADEMA\n",
      "SÃO BERNARDO DO CAMPO\n",
      "SÃO PAULO\n",
      "DIADEMA\n",
      "SÃO PAULO\n",
      "RIBEIRÃO PRETO\n",
      "SÃO PAULO\n",
      "MARÍLIA\n",
      "SÃO PAULO\n",
      "SÃO VICENTE\n",
      "SÃO PAULO\n",
      "SÃO PAULO\n",
      "SÃO JOSÉ DOS CAMPOS\n",
      "SALTO\n",
      "SÃO PAULO\n",
      "SÃO PAULO\n",
      "SANTO ANDRÉ\n",
      "SÃO PAULO\n",
      "SÃO PAULO\n",
      "SÃO PAULO\n",
      "SÃO BERNARDO DO CAMPO\n",
      "MONTE MOR\n",
      "SÃO PAULO\n",
      "SÃO PAULO\n",
      "OSASCO\n",
      "EMBU-GUAÇU\n",
      "SÃO PAULO\n",
      "SÃO PAULO\n",
      "SÃO PAULO\n",
      "SANTO ANDRÉ\n",
      "GUARULHOS\n",
      "SÃO JOSÉ DO BARREIRO\n",
      "SÃO PAULO\n",
      "PORTO FERREIRA\n",
      "SÃO BERNARDO DO CAMPO\n",
      "PIRACICABA\n",
      "SANTA BÁRBARA D`OESTE\n",
      "MOGI MIRIM\n",
      "OSASCO\n",
      "SÃO PAULO\n",
      "OSASCO\n",
      "SÃO PAULO\n",
      "SÃO PAULO\n",
      "SÃO PAULO\n",
      "DIADEMA\n",
      "MAUÁ\n",
      "SOROCABA\n",
      "SÃO PAULO\n",
      "SUZANO\n",
      "SOROCABA\n",
      "SÃO PAULO\n",
      "SÃO PAULO\n",
      "ITATIBA\n",
      "SÃO PAULO\n",
      "SOROCABA\n",
      "GUARULHOS\n",
      "CATANDUVA\n",
      "SUMARÉ\n",
      "SÃO PAULO\n",
      "SÃO PAULO\n",
      "SANTO ANDRÉ\n",
      "GUARULHOS\n",
      "SÃO PAULO\n",
      "SÃO PAULO\n",
      "CAMPINAS\n",
      "SÃO PAULO\n",
      "SÃO PAULO\n",
      "SÃO PAULO\n",
      "SÃO PAULO\n",
      "SÃO PAULO\n",
      "BARUERI\n",
      "OSASCO\n",
      "SÃO CAETANO DO SUL\n",
      "CERQUILHO\n",
      "TATUÍ\n",
      "COTIA\n",
      "CAMPINAS\n",
      "SÃO PAULO\n",
      "SÃO PAULO\n",
      "FERNANDÓPOLIS\n",
      "SÃO PAULO\n",
      "SÃO PAULO\n",
      "SÃO PAULO\n",
      "SERTÃOZINHO\n",
      "CAMPINAS\n",
      "CAMPINAS\n",
      "SÃO PAULO\n",
      "SÃO PAULO\n",
      "SÃO PAULO\n",
      "CAMPINAS\n",
      "SÃO PAULO\n",
      "SÃO PAULO\n",
      "SÃO PAULO\n",
      "SÃO PAULO\n",
      "SÃO PAULO\n",
      "ATIBAIA\n",
      "PIRASSUNUNGA\n",
      "SÃO PAULO\n",
      "FERNANDÓPOLIS\n",
      "SÃO PAULO\n",
      "PINHALZINHO\n",
      "ARUJÁ\n",
      "CORDEIRÓPOLIS\n",
      "RIBEIRÃO PRETO\n",
      "GUARATINGUETÁ\n",
      "ARARAS\n",
      "SÃO ROQUE\n",
      "DIADEMA\n",
      "SÃO PAULO\n",
      "SÃO PAULO\n",
      "SÃO PAULO\n",
      "GUARULHOS\n",
      "RIO GRANDE DA SERRA\n",
      "SANTO ANDRÉ\n",
      "DIADEMA\n",
      "PAULÍNIA\n",
      "MAUÁ\n",
      "SANTO ANDRÉ\n",
      "SÃO CAETANO DO SUL\n",
      "ARUJÁ\n",
      "OSASCO\n",
      "SÃO PAULO\n",
      "SÃO PAULO\n",
      "SÃO PAULO\n",
      "SÃO BERNARDO DO CAMPO\n",
      "SÃO PAULO\n",
      "VOTORANTIM\n",
      "SÃO BERNARDO DO CAMPO\n",
      "SÃO PAULO\n",
      "PITANGUEIRAS\n",
      "ITATIBA\n",
      "SÃO PAULO\n",
      "SANTO ANDRÉ\n",
      "ATIBAIA\n",
      "SANTO ANDRÉ\n",
      "MAUÁ\n",
      "SÃO PAULO\n",
      "SÃO PAULO\n",
      "SÃO CAETANO DO SUL\n",
      "SÃO PAULO\n",
      "SÃO PAULO\n",
      "GUARULHOS\n",
      "SANTO ANDRÉ\n",
      "SÃO PAULO\n",
      "SÃO PAULO\n",
      "SÃO CAETANO DO SUL\n",
      "SÃO PAULO\n",
      "SÃO PAULO\n",
      "DIADEMA\n",
      "SÃO PAULO\n",
      "SÃO PAULO\n",
      "SÃO PAULO\n",
      "RIO CLARO\n",
      "SÃO PAULO\n",
      "AMERICANA\n",
      "SÃO PAULO\n",
      "SÃO PAULO\n",
      "SÃO BERNARDO DO CAMPO\n",
      "FRANCA\n",
      "SÃO PAULO\n",
      "LORENA\n",
      "SÃO PAULO\n",
      "BRAGANÇA PAULISTA\n",
      "RIBEIRÃO PRETO\n",
      "MAUÁ\n",
      "LIMEIRA\n",
      "BARRA BONITA\n",
      "MAUÁ\n",
      "MATÃO\n",
      "ITAPECERICA DA SERRA\n",
      "SOROCABA\n",
      "SÃO PAULO\n",
      "SÃO PAULO\n",
      "OSASCO\n",
      "CAMPINA DO MONTE ALEGRE\n",
      "SÃO JOSÉ DO BARREIRO\n",
      "VINHEDO\n",
      "VÁRZEA PAULISTA\n",
      "BRAGANÇA PAULISTA\n",
      "GUARULHOS\n",
      "INDAIATUBA\n",
      "SANTO ANDRÉ\n",
      "BIRIGUI\n",
      "ARARAQUARA\n",
      "JAGUARIÚNA\n",
      "SÃO CARLOS\n",
      "CAMPINAS\n",
      "MOGI DAS CRUZES\n",
      "ITAPECERICA DA SERRA\n",
      "SÃO PAULO\n",
      "BRAGANÇA PAULISTA\n",
      "MAUÁ\n",
      "SÃO BERNARDO DO CAMPO\n",
      "CUBATÃO\n",
      "SÃO BERNARDO DO CAMPO\n",
      "DIADEMA\n",
      "SÃO PAULO\n",
      "SÃO PAULO\n",
      "SÃO PAULO\n",
      "DIADEMA\n",
      "SÃO PAULO\n",
      "BARRINHA\n",
      "POÁ\n",
      "DIADEMA\n",
      "TATUÍ\n",
      "SÃO BERNARDO DO CAMPO\n",
      "FRANCA\n",
      "SÃO PAULO\n",
      "SÃO PAULO\n",
      "PRAIA GRANDE\n",
      "SÃO PAULO\n",
      "SOROCABA\n",
      "SÃO PAULO\n",
      "ARARAS\n",
      "SÃO PAULO\n",
      "OSASCO\n",
      "MAIRINQUE\n",
      "ITU\n",
      "AMERICANA\n",
      "CAMPINAS\n",
      "AMERICANA\n",
      "SÃO PAULO\n",
      "PORTO FELIZ\n",
      "SÃO PAULO\n",
      "CAMPINAS\n",
      "SANTO ANDRÉ\n",
      "SÃO PAULO\n",
      "SÃO PAULO\n",
      "SUZANO\n",
      "SÃO PAULO\n",
      "RIBEIRÃO PIRES\n",
      "SERTÃOZINHO\n",
      "RIO CLARO\n",
      "LIMEIRA\n",
      "VOTUPORANGA\n",
      "SÃO PAULO\n",
      "COTIA\n",
      "RIBEIRÃO PRETO\n",
      "SÃO PAULO\n",
      "SÃO PAULO\n",
      "PRESIDENTE PRUDENTE\n",
      "RIBEIRÃO PRETO\n",
      "SÃO PAULO\n",
      "BARRETOS\n",
      "MARÍLIA\n",
      "VOTUPORANGA\n",
      "VALPARAÍSO\n",
      "SÃO JOSÉ DO BARREIRO\n",
      "SÃO PAULO\n",
      "SUMARÉ\n",
      "SÃO PAULO\n",
      "MAUÁ\n",
      "MAUÁ\n",
      "MAUÁ\n",
      "SÃO PAULO\n",
      "ARAÇATUBA\n",
      "JUNDIAÍ\n",
      "ESPÍRITO SANTO DO TURVO\n",
      "AVARÉ\n",
      "SÃO PAULO\n",
      "SÃO PAULO\n",
      "BRAGANÇA PAULISTA\n",
      "CAMPINAS\n",
      "MAUÁ\n",
      "BAURU\n",
      "LINS\n",
      "ARAÇATUBA\n",
      "BEBEDOURO\n",
      "FRANCA\n",
      "FRANCA\n",
      "GUARUJÁ\n",
      "SÃO PAULO\n",
      "MATÃO\n",
      "SÃO PAULO\n",
      "OSASCO\n",
      "SANTO ANDRÉ\n",
      "FERNANDÓPOLIS\n",
      "JUNQUEIRÓPOLIS\n",
      "PRESIDENTE PRUDENTE\n",
      "LEME\n",
      "GUARULHOS\n",
      "ITATIBA\n",
      "BOITUVA\n",
      "SÃO PAULO\n",
      "SÃO BERNARDO DO CAMPO\n",
      "AGUDOS\n",
      "SÃO JOÃO DA BOA VISTA\n",
      "SÃO PAULO\n",
      "SÃO BERNARDO DO CAMPO\n",
      "COTIA\n",
      "SÃO PAULO\n",
      "BEBEDOURO\n",
      "TABOÃO DA SERRA\n",
      "JALES\n",
      "CATANDUVA\n",
      "SÃO PAULO\n",
      "LIMEIRA\n",
      "SÃO PAULO\n",
      "SÃO PAULO\n",
      "SÃO BERNARDO DO CAMPO\n",
      "SÃO PAULO\n",
      "OSASCO\n",
      "SÃO PAULO\n",
      "SÃO PAULO\n",
      "MAUÁ\n",
      "MAUÁ\n",
      "MAUÁ\n",
      "MAUÁ\n",
      "SÃO PAULO\n",
      "MOGI DAS CRUZES\n",
      "DOURADO\n",
      "SÃO PAULO\n",
      "BARRINHA\n",
      "PERUÍBE\n",
      "SÃO PAULO\n",
      "SANTA BÁRBARA D`OESTE\n",
      "SÃO CARLOS\n",
      "MATÃO\n",
      "CERQUILHO\n",
      "SÃO PAULO\n",
      "SÃO PAULO\n",
      "SÃO PAULO\n",
      "SÃO PAULO\n",
      "PAULÍNIA\n",
      "SÃO PAULO\n",
      "SUZANO\n",
      "SÃO PAULO\n",
      "SANTO ANDRÉ\n",
      "SÃO PAULO\n",
      "RIBEIRÃO PIRES\n",
      "MOGI DAS CRUZES\n",
      "SÃO PAULO\n",
      "TAUBATÉ\n",
      "SÃO PAULO\n",
      "SÃO PAULO\n",
      "SÃO PAULO\n",
      "SÃO PAULO\n",
      "ITAPEVI\n",
      "SÃO PAULO\n",
      "SÃO PAULO\n",
      "SANTOS\n",
      "BARUERI\n",
      "SÃO PAULO\n",
      "SÃO PAULO\n",
      "SUMARÉ\n",
      "JUNDIAÍ\n",
      "AMERICANA\n",
      "SÃO PAULO\n",
      "AMERICANA\n",
      "ITAPEVI\n",
      "AMERICANA\n",
      "SÃO PAULO\n",
      "CAMPINAS\n",
      "SÃO PAULO\n",
      "SÃO PAULO\n",
      "PIRACICABA\n",
      "CORDEIRÓPOLIS\n",
      "SALTO\n",
      "SALTO\n",
      "SÃO PAULO\n",
      "SÃO PAULO\n",
      "SÃO PAULO\n",
      "SÃO BERNARDO DO CAMPO\n",
      "SÃO PAULO\n",
      "CAMPINAS\n",
      "SANTA BÁRBARA D`OESTE\n",
      "BOITUVA\n",
      "CAMPINAS\n",
      "SÃO PAULO\n",
      "ARARAS\n",
      "SÃO PAULO\n",
      "PIRASSUNUNGA\n",
      "SÃO BERNARDO DO CAMPO\n",
      "SÃO PAULO\n",
      "SANTO ANDRÉ\n",
      "SOROCABA\n",
      "ITATIBA\n",
      "SÃO PAULO\n",
      "SÃO PAULO\n",
      "SÃO PAULO\n",
      "SÃO PAULO\n",
      "TORRINHA\n",
      "SANTOS\n",
      "SÃO PAULO\n",
      "SÃO PAULO\n",
      "MIRASSOL\n",
      "PARAGUAÇU PAULISTA\n",
      "SÃO PAULO\n",
      "PERUÍBE\n",
      "SÃO PAULO\n",
      "SÃO PAULO\n",
      "SÃO PAULO\n",
      "SÃO PAULO\n",
      "SÃO PAULO\n",
      "DIADEMA\n",
      "SANTA BÁRBARA D`OESTE\n",
      "SÃO PAULO\n",
      "SÃO PAULO\n",
      "SÃO PAULO\n",
      "MARÍLIA\n",
      "SÃO PAULO\n",
      "SÃO JOÃO DA BOA VISTA\n",
      "SÃO PAULO\n",
      "MATÃO\n",
      "SÃO PAULO\n",
      "SÃO PAULO\n",
      "SÃO PAULO\n",
      "SÃO PAULO\n",
      "PIRACICABA\n",
      "CATANDUVA\n",
      "PIRACICABA\n",
      "SÃO PAULO\n",
      "ARARAQUARA\n",
      "RIO CLARO\n",
      "SÃO CARLOS\n",
      "TATUÍ\n",
      "JUNDIAÍ\n",
      "SÃO PAULO\n",
      "SÃO PAULO\n",
      "ORLÂNDIA\n",
      "PIRACICABA\n",
      "SÃO PAULO\n",
      "SÃO PAULO\n",
      "ITU\n",
      "SÃO PAULO\n",
      "CARAPICUÍBA\n",
      "SÃO PAULO\n",
      "FRANCA\n",
      "LIMEIRA\n",
      "SÃO PAULO\n",
      "SÃO PAULO\n",
      "SÃO JOSÉ DO BARREIRO\n",
      "PIRACICABA\n",
      "DIADEMA\n",
      "PRAIA GRANDE\n",
      "RIBEIRÃO PRETO\n",
      "OSASCO\n",
      "SÃO PAULO\n",
      "SÃO JOÃO DA BOA VISTA\n",
      "RIBEIRÃO PIRES\n",
      "ARAÇATUBA\n",
      "SOROCABA\n",
      "ITU\n",
      "BOTUCATU\n",
      "BOTUCATU\n",
      "PORTO FELIZ\n",
      "OSASCO\n",
      "OSASCO\n",
      "VINHEDO\n",
      "SÃO PAULO\n",
      "COTIA\n",
      "VALINHOS\n",
      "JUNDIAÍ\n",
      "SÃO PAULO\n",
      "SÃO PAULO\n",
      "SÃO PAULO\n",
      "SÃO BERNARDO DO CAMPO\n",
      "SÃO PAULO\n",
      "SÃO PAULO\n",
      "SÃO PAULO\n",
      "SÃO PAULO\n",
      "SOROCABA\n",
      "SÃO SEBASTIÃO\n",
      "DIADEMA\n",
      "VOTUPORANGA\n",
      "SANTO ANDRÉ\n",
      "SÃO PAULO\n",
      "BAURU\n",
      "SÃO PAULO\n",
      "JACUPIRANGA\n",
      "AVARÉ\n",
      "AVARÉ\n",
      "SÃO PAULO\n",
      "BÁLSAMO\n",
      "AMERICANA\n",
      "AMPARO\n",
      "BOITUVA\n",
      "BOITUVA\n",
      "SÃO PAULO\n",
      "SÃO PAULO\n",
      "SÃO PAULO\n",
      "SÃO PAULO\n",
      "SÃO PAULO\n",
      "PINDAMONHANGABA\n",
      "SÃO PAULO\n",
      "SÃO PAULO\n",
      "BARRINHA\n",
      "SÃO PAULO\n",
      "SÃO PAULO\n",
      "SOROCABA\n",
      "SÃO PAULO\n",
      "SÃO PAULO\n",
      "ITAPEVA\n",
      "ITAPEVA\n",
      "SÃO PAULO\n",
      "SÃO PAULO\n",
      "SÃO PAULO\n",
      "PRESIDENTE PRUDENTE\n",
      "PRESIDENTE PRUDENTE\n",
      "MARÍLIA\n",
      "SÃO PAULO\n",
      "SÃO BERNARDO DO CAMPO\n",
      "SÃO PAULO\n",
      "SOROCABA\n",
      "ATIBAIA\n",
      "SÃO PAULO\n",
      "SÃO PAULO\n",
      "JARINU\n",
      "RIBEIRÃO PRETO\n",
      "SANTO ANDRÉ\n",
      "MIRASSOL\n",
      "SÃO PAULO\n",
      "SÃO PAULO\n",
      "SÃO PAULO\n",
      "RIBEIRÃO PRETO\n",
      "ARAÇATUBA\n",
      "LIMEIRA\n",
      "SANTO ANDRÉ\n",
      "CAMPOS DO JORDÃO\n",
      "SÃO PAULO\n",
      "JUNDIAÍ\n",
      "SÃO PAULO\n",
      "SÃO PAULO\n",
      "GUARULHOS\n",
      "BAURU\n",
      "SÃO PAULO\n",
      "SÃO MIGUEL ARCANJO\n",
      "SÃO PAULO\n",
      "SÃO PAULO\n",
      "PIRACICABA\n",
      "PIRACICABA\n",
      "SÃO PAULO\n",
      "SANTOS\n",
      "SÃO PAULO\n",
      "SÃO PAULO\n",
      "SÃO PAULO\n",
      "BAURU\n",
      "SOROCABA\n",
      "SÃO PAULO\n",
      "SANTOS\n",
      "SANTOS\n",
      "SÃO PAULO\n",
      "ITAPIRA\n",
      "SÃO PAULO\n",
      "SÃO PAULO\n",
      "SÃO PAULO\n",
      "BARRA BONITA\n",
      "SÃO PAULO\n",
      "SUMARÉ\n",
      "DIADEMA\n",
      "SÃO PAULO\n",
      "SÃO PAULO\n",
      "SÃO BERNARDO DO CAMPO\n",
      "SÃO PAULO\n",
      "SÃO PAULO\n",
      "SÃO PAULO\n",
      "SÃO PAULO\n",
      "SÃO PAULO\n",
      "OSASCO\n",
      "ITAQUAQUECETUBA\n",
      "CAIEIRAS\n",
      "PAULÍNIA\n",
      "MAUÁ\n",
      "CAJURU\n",
      "MARÍLIA\n",
      "ORLÂNDIA\n",
      "SÃO JOSÉ DO BARREIRO\n",
      "SÃO BERNARDO DO CAMPO\n",
      "ITAPECERICA DA SERRA\n",
      "GUARULHOS\n",
      "SÃO PAULO\n",
      "LIMEIRA\n",
      "CAMPINAS\n",
      "PIRACICABA\n",
      "VOTUPORANGA\n",
      "SANTOS\n",
      "SÃO PAULO\n",
      "SÃO PAULO\n",
      "SÃO PAULO\n",
      "SÃO PAULO\n",
      "SÃO PAULO\n",
      "COTIA\n",
      "MOGI DAS CRUZES\n",
      "MOGI DAS CRUZES\n",
      "EMBU\n",
      "SÃO PAULO\n",
      "SÃO PAULO\n",
      "OSASCO\n",
      "EMBU\n",
      "SÃO PAULO\n",
      "DIADEMA\n",
      "MAUÁ\n",
      "NIPOÃ\n",
      "VOTUPORANGA\n",
      "ITAQUAQUECETUBA\n",
      "DIADEMA\n",
      "PLANALTO\n",
      "PIRACICABA\n",
      "SÃO PAULO\n",
      "PIRAJU\n",
      "SÃO PAULO\n",
      "SÃO PAULO\n",
      "SÃO PAULO\n",
      "SÃO PAULO\n",
      "SOROCABA\n",
      "SÃO JOSÉ DOS CAMPOS\n",
      "SÃO PAULO\n",
      "SÃO BERNARDO DO CAMPO\n",
      "SÃO PAULO\n",
      "SÃO PAULO\n",
      "SÃO PAULO\n",
      "SÃO PAULO\n",
      "SALTO\n",
      "POÁ\n",
      "RIBEIRÃO PIRES\n",
      "SÃO PAULO\n",
      "SÃO PAULO\n",
      "SÃO BERNARDO DO CAMPO\n",
      "OSASCO\n",
      "SÃO PAULO\n",
      "SALTO\n",
      "RIBEIRÃO PRETO\n",
      "MOGI GUAÇU\n",
      "SÃO PAULO\n",
      "SÃO PAULO\n",
      "SÃO PAULO\n",
      "SÃO PAULO\n",
      "ITAQUAQUECETUBA\n",
      "ITAPEVA\n",
      "SÃO PAULO\n",
      "INDAIATUBA\n",
      "SÃO PAULO\n",
      "SÃO PAULO\n",
      "SÃO PAULO\n",
      "GUARULHOS\n",
      "GUARULHOS\n",
      "RIBEIRÃO PRETO\n",
      "SÃO PAULO\n",
      "SÃO PAULO\n",
      "MAUÁ\n",
      "MIRASSOL\n",
      "SÃO PAULO\n",
      "SÃO PAULO\n",
      "JAGUARIÚNA\n",
      "PIRACICABA\n",
      "SÃO PAULO\n",
      "SÃO PAULO\n",
      "SÃO PAULO\n",
      "DIADEMA\n",
      "TABOÃO DA SERRA\n",
      "SANTOS\n",
      "BRAGANÇA PAULISTA\n",
      "SÃO PAULO\n",
      "SÃO PAULO\n",
      "SÃO PAULO\n",
      "SÃO PAULO\n",
      "SÃO CAETANO DO SUL\n",
      "SÃO PAULO\n",
      "SÃO PAULO\n",
      "SÃO PAULO\n",
      "SÃO PAULO\n",
      "SÃO PAULO\n",
      "MOGI MIRIM\n",
      "MOGI DAS CRUZES\n",
      "SÃO PAULO\n",
      "SÃO PAULO\n",
      "SÃO PAULO\n",
      "SÃO PAULO\n",
      "PENÁPOLIS\n",
      "LENÇÓIS PAULISTA\n",
      "PENÁPOLIS\n",
      "ITAQUAQUECETUBA\n",
      "SÃO PAULO\n",
      "SANTO ANDRÉ\n",
      "CAMPINAS\n",
      "OURINHOS\n",
      "SÃO BERNARDO DO CAMPO\n",
      "PORTO FERREIRA\n",
      "SÃO VICENTE\n",
      "INDAIATUBA\n",
      "SÃO PAULO\n",
      "SÃO PAULO\n",
      "SERRANA\n",
      "SÃO JOSÉ DOS CAMPOS\n",
      "SÃO PAULO\n",
      "SÃO PAULO\n",
      "TAUBATÉ\n",
      "SÃO JOSÉ DO BARREIRO\n",
      "TABOÃO DA SERRA\n",
      "SÃO PAULO\n",
      "SÃO BERNARDO DO CAMPO\n",
      "MAUÁ\n",
      "SÃO PAULO\n",
      "SÃO PAULO\n",
      "SÃO PAULO\n",
      "SÃO PAULO\n",
      "MAUÁ\n",
      "SÃO PAULO\n",
      "SÃO PAULO\n",
      "SÃO PAULO\n",
      "SÃO CAETANO DO SUL\n",
      "TAUBATÉ\n",
      "SÃO PAULO\n",
      "SÃO JOÃO DA BOA VISTA\n",
      "SÃO PAULO\n",
      "SUZANO\n",
      "DIADEMA\n",
      "MOGI DAS CRUZES\n",
      "SÃO PAULO\n",
      "CAMPINAS\n",
      "CARAPICUÍBA\n",
      "JACAREÍ\n",
      "SÃO PAULO\n",
      "SÃO PAULO\n",
      "VOTUPORANGA\n",
      "ITAPEVI\n",
      "GUARULHOS\n",
      "SÃO PAULO\n",
      "SÃO PAULO\n",
      "SÃO BERNARDO DO CAMPO\n",
      "SÃO PAULO\n",
      "ITATIBA\n",
      "SÃO PAULO\n",
      "SÃO PAULO\n",
      "RIBEIRÃO PIRES\n",
      "FRANCO DA ROCHA\n",
      "SÃO PAULO\n",
      "DIADEMA\n",
      "SÃO PAULO\n",
      "HORTOLÂNDIA\n",
      "SÃO PAULO\n",
      "MATÃO\n",
      "SÃO PAULO\n",
      "SÃO PAULO\n",
      "RIBEIRÃO PRETO\n",
      "SÃO PAULO\n",
      "SÃO PAULO\n",
      "SÃO PAULO\n",
      "SÃO PAULO\n",
      "SÃO PAULO\n",
      "SÃO PAULO\n",
      "GUARULHOS\n",
      "ITAPETININGA\n",
      "SÃO PAULO\n",
      "MOGI GUAÇU\n",
      "SÃO PAULO\n",
      "JABOTICABAL\n",
      "OSASCO\n",
      "CARAPICUÍBA\n",
      "PAULÍNIA\n",
      "SÃO PAULO\n",
      "FRANCA\n",
      "SÃO PAULO\n",
      "JACAREÍ\n",
      "SÃO JOSÉ DOS CAMPOS\n",
      "GUARULHOS\n",
      "SÃO PAULO\n",
      "SÃO PAULO\n",
      "SÃO PAULO\n",
      "SÃO PAULO\n",
      "SÃO PAULO\n",
      "PRAIA GRANDE\n",
      "CUBATÃO\n",
      "SANTA ISABEL\n",
      "SÃO PAULO\n",
      "ITU\n",
      "CABREÚVA\n",
      "CABREÚVA\n",
      "BAURU\n",
      "EMBU\n",
      "SÃO PAULO\n",
      "SÃO PAULO\n",
      "ARUJÁ\n",
      "SÃO MANUEL\n",
      "SÃO PAULO\n",
      "SÃO PAULO\n",
      "SÃO PAULO\n",
      "SÃO JOSÉ DO BARREIRO\n",
      "ITUVERAVA\n",
      "ITUVERAVA\n",
      "SOROCABA\n",
      "AMERICANA\n",
      "SÃO PAULO\n",
      "SÃO PAULO\n",
      "SÃO PAULO\n",
      "AVARÉ\n",
      "SERTÃOZINHO\n",
      "SANTOS\n",
      "SÃO PAULO\n",
      "SÃO PAULO\n",
      "SÃO PAULO\n",
      "SÃO PAULO\n",
      "CARAPICUÍBA\n",
      "SÃO PAULO\n",
      "SÃO PAULO\n",
      "SÃO PAULO\n",
      "GUARIBA\n",
      "JACI\n",
      "GUARULHOS\n",
      "GUARULHOS\n",
      "GUARULHOS\n",
      "GUARULHOS\n",
      "GUARULHOS\n",
      "MOGI MIRIM\n",
      "SUMARÉ\n",
      "JABOTICABAL\n",
      "HORTOLÂNDIA\n",
      "CLEMENTINA\n",
      "SÃO PAULO\n",
      "SÃO PAULO\n",
      "MOGI DAS CRUZES\n",
      "JABOTICABAL\n",
      "SÃO PAULO\n",
      "SÃO PAULO\n",
      "SÃO PAULO\n",
      "SÃO PAULO\n",
      "CAMPINAS\n",
      "SÃO PAULO\n",
      "BAURU\n",
      "PRESIDENTE PRUDENTE\n",
      "SÃO PAULO\n",
      "SÃO PAULO\n",
      "DIADEMA\n",
      "SÃO PAULO\n",
      "SÃO PAULO\n",
      "PIRASSUNUNGA\n",
      "SÃO PAULO\n",
      "AMERICANA\n",
      "RIBEIRÃO PRETO\n",
      "PIRACICABA\n",
      "SANTO ANDRÉ\n",
      "ITAQUAQUECETUBA\n",
      "SÃO PAULO\n",
      "SÃO PAULO\n",
      "SÃO PAULO\n",
      "SÃO PAULO\n",
      "CAMPINAS\n",
      "SÃO PAULO\n",
      "JARINU\n",
      "IBIÚNA\n",
      "SANTO ANDRÉ\n",
      "MAUÁ\n",
      "SÃO PAULO\n",
      "OSASCO\n",
      "MOGI GUAÇU\n",
      "CATANDUVA\n",
      "PIRACICABA\n",
      "SÃO PAULO\n",
      "SÃO PAULO\n",
      "SÃO PAULO\n",
      "SÃO PAULO\n",
      "SÃO PAULO\n",
      "INDAIATUBA\n",
      "INDAIATUBA\n",
      "SÃO PAULO\n",
      "SÃO PAULO\n",
      "SOROCABA\n",
      "DIADEMA\n",
      "SANTO ANDRÉ\n",
      "SÃO PAULO\n",
      "SÃO PAULO\n",
      "SÃO BERNARDO DO CAMPO\n",
      "SOROCABA\n",
      "PIRACICABA\n",
      "IRACEMÁPOLIS\n",
      "SÃO PAULO\n",
      "SÃO BERNARDO DO CAMPO\n",
      "SÃO PAULO\n",
      "DIADEMA\n",
      "SÃO PAULO\n",
      "DIADEMA\n",
      "SÃO PAULO\n",
      "SÃO PAULO\n",
      "SÃO PAULO\n",
      "SÃO PAULO\n",
      "SANTO ANDRÉ\n",
      "SÃO PAULO\n",
      "SÃO PAULO\n",
      "SÃO PAULO\n",
      "EMBU\n",
      "SÃO PAULO\n",
      "SÃO PAULO\n",
      "ITAPIRA\n",
      "SÃO PAULO\n",
      "ITAPETININGA\n",
      "ITAPETININGA\n",
      "ITAPEVA\n",
      "ITAQUAQUECETUBA\n",
      "SUZANO\n",
      "SÃO PAULO\n",
      "ITUPEVA\n",
      "SÃO PAULO\n",
      "SÃO CARLOS\n",
      "ASSIS\n",
      "SÃO PAULO\n",
      "SÃO PAULO\n",
      "SANTO ANDRÉ\n",
      "BERTIOGA\n",
      "SÃO PAULO\n",
      "SÃO PAULO\n",
      "MOCOCA\n",
      "SÃO PAULO\n",
      "BARUERI\n",
      "SÃO PAULO\n",
      "SÃO PAULO\n",
      "CABREÚVA\n",
      "LIMEIRA\n",
      "SUZANO\n",
      "SÃO PAULO\n",
      "OSASCO\n",
      "SANTO ANDRÉ\n",
      "SÃO PAULO\n",
      "MAUÁ\n",
      "SÃO PAULO\n",
      "SÃO PAULO\n",
      "CAMPINAS\n",
      "SÃO CAETANO DO SUL\n",
      "SÃO PAULO\n",
      "SÃO PAULO\n",
      "CAMPINAS\n",
      "ITU\n",
      "TATUÍ\n",
      "PRESIDENTE PRUDENTE\n",
      "ARARAQUARA\n",
      "SÃO PAULO\n",
      "SÃO PAULO\n",
      "SÃO JOSÉ DO BARREIRO\n",
      "SÃO BERNARDO DO CAMPO\n",
      "SANTO ANDRÉ\n",
      "SÃO PAULO\n",
      "SANTO ANDRÉ\n",
      "BIRIGUI\n",
      "SÃO PAULO\n",
      "INDAIATUBA\n",
      "IPORANGA\n",
      "SÃO PAULO\n",
      "RIBEIRÃO PRETO\n",
      "DIADEMA\n",
      "MARÍLIA\n",
      "ITANHAÉM\n",
      "SÃO PAULO\n",
      "SOROCABA\n",
      "RIBEIRÃO PRETO\n",
      "SOROCABA\n",
      "CAMPINAS\n",
      "OSASCO\n",
      "OSASCO\n",
      "CAIEIRAS\n",
      "JUNDIAÍ\n",
      "JUNDIAÍ\n",
      "JUNDIAÍ\n",
      "SÃO JOSÉ DOS CAMPOS\n",
      "BAURU\n",
      "INDAIATUBA\n",
      "SÃO JOSÉ DO BARREIRO\n",
      "LOUVEIRA\n",
      "SÃO PAULO\n",
      "MOGI DAS CRUZES\n",
      "SÃO PAULO\n",
      "SÃO PAULO\n",
      "SÃO PAULO\n",
      "SÃO PAULO\n",
      "SÃO PAULO\n",
      "INDAIATUBA\n",
      "SÃO PAULO\n",
      "SÃO PAULO\n",
      "SÃO PAULO\n",
      "PAULÍNIA\n",
      "SÃO PAULO\n",
      "OSASCO\n",
      "GUARULHOS\n",
      "SÃO PAULO\n",
      "SÃO PAULO\n",
      "SÃO PAULO\n",
      "SÃO PAULO\n",
      "SÃO PAULO\n",
      "VALINHOS\n",
      "VALINHOS\n",
      "SÃO PAULO\n",
      "GUARATINGUETÁ\n",
      "ARUJÁ\n",
      "LIMEIRA\n",
      "SÃO PAULO\n",
      "SÃO PAULO\n",
      "SÃO PAULO\n",
      "NOVA ODESSA\n",
      "ITAPETININGA\n",
      "SÃO PAULO\n",
      "SÃO PAULO\n",
      "SÃO MIGUEL ARCANJO\n",
      "SÃO JOSÉ DO BARREIRO\n",
      "SÃO PAULO\n",
      "SOROCABA\n",
      "SÃO PAULO\n",
      "SÃO CAETANO DO SUL\n",
      "NOVA ODESSA\n",
      "SÃO PAULO\n",
      "SÃO PAULO\n",
      "SÃO PAULO\n",
      "EMBU-GUAÇU\n",
      "TATUÍ\n",
      "RIBEIRÃO PRETO\n",
      "LIMEIRA\n",
      "MAUÁ\n",
      "PRAIA GRANDE\n",
      "SÃO ROQUE\n",
      "GUARULHOS\n",
      "BATATAIS\n",
      "GUARULHOS\n",
      "SÃO BERNARDO DO CAMPO\n",
      "CUBATÃO\n",
      "SÃO CARLOS\n",
      "JACI\n",
      "SÃO PAULO\n",
      "SÃO PAULO\n",
      "SÃO PAULO\n",
      "IBIÚNA\n",
      "SÃO PAULO\n",
      "OSASCO\n",
      "SÃO PAULO\n",
      "SÃO PAULO\n",
      "ARAÇATUBA\n",
      "ITAPETININGA\n",
      "RIO CLARO\n",
      "SÃO PAULO\n",
      "OSASCO\n",
      "SÃO PAULO\n",
      "SÃO PAULO\n",
      "GUARATINGUETÁ\n",
      "CERQUILHO\n",
      "RIBEIRÃO PRETO\n",
      "MOGI GUAÇU\n",
      "SÃO PAULO\n",
      "OSASCO\n",
      "SÃO JOSÉ DO RIO PRETO\n",
      "ITAPIRA\n",
      "SÃO PAULO\n",
      "VOTUPORANGA\n",
      "JARINU\n",
      "MOGI DAS CRUZES\n",
      "SÃO PAULO\n",
      "SÃO PAULO\n",
      "MAUÁ\n",
      "OSASCO\n",
      "SÃO BERNARDO DO CAMPO\n",
      "SÃO PAULO\n",
      "SÃO PAULO\n",
      "PIRACICABA\n",
      "BARUERI\n",
      "SÃO JOSÉ DO BARREIRO\n",
      "SANTO ANDRÉ\n",
      "ADAMANTINA\n",
      "SÃO PAULO\n",
      "SÃO PAULO\n",
      "MAUÁ\n",
      "BAURU\n",
      "SÃO PAULO\n",
      "RIBEIRÃO PRETO\n",
      "SÃO PAULO\n",
      "RIBEIRÃO PRETO\n",
      "TATUÍ\n",
      "REGISTRO\n",
      "SÃO PAULO\n",
      "SÃO PAULO\n",
      "ITAQUAQUECETUBA\n",
      "SÃO PAULO\n",
      "SÃO PAULO\n",
      "SÃO PAULO\n",
      "MAIRIPORÃ\n",
      "MAIRIPORÃ\n",
      "BRAGANÇA PAULISTA\n",
      "SÃO BERNARDO DO CAMPO\n",
      "SÃO PAULO\n",
      "ARAÇARIGUAMA\n",
      "SÃO PAULO\n",
      "RIBEIRÃO PRETO\n",
      "OSASCO\n",
      "DIADEMA\n",
      "SÃO PAULO\n",
      "SÃO PAULO\n",
      "JUNDIAÍ\n",
      "SÃO PAULO\n",
      "SOROCABA\n",
      "CAMPINAS\n",
      "CAMPINAS\n",
      "CRUZEIRO\n",
      "SÃO PAULO\n",
      "SOROCABA\n",
      "OSASCO\n",
      "LEME\n",
      "RIBEIRÃO PRETO\n",
      "ITAPETININGA\n",
      "RIBEIRÃO PRETO\n",
      "SÃO PAULO\n",
      "SANTA BÁRBARA D`OESTE\n",
      "MARÍLIA\n",
      "SÃO PAULO\n",
      "ITU\n",
      "AMPARO\n",
      "SÃO PAULO\n",
      "SÃO PAULO\n",
      "PARAIBUNA\n",
      "SÃO PAULO\n",
      "SERTÃOZINHO\n",
      "SÃO PAULO\n",
      "SÃO PAULO\n",
      "SÃO PAULO\n",
      "SÃO PAULO\n",
      "SÃO LOURENÇO DA SERRA\n",
      "JUNDIAÍ\n",
      "SALTO\n",
      "SANTO ANDRÉ\n",
      "SÃO JOSÉ DO BARREIRO\n",
      "MOGI DAS CRUZES\n",
      "BOITUVA\n",
      "SÃO PAULO\n",
      "TABOÃO DA SERRA\n",
      "TABOÃO DA SERRA\n",
      "RIBEIRÃO PRETO\n",
      "SÃO PAULO\n",
      "MAUÁ\n",
      "SERTÃOZINHO\n",
      "MAUÁ\n",
      "SÃO PAULO\n",
      "SÃO PAULO\n",
      "MOCOCA\n",
      "RIBEIRÃO PRETO\n",
      "RIBEIRÃO PRETO\n",
      "SÃO PAULO\n",
      "RIBEIRÃO PRETO\n",
      "SÃO BERNARDO DO CAMPO\n",
      "SÃO PAULO\n",
      "MORRO AGUDO\n",
      "SERTÃOZINHO\n",
      "PRAIA GRANDE\n",
      "SÃO JOSÉ DOS CAMPOS\n",
      "SÃO PAULO\n",
      "SÃO PAULO\n",
      "SÃO PAULO\n",
      "SERTÃOZINHO\n",
      "SÃO PAULO\n",
      "SÃO PAULO\n",
      "RIBEIRÃO PRETO\n",
      "SÃO PAULO\n",
      "ITUPEVA\n",
      "SÃO BERNARDO DO CAMPO\n",
      "SÃO PAULO\n",
      "SÃO PAULO\n",
      "SÃO PAULO\n",
      "JARINU\n",
      "ARAÇATUBA\n",
      "JAGUARIÚNA\n",
      "DIADEMA\n",
      "SÃO PAULO\n",
      "GUARULHOS\n",
      "VOTUPORANGA\n",
      "MOGI MIRIM\n",
      "DIADEMA\n",
      "SÃO PAULO\n",
      "SÃO PAULO\n",
      "SANTO ANDRÉ\n",
      "SÃO BERNARDO DO CAMPO\n",
      "SÃO PAULO\n",
      "SÃO BERNARDO DO CAMPO\n",
      "SÃO PAULO\n",
      "SÃO PAULO\n",
      "SÃO PAULO\n",
      "SÃO PAULO\n",
      "MAUÁ\n",
      "ARUJÁ\n",
      "SÃO PAULO\n",
      "JABOTICABAL\n",
      "SÃO PAULO\n",
      "BARIRI\n",
      "SÃO PAULO\n",
      "SÃO PAULO\n",
      "SÃO PAULO\n",
      "SÃO PAULO\n",
      "MAUÁ\n",
      "CATANDUVA\n",
      "SÃO PAULO\n",
      "IBITINGA\n",
      "MOGI DAS CRUZES\n",
      "CARAPICUÍBA\n",
      "SÃO VICENTE\n",
      "MOCOCA\n",
      "SÃO PAULO\n",
      "VARGEM GRANDE PAULISTA\n",
      "MOGI DAS CRUZES\n",
      "MOGI DAS CRUZES\n",
      "SOCORRO\n",
      "SÃO PAULO\n",
      "SÃO BERNARDO DO CAMPO\n",
      "SOROCABA\n",
      "ITU\n",
      "ITU\n",
      "LARANJAL PAULISTA\n",
      "SÃO PAULO\n",
      "TATUÍ\n",
      "RIBEIRÃO PRETO\n",
      "MATÃO\n",
      "SÃO PAULO\n",
      "BAURU\n",
      "EMBU\n",
      "ORLÂNDIA\n",
      "LIMEIRA\n",
      "SÃO PAULO\n",
      "OSASCO\n",
      "SÃO PAULO\n",
      "JAÚ\n",
      "SÃO PAULO\n",
      "TATUÍ\n",
      "VOTORANTIM\n",
      "SÃO PAULO\n",
      "GUARULHOS\n",
      "CRUZEIRO\n",
      "SÃO PAULO\n",
      "SÃO PAULO\n",
      "SANTOS\n",
      "SÃO PAULO\n",
      "SÃO PAULO\n",
      "GUARULHOS\n",
      "HORTOLÂNDIA\n",
      "SÃO PAULO\n",
      "SÃO JOSÉ DOS CAMPOS\n",
      "SÃO PAULO\n",
      "SÃO BERNARDO DO CAMPO\n",
      "SÃO PAULO\n",
      "ARAÇATUBA\n",
      "SÃO PAULO\n",
      "SÃO PAULO\n",
      "SANTO ANDRÉ\n",
      "SÃO PAULO\n",
      "SÃO PAULO\n",
      "SÃO JOSÉ DOS CAMPOS\n",
      "SÃO PAULO\n",
      "FERRAZ DE VASCONCELOS\n",
      "SANTO ANDRÉ\n",
      "SÃO PAULO\n",
      "GUARULHOS\n",
      "MOGI DAS CRUZES\n",
      "COTIA\n",
      "SÃO PAULO\n",
      "SÃO PAULO\n",
      "SÃO PAULO\n",
      "SÃO PAULO\n",
      "SÃO PAULO\n",
      "SÃO PAULO\n",
      "SÃO PAULO\n",
      "SÃO PAULO\n",
      "SÃO CAETANO DO SUL\n",
      "GUARUJÁ\n",
      "OSASCO\n",
      "SÃO PAULO\n",
      "SÃO PAULO\n",
      "LIMEIRA\n",
      "GUARULHOS\n",
      "SÃO PAULO\n",
      "SÃO VICENTE\n",
      "SÃO PAULO\n",
      "MAUÁ\n",
      "RIBEIRÃO PRETO\n",
      "LEME\n",
      "BEBEDOURO\n",
      "CAMPINAS\n",
      "SÃO BERNARDO DO CAMPO\n",
      "BARRETOS\n",
      "OSASCO\n",
      "OSASCO\n",
      "OSASCO\n",
      "JUNDIAÍ\n",
      "SÃO PAULO\n",
      "RIBEIRÃO PIRES\n",
      "CAMPINAS\n",
      "SÃO PAULO\n",
      "RIBEIRÃO PRETO\n",
      "SÃO PAULO\n",
      "SÃO PAULO\n",
      "SÃO CARLOS\n",
      "SÃO PAULO\n",
      "ARARAQUARA\n",
      "RIBEIRÃO PRETO\n",
      "SÃO JOSÉ DO BARREIRO\n",
      "SANTA FÉ DO SUL\n",
      "PIRAJU\n",
      "COTIA\n",
      "GUARULHOS\n",
      "ARARAS\n",
      "SANTO ANDRÉ\n",
      "SÃO PAULO\n",
      "FRANCA\n",
      "ARARAQUARA\n",
      "SÃO PAULO\n",
      "SÃO PAULO\n",
      "CAIEIRAS\n",
      "ARARAQUARA\n",
      "ITATIBA\n",
      "BAURU\n",
      "BARUERI\n",
      "CAMPO LIMPO PAULISTA\n",
      "SÃO PAULO\n",
      "SÃO PAULO\n",
      "SÃO PAULO\n",
      "JUNDIAÍ\n",
      "BAURU\n",
      "ITAQUAQUECETUBA\n",
      "DIADEMA\n",
      "SANTO ANDRÉ\n",
      "BARRETOS\n",
      "JABOTICABAL\n",
      "RIBEIRÃO PRETO\n",
      "AMPARO\n",
      "OURINHOS\n",
      "RIBEIRÃO PRETO\n",
      "SÃO PAULO\n",
      "JUNDIAÍ\n",
      "SÃO PAULO\n",
      "BARRETOS\n",
      "SÃO JOÃO DA BOA VISTA\n",
      "CAMPINAS\n",
      "SOROCABA\n",
      "SÃO PAULO\n",
      "SÃO PAULO\n",
      "SÃO PAULO\n",
      "JUNDIAÍ\n",
      "PRAIA GRANDE\n",
      "MOGI MIRIM\n",
      "SÃO PAULO\n",
      "SÃO PAULO\n",
      "SÃO PAULO\n",
      "DIADEMA\n",
      "SÃO BERNARDO DO CAMPO\n",
      "SÃO PAULO\n",
      "SÃO PAULO\n",
      "SÃO PAULO\n",
      "SÃO VICENTE\n",
      "SERTÃOZINHO\n",
      "SÃO PAULO\n",
      "SÃO PAULO\n",
      "SÃO VICENTE\n",
      "MOGI DAS CRUZES\n",
      "SÃO PAULO\n",
      "ATIBAIA\n",
      "JABOTICABAL\n",
      "SÃO PAULO\n",
      "SÃO PAULO\n",
      "CAMPINAS\n",
      "BAURU\n",
      "JALES\n",
      "SÃO PAULO\n",
      "SÃO CARLOS\n",
      "SÃO PAULO\n",
      "SÃO PAULO\n",
      "JUNDIAÍ\n",
      "SÃO CAETANO DO SUL\n",
      "SÃO PAULO\n",
      "VÁRZEA PAULISTA\n",
      "MOGI DAS CRUZES\n",
      "SÃO BERNARDO DO CAMPO\n",
      "SÃO CARLOS\n",
      "MAUÁ\n",
      "SÃO PAULO\n",
      "AMPARO\n",
      "SÃO PAULO\n",
      "HORTOLÂNDIA\n",
      "SANTO ANDRÉ\n",
      "FRANCISCO MORATO\n",
      "SÃO PAULO\n",
      "SÃO PAULO\n",
      "CAMPINAS\n",
      "OSASCO\n",
      "COTIA\n",
      "SÃO PAULO\n",
      "SÃO PAULO\n",
      "PORTO FERREIRA\n",
      "RIO CLARO\n",
      "SANTO ANDRÉ\n",
      "SERTÃOZINHO\n",
      "SÃO PAULO\n",
      "SÃO PAULO\n",
      "SERTÃOZINHO\n",
      "SÃO PAULO\n",
      "SÃO PAULO\n",
      "ITUPEVA\n",
      "SANTO ANDRÉ\n",
      "SÃO PAULO\n",
      "SÃO PAULO\n",
      "ITAQUAQUECETUBA\n",
      "SÃO PAULO\n",
      "ASSIS\n",
      "SOROCABA\n",
      "JUNDIAÍ\n",
      "SÃO PAULO\n",
      "CAIEIRAS\n",
      "ARARAQUARA\n",
      "RIBEIRÃO PRETO\n",
      "FRANCA\n",
      "RIBEIRÃO PRETO\n",
      "SÃO PAULO\n",
      "INDAIATUBA\n",
      "PAULO DE FARIA\n",
      "SERTÃOZINHO\n",
      "SÃO PAULO\n",
      "BRAGANÇA PAULISTA\n",
      "SÃO PAULO\n",
      "SÃO PAULO\n",
      "LEME\n",
      "SÃO PAULO\n",
      "PEDREIRA\n",
      "DIADEMA\n",
      "SÃO PAULO\n",
      "SÃO PAULO\n",
      "SANTO ANDRÉ\n",
      "SÃO PAULO\n",
      "CAMPINAS\n",
      "NOVO HORIZONTE\n",
      "ITAPECERICA DA SERRA\n",
      "SÃO PAULO\n",
      "PEDERNEIRAS\n",
      "PEDERNEIRAS\n",
      "PAULO DE FARIA\n",
      "SÃO PAULO\n",
      "OSASCO\n",
      "SÃO CAETANO DO SUL\n",
      "SÃO CARLOS\n",
      "SÃO CARLOS\n",
      "PAULÍNIA\n",
      "CUBATÃO\n",
      "SÃO PAULO\n",
      "BAURU\n",
      "SÃO PAULO\n",
      "SÃO PAULO\n",
      "BAURU\n",
      "PIRACICABA\n",
      "PIRACICABA\n",
      "SÃO PAULO\n",
      "RIBEIRÃO PRETO\n",
      "SÃO PAULO\n",
      "GUARUJÁ\n",
      "SÃO PAULO\n",
      "SÃO PAULO\n",
      "SUMARÉ\n",
      "CAJAMAR\n",
      "TATUÍ\n",
      "SÃO PAULO\n",
      "SANTO ANDRÉ\n",
      "SÃO PAULO\n",
      "SÃO PAULO\n",
      "POÁ\n",
      "EMBU\n",
      "SOROCABA\n",
      "ESPÍRITO SANTO DO TURVO\n",
      "CAJAMAR\n",
      "GUARULHOS\n",
      "SÃO PAULO\n",
      "SÃO JOSÉ DO BARREIRO\n",
      "VOTUPORANGA\n",
      "SÃO PAULO\n",
      "GUARULHOS\n",
      "SÃO PAULO\n",
      "DIADEMA\n",
      "SANTO ANDRÉ\n",
      "GUARUJÁ\n",
      "BOITUVA\n",
      "SÃO PAULO\n",
      "PORTO FERREIRA\n",
      "SÃO PAULO\n",
      "SANTOS\n",
      "SÃO PAULO\n",
      "SÃO PAULO\n",
      "JABOTICABAL\n",
      "RIBEIRÃO PRETO\n",
      "PIRACICABA\n",
      "SÃO ROQUE\n",
      "SÃO BERNARDO DO CAMPO\n",
      "SÃO BERNARDO DO CAMPO\n",
      "SÃO PAULO\n",
      "SÃO PAULO\n",
      "SÃO PAULO\n",
      "AMERICANA\n",
      "SÃO JOSÉ DOS CAMPOS\n",
      "RIBEIRÃO PRETO\n",
      "SÃO JOSÉ DOS CAMPOS\n",
      "LENÇÓIS PAULISTA\n",
      "SÃO PAULO\n",
      "SANTOS\n",
      "SÃO PAULO\n",
      "CARAPICUÍBA\n",
      "AMERICANA\n",
      "SÃO PAULO\n",
      "SÃO PAULO\n",
      "JABOTICABAL\n",
      "OSASCO\n",
      "SÃO PAULO\n",
      "LAGOINHA\n",
      "SÃO PAULO\n",
      "SÃO PAULO\n",
      "PRAIA GRANDE\n",
      "CAPIVARI\n",
      "SÃO PAULO\n",
      "ASSIS\n",
      "BARRETOS\n",
      "SÃO JOSÉ DO BARREIRO\n",
      "SÃO PAULO\n",
      "INDAIATUBA\n",
      "SÃO PAULO\n",
      "SÃO PAULO\n",
      "ARUJÁ\n",
      "SÃO PAULO\n",
      "PAULÍNIA\n",
      "CAMPINAS\n",
      "SANTO ANDRÉ\n",
      "SÃO PAULO\n",
      "SÃO PAULO\n",
      "SÃO PAULO\n",
      "SANTOS\n",
      "SÃO PAULO\n",
      "SÃO PAULO\n",
      "SÃO PAULO\n",
      "FRANCA\n",
      "ARUJÁ\n",
      "FRANCA\n",
      "SÃO PAULO\n",
      "CABREÚVA\n",
      "CAMPINAS\n",
      "MOGI DAS CRUZES\n",
      "SÃO PAULO\n",
      "ITAPECERICA DA SERRA\n",
      "SANTA BÁRBARA D`OESTE\n",
      "PIRACICABA\n",
      "ITAQUAQUECETUBA\n",
      "TUPÃ\n",
      "SÃO PAULO\n",
      "MONGAGUÁ\n",
      "SÃO PAULO\n",
      "SÃO PAULO\n",
      "COTIA\n",
      "SÃO PAULO\n",
      "ASSIS\n",
      "JABOTICABAL\n",
      "SÃO BERNARDO DO CAMPO\n",
      "BARUERI\n",
      "SÃO PAULO\n",
      "TATUÍ\n",
      "SÃO PAULO\n",
      "SÃO PAULO\n",
      "JUNDIAÍ\n",
      "TUPÃ\n",
      "RIBEIRÃO PRETO\n",
      "SÃO PAULO\n",
      "MOGI DAS CRUZES\n",
      "CARAGUATATUBA\n",
      "AVARÉ\n",
      "SÃO PAULO\n",
      "RIO DAS PEDRAS\n",
      "SÃO JOSÉ DO BARREIRO\n",
      "SÃO JOSÉ DO BARREIRO\n",
      "SÃO JOSÉ DO BARREIRO\n",
      "SÃO JOSÉ DO BARREIRO\n",
      "RIBEIRÃO PIRES\n",
      "SÃO PAULO\n",
      "PIRACICABA\n",
      "PIRACICABA\n",
      "OLÍMPIA\n",
      "BAURU\n",
      "SANTO ANDRÉ\n",
      "SÃO PAULO\n",
      "ARARAQUARA\n",
      "JABOTICABAL\n",
      "SÃO JOSÉ DOS CAMPOS\n",
      "SANTO ANDRÉ\n",
      "SÃO BERNARDO DO CAMPO\n",
      "SÃO PAULO\n",
      "SÃO PAULO\n",
      "ITU\n",
      "MOGI DAS CRUZES\n",
      "MAUÁ\n",
      "SANTO ANDRÉ\n",
      "ARAÇATUBA\n",
      "ARAÇATUBA\n",
      "SÃO PAULO\n",
      "CACONDE\n",
      "SÃO PAULO\n",
      "SÃO PAULO\n",
      "SÃO PAULO\n",
      "LIMEIRA\n",
      "ARTUR NOGUEIRA\n",
      "OSASCO\n",
      "GUARULHOS\n",
      "MOGI DAS CRUZES\n",
      "SÃO PAULO\n",
      "SÃO PAULO\n",
      "SÃO BERNARDO DO CAMPO\n",
      "SERTÃOZINHO\n",
      "RIBEIRÃO PIRES\n",
      "BRAGANÇA PAULISTA\n",
      "BARUERI\n",
      "IBIRAREMA\n",
      "GUARULHOS\n",
      "SÃO PAULO\n",
      "SÃO PAULO\n",
      "RIBEIRÃO PRETO\n",
      "MONTE ALTO\n",
      "MONTE ALTO\n",
      "OURINHOS\n",
      "RIBEIRÃO PIRES\n",
      "SÃO PAULO\n",
      "SÃO PAULO\n",
      "SÃO PAULO\n",
      "SÃO PAULO\n",
      "SANTO ANDRÉ\n",
      "SÃO PAULO\n",
      "SÃO PAULO\n",
      "JARDINÓPOLIS\n",
      "SÃO PAULO\n",
      "SÃO PAULO\n",
      "SÃO PAULO\n",
      "SÃO CARLOS\n",
      "PIRACICABA\n",
      "SÃO PAULO\n",
      "BAURU\n",
      "PRESIDENTE PRUDENTE\n",
      "BOTUCATU\n",
      "RIO CLARO\n",
      "PIRACICABA\n",
      "BOITUVA\n",
      "SALTO GRANDE\n",
      "SÃO PAULO\n",
      "SÃO PAULO\n",
      "ARARAS\n",
      "MOGI GUAÇU\n",
      "SÃO PAULO\n",
      "GUARULHOS\n",
      "SÃO CAETANO DO SUL\n",
      "ARAÇATUBA\n",
      "RIO CLARO\n",
      "DIADEMA\n",
      "SÃO CARLOS\n",
      "SERTÃOZINHO\n",
      "SÃO PAULO\n",
      "SÃO PAULO\n",
      "SERTÃOZINHO\n",
      "PIRACICABA\n",
      "MAUÁ\n",
      "SÃO PAULO\n",
      "BARUERI\n",
      "RIBEIRÃO PRETO\n",
      "ATIBAIA\n",
      "SÃO PAULO\n",
      "CERQUILHO\n",
      "SÃO PAULO\n",
      "SÃO JOSÉ DO BARREIRO\n",
      "ESPÍRITO SANTO DO TURVO\n",
      "SÃO VICENTE\n",
      "PIRACICABA\n",
      "CONCHAL\n",
      "SÃO PAULO\n",
      "DIADEMA\n",
      "ATIBAIA\n",
      "SÃO PAULO\n",
      "SÃO PAULO\n",
      "SÃO PAULO\n",
      "SÃO PAULO\n",
      "SÃO PAULO\n",
      "SÃO PAULO\n",
      "SÃO PAULO\n",
      "CARAPICUÍBA\n",
      "SÃO PAULO\n",
      "BRAGANÇA PAULISTA\n",
      "SÃO PAULO\n",
      "CARAPICUÍBA\n",
      "REGISTRO\n",
      "BAURU\n",
      "ARARAS\n",
      "SÃO BERNARDO DO CAMPO\n",
      "PEDERNEIRAS\n",
      "SÃO JOSÉ DO RIO PRETO\n",
      "LIMEIRA\n",
      "SÃO VICENTE\n",
      "SÃO PAULO\n",
      "SÃO PAULO\n",
      "SÃO PAULO\n",
      "GUARULHOS\n",
      "SÃO PAULO\n",
      "VARGEM GRANDE DO SUL\n",
      "SÃO PAULO\n",
      "SÃO BERNARDO DO CAMPO\n",
      "SANTO ANDRÉ\n",
      "MOGI MIRIM\n",
      "JUNDIAÍ\n",
      "ARARAQUARA\n",
      "ARARAQUARA\n",
      "SÃO PAULO\n",
      "SÃO PAULO\n",
      "SÃO BERNARDO DO CAMPO\n",
      "VOTUPORANGA\n",
      "SÃO JOSÉ DOS CAMPOS\n",
      "SANTO ANDRÉ\n",
      "BASTOS\n",
      "GUARULHOS\n",
      "SÃO PAULO\n",
      "SÃO ROQUE\n",
      "SÃO ROQUE\n",
      "BRAGANÇA PAULISTA\n",
      "SÃO PAULO\n",
      "SÃO PAULO\n",
      "SÃO PAULO\n",
      "GUARULHOS\n",
      "SÃO BERNARDO DO CAMPO\n",
      "DIADEMA\n",
      "SÃO PAULO\n",
      "SÃO PAULO\n",
      "RIO CLARO\n",
      "SÃO PAULO\n",
      "VINHEDO\n",
      "SÃO BERNARDO DO CAMPO\n",
      "SÃO PAULO\n",
      "SÃO BERNARDO DO CAMPO\n",
      "LIMEIRA\n",
      "REGISTRO\n",
      "SÃO PAULO\n",
      "RIBEIRÃO PRETO\n",
      "SÃO PAULO\n",
      "SÃO PAULO\n",
      "SÃO PAULO\n",
      "RIBEIRÃO PRETO\n",
      "CAMPINAS\n",
      "GUARULHOS\n",
      "SERTÃOZINHO\n",
      "SÃO PAULO\n",
      "SÃO JOSÉ DOS CAMPOS\n",
      "RIBEIRÃO PRETO\n",
      "SUZANO\n",
      "SUZANO\n",
      "SÃO PAULO\n",
      "SÃO PAULO\n",
      "SÃO PAULO\n",
      "SÃO BERNARDO DO CAMPO\n",
      "MAUÁ\n",
      "SÃO PAULO\n",
      "DIADEMA\n",
      "ITAPETININGA\n",
      "SÃO PAULO\n",
      "SÃO PAULO\n",
      "SÃO PAULO\n",
      "SÃO PAULO\n",
      "CAMPINAS\n",
      "VÁRZEA PAULISTA\n",
      "SÃO PAULO\n",
      "OSASCO\n",
      "SÃO PAULO\n",
      "SÃO PAULO\n",
      "OURINHOS\n",
      "MAUÁ\n",
      "SÃO PAULO\n",
      "SÃO PAULO\n",
      "SÃO PAULO\n",
      "SÃO PAULO\n",
      "SÃO PAULO\n",
      "SÃO PAULO\n",
      "CAMPINAS\n",
      "VOTUPORANGA\n",
      "VOTUPORANGA\n",
      "SÃO PAULO\n",
      "SANTOS\n",
      "SÃO PAULO\n",
      "ITAQUAQUECETUBA\n",
      "SÃO PAULO\n",
      "CAIEIRAS\n",
      "SANTO ANDRÉ\n",
      "BARUERI\n",
      "JAÚ\n",
      "SÃO PAULO\n",
      "SUZANO\n",
      "SÃO PAULO\n",
      "SÃO PAULO\n",
      "SÃO PAULO\n",
      "SÃO PAULO\n",
      "ARARAS\n",
      "SANTO ANDRÉ\n",
      "SÃO PAULO\n",
      "FERNANDÓPOLIS\n",
      "SÃO PAULO\n",
      "CAMPINAS\n",
      "SÃO PAULO\n",
      "SÃO PAULO\n",
      "FERNANDÓPOLIS\n",
      "INDAIATUBA\n",
      "SÃO PAULO\n",
      "SERTÃOZINHO\n",
      "TABOÃO DA SERRA\n",
      "SALTO\n",
      "PRESIDENTE PRUDENTE\n",
      "PRESIDENTE PRUDENTE\n",
      "APARECIDA\n",
      "SÃO PAULO\n",
      "GUARULHOS\n",
      "PIRACICABA\n",
      "ITATIBA\n",
      "SÃO PAULO\n",
      "SÃO BERNARDO DO CAMPO\n",
      "SÃO PAULO\n",
      "SÃO PAULO\n",
      "SÃO PAULO\n",
      "GUARUJÁ\n",
      "ITU\n",
      "SÃO PAULO\n",
      "OSASCO\n",
      "GUARULHOS\n",
      "SÃO JOSÉ DO BARREIRO\n",
      "SÃO PAULO\n",
      "RIBEIRÃO PRETO\n",
      "SÃO PAULO\n",
      "CAMPINAS\n",
      "SÃO PAULO\n",
      "SÃO PAULO\n",
      "SÃO PAULO\n",
      "SÃO JOSÉ DOS CAMPOS\n",
      "PIRACICABA\n",
      "SÃO CAETANO DO SUL\n",
      "SÃO PAULO\n",
      "DIADEMA\n",
      "BRAGANÇA PAULISTA\n",
      "MOGI DAS CRUZES\n",
      "DIADEMA\n",
      "SÃO PAULO\n",
      "SÃO PAULO\n",
      "GUARULHOS\n",
      "SÃO PAULO\n",
      "SÃO PAULO\n",
      "GUARULHOS\n",
      "SÃO PAULO\n",
      "SÃO BERNARDO DO CAMPO\n",
      "SERRANA\n",
      "LOUVEIRA\n",
      "SÃO BERNARDO DO CAMPO\n",
      "SANTO ANDRÉ\n",
      "SOROCABA\n",
      "SUZANO\n",
      "SÃO JOSÉ DOS CAMPOS\n",
      "SÃO PAULO\n",
      "SÃO PAULO\n",
      "JUNDIAÍ\n",
      "JUNDIAÍ\n",
      "SOROCABA\n",
      "ITAÍ\n",
      "SÃO PAULO\n",
      "SOROCABA\n",
      "SOROCABA\n",
      "SOROCABA\n",
      "HORTOLÂNDIA\n",
      "SÃO JOSÉ DO RIO PRETO\n",
      "VOTUPORANGA\n",
      "SÃO PAULO\n",
      "PIRACAIA\n",
      "RIO CLARO\n",
      "PIRACICABA\n",
      "SÃO PAULO\n",
      "BOTUCATU\n",
      "ITAPETININGA\n",
      "SOCORRO\n",
      "SÃO PAULO\n",
      "VOTUPORANGA\n",
      "SOROCABA\n",
      "PIRACICABA\n",
      "TATUÍ\n",
      "SÃO PAULO\n",
      "SÃO PAULO\n",
      "BARUERI\n",
      "OSASCO\n",
      "SÃO PAULO\n",
      "ASSIS\n",
      "SÃO PAULO\n",
      "SÃO PAULO\n",
      "SÃO PAULO\n",
      "SÃO PAULO\n",
      "RIBEIRÃO PRETO\n",
      "SÃO PAULO\n",
      "RIBEIRÃO PRETO\n",
      "VOTUPORANGA\n",
      "MINEIROS DO TIETÊ\n",
      "SÃO PAULO\n",
      "SÃO JOSÉ DO BARREIRO\n",
      "SÃO PAULO\n",
      "JARINU\n",
      "DIADEMA\n",
      "SANTA ISABEL\n",
      "ASSIS\n",
      "OSASCO\n",
      "OSASCO\n",
      "SÃO PAULO\n",
      "JARINU\n",
      "SÃO PAULO\n",
      "DIADEMA\n",
      "LENÇÓIS PAULISTA\n",
      "LENÇÓIS PAULISTA\n",
      "SÃO PAULO\n",
      "PIRACICABA\n",
      "ESPÍRITO SANTO DO TURVO\n",
      "SÃO PAULO\n",
      "SANTA BÁRBARA D`OESTE\n"
     ]
    }
   ],
   "source": [
    "fixed = []\n",
    "for i in to_fix:\n",
    "    city = busca_city(i, ref)\n",
    "    print(city)\n",
    "    fixed.append(city)\n",
    "    "
   ]
  },
  {
   "cell_type": "code",
   "execution_count": 21,
   "metadata": {},
   "outputs": [
    {
     "data": {
      "text/plain": [
       "['SÃO PEDRO',\n",
       " 'OSASCO',\n",
       " 'FERRAZ DE VASCONCELOS',\n",
       " 'ITATIBA',\n",
       " 'SÃO PAULO',\n",
       " 'SÃO PAULO',\n",
       " 'ARAÇATUBA',\n",
       " 'MARÍLIA',\n",
       " 'JUNDIAÍ',\n",
       " 'SÃO PAULO',\n",
       " 'SÃO PAULO',\n",
       " 'ATIBAIA',\n",
       " 'SÃO PAULO',\n",
       " 'SÃO PAULO',\n",
       " 'BOM JESUS DOS PERDÕES',\n",
       " 'SÃO PAULO',\n",
       " 'SÃO PAULO',\n",
       " 'ARAÇATUBA',\n",
       " 'SANTOS',\n",
       " 'HORTOLÂNDIA',\n",
       " 'CATANDUVA',\n",
       " 'GUARULHOS',\n",
       " 'SÃO PEDRO',\n",
       " 'MARÍLIA',\n",
       " 'BROTAS',\n",
       " 'ATIBAIA',\n",
       " 'SANTO ANDRÉ',\n",
       " 'SANTO ANDRÉ',\n",
       " 'RIBEIRÃO PRETO',\n",
       " 'DIADEMA',\n",
       " 'SÃO BERNARDO DO CAMPO',\n",
       " 'SÃO PAULO',\n",
       " 'DIADEMA',\n",
       " 'SÃO PAULO',\n",
       " 'RIBEIRÃO PRETO',\n",
       " 'SÃO PAULO',\n",
       " 'MARÍLIA',\n",
       " 'SÃO PAULO',\n",
       " 'SÃO VICENTE',\n",
       " 'SÃO PAULO',\n",
       " 'SÃO PAULO',\n",
       " 'SÃO JOSÉ DOS CAMPOS',\n",
       " 'SALTO',\n",
       " 'SÃO PAULO',\n",
       " 'SÃO PAULO',\n",
       " 'SANTO ANDRÉ',\n",
       " 'SÃO PAULO',\n",
       " 'SÃO PAULO',\n",
       " 'SÃO PAULO',\n",
       " 'SÃO BERNARDO DO CAMPO',\n",
       " 'MONTE MOR',\n",
       " 'SÃO PAULO',\n",
       " 'SÃO PAULO',\n",
       " 'OSASCO',\n",
       " 'EMBU-GUAÇU',\n",
       " 'SÃO PAULO',\n",
       " 'SÃO PAULO',\n",
       " 'SÃO PAULO',\n",
       " 'SANTO ANDRÉ',\n",
       " 'GUARULHOS',\n",
       " 'SÃO JOSÉ DO BARREIRO',\n",
       " 'SÃO PAULO',\n",
       " 'PORTO FERREIRA',\n",
       " 'SÃO BERNARDO DO CAMPO',\n",
       " 'PIRACICABA',\n",
       " 'SANTA BÁRBARA D`OESTE',\n",
       " 'MOGI MIRIM',\n",
       " 'OSASCO',\n",
       " 'SÃO PAULO',\n",
       " 'OSASCO',\n",
       " 'SÃO PAULO',\n",
       " 'SÃO PAULO',\n",
       " 'SÃO PAULO',\n",
       " 'DIADEMA',\n",
       " 'MAUÁ',\n",
       " 'SOROCABA',\n",
       " 'SÃO PAULO',\n",
       " 'SUZANO',\n",
       " 'SOROCABA',\n",
       " 'SÃO PAULO',\n",
       " 'SÃO PAULO',\n",
       " 'ITATIBA',\n",
       " 'SÃO PAULO',\n",
       " 'SOROCABA',\n",
       " 'GUARULHOS',\n",
       " 'CATANDUVA',\n",
       " 'SUMARÉ',\n",
       " 'SÃO PAULO',\n",
       " 'SÃO PAULO',\n",
       " 'SANTO ANDRÉ',\n",
       " 'GUARULHOS',\n",
       " 'SÃO PAULO',\n",
       " 'SÃO PAULO',\n",
       " 'CAMPINAS',\n",
       " 'SÃO PAULO',\n",
       " 'SÃO PAULO',\n",
       " 'SÃO PAULO',\n",
       " 'SÃO PAULO',\n",
       " 'SÃO PAULO',\n",
       " 'BARUERI',\n",
       " 'OSASCO',\n",
       " 'SÃO CAETANO DO SUL',\n",
       " 'CERQUILHO',\n",
       " 'TATUÍ',\n",
       " 'COTIA',\n",
       " 'CAMPINAS',\n",
       " 'SÃO PAULO',\n",
       " 'SÃO PAULO',\n",
       " 'FERNANDÓPOLIS',\n",
       " 'SÃO PAULO',\n",
       " 'SÃO PAULO',\n",
       " 'SÃO PAULO',\n",
       " 'SERTÃOZINHO',\n",
       " 'CAMPINAS',\n",
       " 'CAMPINAS',\n",
       " 'SÃO PAULO',\n",
       " 'SÃO PAULO',\n",
       " 'SÃO PAULO',\n",
       " 'CAMPINAS',\n",
       " 'SÃO PAULO',\n",
       " 'SÃO PAULO',\n",
       " 'SÃO PAULO',\n",
       " 'SÃO PAULO',\n",
       " 'SÃO PAULO',\n",
       " 'ATIBAIA',\n",
       " 'PIRASSUNUNGA',\n",
       " 'SÃO PAULO',\n",
       " 'FERNANDÓPOLIS',\n",
       " 'SÃO PAULO',\n",
       " 'PINHALZINHO',\n",
       " 'ARUJÁ',\n",
       " 'CORDEIRÓPOLIS',\n",
       " 'RIBEIRÃO PRETO',\n",
       " 'GUARATINGUETÁ',\n",
       " 'ARARAS',\n",
       " 'SÃO ROQUE',\n",
       " 'DIADEMA',\n",
       " 'SÃO PAULO',\n",
       " 'SÃO PAULO',\n",
       " 'SÃO PAULO',\n",
       " 'GUARULHOS',\n",
       " 'RIO GRANDE DA SERRA',\n",
       " 'SANTO ANDRÉ',\n",
       " 'DIADEMA',\n",
       " 'PAULÍNIA',\n",
       " 'MAUÁ',\n",
       " 'SANTO ANDRÉ',\n",
       " 'SÃO CAETANO DO SUL',\n",
       " 'ARUJÁ',\n",
       " 'OSASCO',\n",
       " 'SÃO PAULO',\n",
       " 'SÃO PAULO',\n",
       " 'SÃO PAULO',\n",
       " 'SÃO BERNARDO DO CAMPO',\n",
       " 'SÃO PAULO',\n",
       " 'VOTORANTIM',\n",
       " 'SÃO BERNARDO DO CAMPO',\n",
       " 'SÃO PAULO',\n",
       " 'PITANGUEIRAS',\n",
       " 'ITATIBA',\n",
       " 'SÃO PAULO',\n",
       " 'SANTO ANDRÉ',\n",
       " 'ATIBAIA',\n",
       " 'SANTO ANDRÉ',\n",
       " 'MAUÁ',\n",
       " 'SÃO PAULO',\n",
       " 'SÃO PAULO',\n",
       " 'SÃO CAETANO DO SUL',\n",
       " 'SÃO PAULO',\n",
       " 'SÃO PAULO',\n",
       " 'GUARULHOS',\n",
       " 'SANTO ANDRÉ',\n",
       " 'SÃO PAULO',\n",
       " 'SÃO PAULO',\n",
       " 'SÃO CAETANO DO SUL',\n",
       " 'SÃO PAULO',\n",
       " 'SÃO PAULO',\n",
       " 'DIADEMA',\n",
       " 'SÃO PAULO',\n",
       " 'SÃO PAULO',\n",
       " 'SÃO PAULO',\n",
       " 'RIO CLARO',\n",
       " 'SÃO PAULO',\n",
       " 'AMERICANA',\n",
       " 'SÃO PAULO',\n",
       " 'SÃO PAULO',\n",
       " 'SÃO BERNARDO DO CAMPO',\n",
       " 'FRANCA',\n",
       " 'SÃO PAULO',\n",
       " 'LORENA',\n",
       " 'SÃO PAULO',\n",
       " 'BRAGANÇA PAULISTA',\n",
       " 'RIBEIRÃO PRETO',\n",
       " 'MAUÁ',\n",
       " 'LIMEIRA',\n",
       " 'BARRA BONITA',\n",
       " 'MAUÁ',\n",
       " 'MATÃO',\n",
       " 'ITAPECERICA DA SERRA',\n",
       " 'SOROCABA',\n",
       " 'SÃO PAULO',\n",
       " 'SÃO PAULO',\n",
       " 'OSASCO',\n",
       " 'CAMPINA DO MONTE ALEGRE',\n",
       " 'SÃO JOSÉ DO BARREIRO',\n",
       " 'VINHEDO',\n",
       " 'VÁRZEA PAULISTA',\n",
       " 'BRAGANÇA PAULISTA',\n",
       " 'GUARULHOS',\n",
       " 'INDAIATUBA',\n",
       " 'SANTO ANDRÉ',\n",
       " 'BIRIGUI',\n",
       " 'ARARAQUARA',\n",
       " 'JAGUARIÚNA',\n",
       " 'SÃO CARLOS',\n",
       " 'CAMPINAS',\n",
       " 'MOGI DAS CRUZES',\n",
       " 'ITAPECERICA DA SERRA',\n",
       " 'SÃO PAULO',\n",
       " 'BRAGANÇA PAULISTA',\n",
       " 'MAUÁ',\n",
       " 'SÃO BERNARDO DO CAMPO',\n",
       " 'CUBATÃO',\n",
       " 'SÃO BERNARDO DO CAMPO',\n",
       " 'DIADEMA',\n",
       " 'SÃO PAULO',\n",
       " 'SÃO PAULO',\n",
       " 'SÃO PAULO',\n",
       " 'DIADEMA',\n",
       " 'SÃO PAULO',\n",
       " 'BARRINHA',\n",
       " 'POÁ',\n",
       " 'DIADEMA',\n",
       " 'TATUÍ',\n",
       " 'SÃO BERNARDO DO CAMPO',\n",
       " 'FRANCA',\n",
       " 'SÃO PAULO',\n",
       " 'SÃO PAULO',\n",
       " 'PRAIA GRANDE',\n",
       " 'SÃO PAULO',\n",
       " 'SOROCABA',\n",
       " 'SÃO PAULO',\n",
       " 'ARARAS',\n",
       " 'SÃO PAULO',\n",
       " 'OSASCO',\n",
       " 'MAIRINQUE',\n",
       " 'ITU',\n",
       " 'AMERICANA',\n",
       " 'CAMPINAS',\n",
       " 'AMERICANA',\n",
       " 'SÃO PAULO',\n",
       " 'PORTO FELIZ',\n",
       " 'SÃO PAULO',\n",
       " 'CAMPINAS',\n",
       " 'SANTO ANDRÉ',\n",
       " 'SÃO PAULO',\n",
       " 'SÃO PAULO',\n",
       " 'SUZANO',\n",
       " 'SÃO PAULO',\n",
       " 'RIBEIRÃO PIRES',\n",
       " 'SERTÃOZINHO',\n",
       " 'RIO CLARO',\n",
       " 'LIMEIRA',\n",
       " 'VOTUPORANGA',\n",
       " 'SÃO PAULO',\n",
       " 'COTIA',\n",
       " 'RIBEIRÃO PRETO',\n",
       " 'SÃO PAULO',\n",
       " 'SÃO PAULO',\n",
       " 'PRESIDENTE PRUDENTE',\n",
       " 'RIBEIRÃO PRETO',\n",
       " 'SÃO PAULO',\n",
       " 'BARRETOS',\n",
       " 'MARÍLIA',\n",
       " 'VOTUPORANGA',\n",
       " 'VALPARAÍSO',\n",
       " 'SÃO JOSÉ DO BARREIRO',\n",
       " 'SÃO PAULO',\n",
       " 'SUMARÉ',\n",
       " 'SÃO PAULO',\n",
       " 'MAUÁ',\n",
       " 'MAUÁ',\n",
       " 'MAUÁ',\n",
       " 'SÃO PAULO',\n",
       " 'ARAÇATUBA',\n",
       " 'JUNDIAÍ',\n",
       " 'ESPÍRITO SANTO DO TURVO',\n",
       " 'AVARÉ',\n",
       " 'SÃO PAULO',\n",
       " 'SÃO PAULO',\n",
       " 'BRAGANÇA PAULISTA',\n",
       " 'CAMPINAS',\n",
       " 'MAUÁ',\n",
       " 'BAURU',\n",
       " 'LINS',\n",
       " 'ARAÇATUBA',\n",
       " 'BEBEDOURO',\n",
       " 'FRANCA',\n",
       " 'FRANCA',\n",
       " 'GUARUJÁ',\n",
       " 'SÃO PAULO',\n",
       " 'MATÃO',\n",
       " 'SÃO PAULO',\n",
       " 'OSASCO',\n",
       " 'SANTO ANDRÉ',\n",
       " 'FERNANDÓPOLIS',\n",
       " 'JUNQUEIRÓPOLIS',\n",
       " 'PRESIDENTE PRUDENTE',\n",
       " 'LEME',\n",
       " 'GUARULHOS',\n",
       " 'ITATIBA',\n",
       " 'BOITUVA',\n",
       " 'SÃO PAULO',\n",
       " 'SÃO BERNARDO DO CAMPO',\n",
       " 'AGUDOS',\n",
       " 'SÃO JOÃO DA BOA VISTA',\n",
       " 'SÃO PAULO',\n",
       " 'SÃO BERNARDO DO CAMPO',\n",
       " 'COTIA',\n",
       " 'SÃO PAULO',\n",
       " 'BEBEDOURO',\n",
       " 'TABOÃO DA SERRA',\n",
       " 'JALES',\n",
       " 'CATANDUVA',\n",
       " 'SÃO PAULO',\n",
       " 'LIMEIRA',\n",
       " 'SÃO PAULO',\n",
       " 'SÃO PAULO',\n",
       " 'SÃO BERNARDO DO CAMPO',\n",
       " 'SÃO PAULO',\n",
       " 'OSASCO',\n",
       " 'SÃO PAULO',\n",
       " 'SÃO PAULO',\n",
       " 'MAUÁ',\n",
       " 'MAUÁ',\n",
       " 'MAUÁ',\n",
       " 'MAUÁ',\n",
       " 'SÃO PAULO',\n",
       " 'MOGI DAS CRUZES',\n",
       " 'DOURADO',\n",
       " 'SÃO PAULO',\n",
       " 'BARRINHA',\n",
       " 'PERUÍBE',\n",
       " 'SÃO PAULO',\n",
       " 'SANTA BÁRBARA D`OESTE',\n",
       " 'SÃO CARLOS',\n",
       " 'MATÃO',\n",
       " 'CERQUILHO',\n",
       " 'SÃO PAULO',\n",
       " 'SÃO PAULO',\n",
       " 'SÃO PAULO',\n",
       " 'SÃO PAULO',\n",
       " 'PAULÍNIA',\n",
       " 'SÃO PAULO',\n",
       " 'SUZANO',\n",
       " 'SÃO PAULO',\n",
       " 'SANTO ANDRÉ',\n",
       " 'SÃO PAULO',\n",
       " 'RIBEIRÃO PIRES',\n",
       " 'MOGI DAS CRUZES',\n",
       " 'SÃO PAULO',\n",
       " 'TAUBATÉ',\n",
       " 'SÃO PAULO',\n",
       " 'SÃO PAULO',\n",
       " 'SÃO PAULO',\n",
       " 'SÃO PAULO',\n",
       " 'ITAPEVI',\n",
       " 'SÃO PAULO',\n",
       " 'SÃO PAULO',\n",
       " 'SANTOS',\n",
       " 'BARUERI',\n",
       " 'SÃO PAULO',\n",
       " 'SÃO PAULO',\n",
       " 'SUMARÉ',\n",
       " 'JUNDIAÍ',\n",
       " 'AMERICANA',\n",
       " 'SÃO PAULO',\n",
       " 'AMERICANA',\n",
       " 'ITAPEVI',\n",
       " 'AMERICANA',\n",
       " 'SÃO PAULO',\n",
       " 'CAMPINAS',\n",
       " 'SÃO PAULO',\n",
       " 'SÃO PAULO',\n",
       " 'PIRACICABA',\n",
       " 'CORDEIRÓPOLIS',\n",
       " 'SALTO',\n",
       " 'SALTO',\n",
       " 'SÃO PAULO',\n",
       " 'SÃO PAULO',\n",
       " 'SÃO PAULO',\n",
       " 'SÃO BERNARDO DO CAMPO',\n",
       " 'SÃO PAULO',\n",
       " 'CAMPINAS',\n",
       " 'SANTA BÁRBARA D`OESTE',\n",
       " 'BOITUVA',\n",
       " 'CAMPINAS',\n",
       " 'SÃO PAULO',\n",
       " 'ARARAS',\n",
       " 'SÃO PAULO',\n",
       " 'PIRASSUNUNGA',\n",
       " 'SÃO BERNARDO DO CAMPO',\n",
       " 'SÃO PAULO',\n",
       " 'SANTO ANDRÉ',\n",
       " 'SOROCABA',\n",
       " 'ITATIBA',\n",
       " 'SÃO PAULO',\n",
       " 'SÃO PAULO',\n",
       " 'SÃO PAULO',\n",
       " 'SÃO PAULO',\n",
       " 'TORRINHA',\n",
       " 'SANTOS',\n",
       " 'SÃO PAULO',\n",
       " 'SÃO PAULO',\n",
       " 'MIRASSOL',\n",
       " 'PARAGUAÇU PAULISTA',\n",
       " 'SÃO PAULO',\n",
       " 'PERUÍBE',\n",
       " 'SÃO PAULO',\n",
       " 'SÃO PAULO',\n",
       " 'SÃO PAULO',\n",
       " 'SÃO PAULO',\n",
       " 'SÃO PAULO',\n",
       " 'DIADEMA',\n",
       " 'SANTA BÁRBARA D`OESTE',\n",
       " 'SÃO PAULO',\n",
       " 'SÃO PAULO',\n",
       " 'SÃO PAULO',\n",
       " 'MARÍLIA',\n",
       " 'SÃO PAULO',\n",
       " 'SÃO JOÃO DA BOA VISTA',\n",
       " 'SÃO PAULO',\n",
       " 'MATÃO',\n",
       " 'SÃO PAULO',\n",
       " 'SÃO PAULO',\n",
       " 'SÃO PAULO',\n",
       " 'SÃO PAULO',\n",
       " 'PIRACICABA',\n",
       " 'CATANDUVA',\n",
       " 'PIRACICABA',\n",
       " 'SÃO PAULO',\n",
       " 'ARARAQUARA',\n",
       " 'RIO CLARO',\n",
       " 'SÃO CARLOS',\n",
       " 'TATUÍ',\n",
       " 'JUNDIAÍ',\n",
       " 'SÃO PAULO',\n",
       " 'SÃO PAULO',\n",
       " 'ORLÂNDIA',\n",
       " 'PIRACICABA',\n",
       " 'SÃO PAULO',\n",
       " 'SÃO PAULO',\n",
       " 'ITU',\n",
       " 'SÃO PAULO',\n",
       " 'CARAPICUÍBA',\n",
       " 'SÃO PAULO',\n",
       " 'FRANCA',\n",
       " 'LIMEIRA',\n",
       " 'SÃO PAULO',\n",
       " 'SÃO PAULO',\n",
       " 'SÃO JOSÉ DO BARREIRO',\n",
       " 'PIRACICABA',\n",
       " 'DIADEMA',\n",
       " 'PRAIA GRANDE',\n",
       " 'RIBEIRÃO PRETO',\n",
       " 'OSASCO',\n",
       " 'SÃO PAULO',\n",
       " 'SÃO JOÃO DA BOA VISTA',\n",
       " 'RIBEIRÃO PIRES',\n",
       " 'ARAÇATUBA',\n",
       " 'SOROCABA',\n",
       " 'ITU',\n",
       " 'BOTUCATU',\n",
       " 'BOTUCATU',\n",
       " 'PORTO FELIZ',\n",
       " 'OSASCO',\n",
       " 'OSASCO',\n",
       " 'VINHEDO',\n",
       " 'SÃO PAULO',\n",
       " 'COTIA',\n",
       " 'VALINHOS',\n",
       " 'JUNDIAÍ',\n",
       " 'SÃO PAULO',\n",
       " 'SÃO PAULO',\n",
       " 'SÃO PAULO',\n",
       " 'SÃO BERNARDO DO CAMPO',\n",
       " 'SÃO PAULO',\n",
       " 'SÃO PAULO',\n",
       " 'SÃO PAULO',\n",
       " 'SÃO PAULO',\n",
       " 'SOROCABA',\n",
       " 'SÃO SEBASTIÃO',\n",
       " 'DIADEMA',\n",
       " 'VOTUPORANGA',\n",
       " 'SANTO ANDRÉ',\n",
       " 'SÃO PAULO',\n",
       " 'BAURU',\n",
       " 'SÃO PAULO',\n",
       " 'JACUPIRANGA',\n",
       " 'AVARÉ',\n",
       " 'AVARÉ',\n",
       " 'SÃO PAULO',\n",
       " 'BÁLSAMO',\n",
       " 'AMERICANA',\n",
       " 'AMPARO',\n",
       " 'BOITUVA',\n",
       " 'BOITUVA',\n",
       " 'SÃO PAULO',\n",
       " 'SÃO PAULO',\n",
       " 'SÃO PAULO',\n",
       " 'SÃO PAULO',\n",
       " 'SÃO PAULO',\n",
       " 'PINDAMONHANGABA',\n",
       " 'SÃO PAULO',\n",
       " 'SÃO PAULO',\n",
       " 'BARRINHA',\n",
       " 'SÃO PAULO',\n",
       " 'SÃO PAULO',\n",
       " 'SOROCABA',\n",
       " 'SÃO PAULO',\n",
       " 'SÃO PAULO',\n",
       " 'ITAPEVA',\n",
       " 'ITAPEVA',\n",
       " 'SÃO PAULO',\n",
       " 'SÃO PAULO',\n",
       " 'SÃO PAULO',\n",
       " 'PRESIDENTE PRUDENTE',\n",
       " 'PRESIDENTE PRUDENTE',\n",
       " 'MARÍLIA',\n",
       " 'SÃO PAULO',\n",
       " 'SÃO BERNARDO DO CAMPO',\n",
       " 'SÃO PAULO',\n",
       " 'SOROCABA',\n",
       " 'ATIBAIA',\n",
       " 'SÃO PAULO',\n",
       " 'SÃO PAULO',\n",
       " 'JARINU',\n",
       " 'RIBEIRÃO PRETO',\n",
       " 'SANTO ANDRÉ',\n",
       " 'MIRASSOL',\n",
       " 'SÃO PAULO',\n",
       " 'SÃO PAULO',\n",
       " 'SÃO PAULO',\n",
       " 'RIBEIRÃO PRETO',\n",
       " 'ARAÇATUBA',\n",
       " 'LIMEIRA',\n",
       " 'SANTO ANDRÉ',\n",
       " 'CAMPOS DO JORDÃO',\n",
       " 'SÃO PAULO',\n",
       " 'JUNDIAÍ',\n",
       " 'SÃO PAULO',\n",
       " 'SÃO PAULO',\n",
       " 'GUARULHOS',\n",
       " 'BAURU',\n",
       " 'SÃO PAULO',\n",
       " 'SÃO MIGUEL ARCANJO',\n",
       " 'SÃO PAULO',\n",
       " 'SÃO PAULO',\n",
       " 'PIRACICABA',\n",
       " 'PIRACICABA',\n",
       " 'SÃO PAULO',\n",
       " 'SANTOS',\n",
       " 'SÃO PAULO',\n",
       " 'SÃO PAULO',\n",
       " 'SÃO PAULO',\n",
       " 'BAURU',\n",
       " 'SOROCABA',\n",
       " 'SÃO PAULO',\n",
       " 'SANTOS',\n",
       " 'SANTOS',\n",
       " 'SÃO PAULO',\n",
       " 'ITAPIRA',\n",
       " 'SÃO PAULO',\n",
       " 'SÃO PAULO',\n",
       " 'SÃO PAULO',\n",
       " 'BARRA BONITA',\n",
       " 'SÃO PAULO',\n",
       " 'SUMARÉ',\n",
       " 'DIADEMA',\n",
       " 'SÃO PAULO',\n",
       " 'SÃO PAULO',\n",
       " 'SÃO BERNARDO DO CAMPO',\n",
       " 'SÃO PAULO',\n",
       " 'SÃO PAULO',\n",
       " 'SÃO PAULO',\n",
       " 'SÃO PAULO',\n",
       " 'SÃO PAULO',\n",
       " 'OSASCO',\n",
       " 'ITAQUAQUECETUBA',\n",
       " 'CAIEIRAS',\n",
       " 'PAULÍNIA',\n",
       " 'MAUÁ',\n",
       " 'CAJURU',\n",
       " 'MARÍLIA',\n",
       " 'ORLÂNDIA',\n",
       " 'SÃO JOSÉ DO BARREIRO',\n",
       " 'SÃO BERNARDO DO CAMPO',\n",
       " 'ITAPECERICA DA SERRA',\n",
       " 'GUARULHOS',\n",
       " 'SÃO PAULO',\n",
       " 'LIMEIRA',\n",
       " 'CAMPINAS',\n",
       " 'PIRACICABA',\n",
       " 'VOTUPORANGA',\n",
       " 'SANTOS',\n",
       " 'SÃO PAULO',\n",
       " 'SÃO PAULO',\n",
       " 'SÃO PAULO',\n",
       " 'SÃO PAULO',\n",
       " 'SÃO PAULO',\n",
       " 'COTIA',\n",
       " 'MOGI DAS CRUZES',\n",
       " 'MOGI DAS CRUZES',\n",
       " 'EMBU',\n",
       " 'SÃO PAULO',\n",
       " 'SÃO PAULO',\n",
       " 'OSASCO',\n",
       " 'EMBU',\n",
       " 'SÃO PAULO',\n",
       " 'DIADEMA',\n",
       " 'MAUÁ',\n",
       " 'NIPOÃ',\n",
       " 'VOTUPORANGA',\n",
       " 'ITAQUAQUECETUBA',\n",
       " 'DIADEMA',\n",
       " 'PLANALTO',\n",
       " 'PIRACICABA',\n",
       " 'SÃO PAULO',\n",
       " 'PIRAJU',\n",
       " 'SÃO PAULO',\n",
       " 'SÃO PAULO',\n",
       " 'SÃO PAULO',\n",
       " 'SÃO PAULO',\n",
       " 'SOROCABA',\n",
       " 'SÃO JOSÉ DOS CAMPOS',\n",
       " 'SÃO PAULO',\n",
       " 'SÃO BERNARDO DO CAMPO',\n",
       " 'SÃO PAULO',\n",
       " 'SÃO PAULO',\n",
       " 'SÃO PAULO',\n",
       " 'SÃO PAULO',\n",
       " 'SALTO',\n",
       " 'POÁ',\n",
       " 'RIBEIRÃO PIRES',\n",
       " 'SÃO PAULO',\n",
       " 'SÃO PAULO',\n",
       " 'SÃO BERNARDO DO CAMPO',\n",
       " 'OSASCO',\n",
       " 'SÃO PAULO',\n",
       " 'SALTO',\n",
       " 'RIBEIRÃO PRETO',\n",
       " 'MOGI GUAÇU',\n",
       " 'SÃO PAULO',\n",
       " 'SÃO PAULO',\n",
       " 'SÃO PAULO',\n",
       " 'SÃO PAULO',\n",
       " 'ITAQUAQUECETUBA',\n",
       " 'ITAPEVA',\n",
       " 'SÃO PAULO',\n",
       " 'INDAIATUBA',\n",
       " 'SÃO PAULO',\n",
       " 'SÃO PAULO',\n",
       " 'SÃO PAULO',\n",
       " 'GUARULHOS',\n",
       " 'GUARULHOS',\n",
       " 'RIBEIRÃO PRETO',\n",
       " 'SÃO PAULO',\n",
       " 'SÃO PAULO',\n",
       " 'MAUÁ',\n",
       " 'MIRASSOL',\n",
       " 'SÃO PAULO',\n",
       " 'SÃO PAULO',\n",
       " 'JAGUARIÚNA',\n",
       " 'PIRACICABA',\n",
       " 'SÃO PAULO',\n",
       " 'SÃO PAULO',\n",
       " 'SÃO PAULO',\n",
       " 'DIADEMA',\n",
       " 'TABOÃO DA SERRA',\n",
       " 'SANTOS',\n",
       " 'BRAGANÇA PAULISTA',\n",
       " 'SÃO PAULO',\n",
       " 'SÃO PAULO',\n",
       " 'SÃO PAULO',\n",
       " 'SÃO PAULO',\n",
       " 'SÃO CAETANO DO SUL',\n",
       " 'SÃO PAULO',\n",
       " 'SÃO PAULO',\n",
       " 'SÃO PAULO',\n",
       " 'SÃO PAULO',\n",
       " 'SÃO PAULO',\n",
       " 'MOGI MIRIM',\n",
       " 'MOGI DAS CRUZES',\n",
       " 'SÃO PAULO',\n",
       " 'SÃO PAULO',\n",
       " 'SÃO PAULO',\n",
       " 'SÃO PAULO',\n",
       " 'PENÁPOLIS',\n",
       " 'LENÇÓIS PAULISTA',\n",
       " 'PENÁPOLIS',\n",
       " 'ITAQUAQUECETUBA',\n",
       " 'SÃO PAULO',\n",
       " 'SANTO ANDRÉ',\n",
       " 'CAMPINAS',\n",
       " 'OURINHOS',\n",
       " 'SÃO BERNARDO DO CAMPO',\n",
       " 'PORTO FERREIRA',\n",
       " 'SÃO VICENTE',\n",
       " 'INDAIATUBA',\n",
       " 'SÃO PAULO',\n",
       " 'SÃO PAULO',\n",
       " 'SERRANA',\n",
       " 'SÃO JOSÉ DOS CAMPOS',\n",
       " 'SÃO PAULO',\n",
       " 'SÃO PAULO',\n",
       " 'TAUBATÉ',\n",
       " 'SÃO JOSÉ DO BARREIRO',\n",
       " 'TABOÃO DA SERRA',\n",
       " 'SÃO PAULO',\n",
       " 'SÃO BERNARDO DO CAMPO',\n",
       " 'MAUÁ',\n",
       " 'SÃO PAULO',\n",
       " 'SÃO PAULO',\n",
       " 'SÃO PAULO',\n",
       " 'SÃO PAULO',\n",
       " 'MAUÁ',\n",
       " 'SÃO PAULO',\n",
       " 'SÃO PAULO',\n",
       " 'SÃO PAULO',\n",
       " 'SÃO CAETANO DO SUL',\n",
       " 'TAUBATÉ',\n",
       " 'SÃO PAULO',\n",
       " 'SÃO JOÃO DA BOA VISTA',\n",
       " 'SÃO PAULO',\n",
       " 'SUZANO',\n",
       " 'DIADEMA',\n",
       " 'MOGI DAS CRUZES',\n",
       " 'SÃO PAULO',\n",
       " 'CAMPINAS',\n",
       " 'CARAPICUÍBA',\n",
       " 'JACAREÍ',\n",
       " 'SÃO PAULO',\n",
       " 'SÃO PAULO',\n",
       " 'VOTUPORANGA',\n",
       " 'ITAPEVI',\n",
       " 'GUARULHOS',\n",
       " 'SÃO PAULO',\n",
       " 'SÃO PAULO',\n",
       " 'SÃO BERNARDO DO CAMPO',\n",
       " 'SÃO PAULO',\n",
       " 'ITATIBA',\n",
       " 'SÃO PAULO',\n",
       " 'SÃO PAULO',\n",
       " 'RIBEIRÃO PIRES',\n",
       " 'FRANCO DA ROCHA',\n",
       " 'SÃO PAULO',\n",
       " 'DIADEMA',\n",
       " 'SÃO PAULO',\n",
       " 'HORTOLÂNDIA',\n",
       " 'SÃO PAULO',\n",
       " 'MATÃO',\n",
       " 'SÃO PAULO',\n",
       " 'SÃO PAULO',\n",
       " 'RIBEIRÃO PRETO',\n",
       " 'SÃO PAULO',\n",
       " 'SÃO PAULO',\n",
       " 'SÃO PAULO',\n",
       " 'SÃO PAULO',\n",
       " 'SÃO PAULO',\n",
       " 'SÃO PAULO',\n",
       " 'GUARULHOS',\n",
       " 'ITAPETININGA',\n",
       " 'SÃO PAULO',\n",
       " 'MOGI GUAÇU',\n",
       " 'SÃO PAULO',\n",
       " 'JABOTICABAL',\n",
       " 'OSASCO',\n",
       " 'CARAPICUÍBA',\n",
       " 'PAULÍNIA',\n",
       " 'SÃO PAULO',\n",
       " 'FRANCA',\n",
       " 'SÃO PAULO',\n",
       " 'JACAREÍ',\n",
       " 'SÃO JOSÉ DOS CAMPOS',\n",
       " 'GUARULHOS',\n",
       " 'SÃO PAULO',\n",
       " 'SÃO PAULO',\n",
       " 'SÃO PAULO',\n",
       " 'SÃO PAULO',\n",
       " 'SÃO PAULO',\n",
       " 'PRAIA GRANDE',\n",
       " 'CUBATÃO',\n",
       " 'SANTA ISABEL',\n",
       " 'SÃO PAULO',\n",
       " 'ITU',\n",
       " 'CABREÚVA',\n",
       " 'CABREÚVA',\n",
       " 'BAURU',\n",
       " 'EMBU',\n",
       " 'SÃO PAULO',\n",
       " 'SÃO PAULO',\n",
       " 'ARUJÁ',\n",
       " 'SÃO MANUEL',\n",
       " 'SÃO PAULO',\n",
       " 'SÃO PAULO',\n",
       " 'SÃO PAULO',\n",
       " 'SÃO JOSÉ DO BARREIRO',\n",
       " 'ITUVERAVA',\n",
       " 'ITUVERAVA',\n",
       " 'SOROCABA',\n",
       " 'AMERICANA',\n",
       " 'SÃO PAULO',\n",
       " 'SÃO PAULO',\n",
       " 'SÃO PAULO',\n",
       " 'AVARÉ',\n",
       " 'SERTÃOZINHO',\n",
       " 'SANTOS',\n",
       " 'SÃO PAULO',\n",
       " 'SÃO PAULO',\n",
       " 'SÃO PAULO',\n",
       " 'SÃO PAULO',\n",
       " 'CARAPICUÍBA',\n",
       " 'SÃO PAULO',\n",
       " 'SÃO PAULO',\n",
       " 'SÃO PAULO',\n",
       " 'GUARIBA',\n",
       " 'JACI',\n",
       " 'GUARULHOS',\n",
       " 'GUARULHOS',\n",
       " 'GUARULHOS',\n",
       " 'GUARULHOS',\n",
       " 'GUARULHOS',\n",
       " 'MOGI MIRIM',\n",
       " 'SUMARÉ',\n",
       " 'JABOTICABAL',\n",
       " 'HORTOLÂNDIA',\n",
       " 'CLEMENTINA',\n",
       " 'SÃO PAULO',\n",
       " 'SÃO PAULO',\n",
       " 'MOGI DAS CRUZES',\n",
       " 'JABOTICABAL',\n",
       " 'SÃO PAULO',\n",
       " 'SÃO PAULO',\n",
       " 'SÃO PAULO',\n",
       " 'SÃO PAULO',\n",
       " 'CAMPINAS',\n",
       " 'SÃO PAULO',\n",
       " 'BAURU',\n",
       " 'PRESIDENTE PRUDENTE',\n",
       " 'SÃO PAULO',\n",
       " 'SÃO PAULO',\n",
       " 'DIADEMA',\n",
       " 'SÃO PAULO',\n",
       " 'SÃO PAULO',\n",
       " 'PIRASSUNUNGA',\n",
       " 'SÃO PAULO',\n",
       " 'AMERICANA',\n",
       " 'RIBEIRÃO PRETO',\n",
       " 'PIRACICABA',\n",
       " 'SANTO ANDRÉ',\n",
       " 'ITAQUAQUECETUBA',\n",
       " 'SÃO PAULO',\n",
       " 'SÃO PAULO',\n",
       " 'SÃO PAULO',\n",
       " 'SÃO PAULO',\n",
       " 'CAMPINAS',\n",
       " 'SÃO PAULO',\n",
       " 'JARINU',\n",
       " 'IBIÚNA',\n",
       " 'SANTO ANDRÉ',\n",
       " 'MAUÁ',\n",
       " 'SÃO PAULO',\n",
       " 'OSASCO',\n",
       " 'MOGI GUAÇU',\n",
       " 'CATANDUVA',\n",
       " 'PIRACICABA',\n",
       " 'SÃO PAULO',\n",
       " 'SÃO PAULO',\n",
       " 'SÃO PAULO',\n",
       " 'SÃO PAULO',\n",
       " 'SÃO PAULO',\n",
       " 'INDAIATUBA',\n",
       " 'INDAIATUBA',\n",
       " 'SÃO PAULO',\n",
       " 'SÃO PAULO',\n",
       " 'SOROCABA',\n",
       " 'DIADEMA',\n",
       " 'SANTO ANDRÉ',\n",
       " 'SÃO PAULO',\n",
       " 'SÃO PAULO',\n",
       " 'SÃO BERNARDO DO CAMPO',\n",
       " 'SOROCABA',\n",
       " 'PIRACICABA',\n",
       " 'IRACEMÁPOLIS',\n",
       " 'SÃO PAULO',\n",
       " 'SÃO BERNARDO DO CAMPO',\n",
       " 'SÃO PAULO',\n",
       " 'DIADEMA',\n",
       " 'SÃO PAULO',\n",
       " 'DIADEMA',\n",
       " 'SÃO PAULO',\n",
       " 'SÃO PAULO',\n",
       " 'SÃO PAULO',\n",
       " 'SÃO PAULO',\n",
       " 'SANTO ANDRÉ',\n",
       " 'SÃO PAULO',\n",
       " 'SÃO PAULO',\n",
       " 'SÃO PAULO',\n",
       " 'EMBU',\n",
       " 'SÃO PAULO',\n",
       " 'SÃO PAULO',\n",
       " 'ITAPIRA',\n",
       " 'SÃO PAULO',\n",
       " 'ITAPETININGA',\n",
       " 'ITAPETININGA',\n",
       " 'ITAPEVA',\n",
       " 'ITAQUAQUECETUBA',\n",
       " 'SUZANO',\n",
       " 'SÃO PAULO',\n",
       " 'ITUPEVA',\n",
       " 'SÃO PAULO',\n",
       " 'SÃO CARLOS',\n",
       " 'ASSIS',\n",
       " 'SÃO PAULO',\n",
       " 'SÃO PAULO',\n",
       " 'SANTO ANDRÉ',\n",
       " 'BERTIOGA',\n",
       " 'SÃO PAULO',\n",
       " 'SÃO PAULO',\n",
       " 'MOCOCA',\n",
       " 'SÃO PAULO',\n",
       " 'BARUERI',\n",
       " 'SÃO PAULO',\n",
       " 'SÃO PAULO',\n",
       " 'CABREÚVA',\n",
       " 'LIMEIRA',\n",
       " 'SUZANO',\n",
       " 'SÃO PAULO',\n",
       " 'OSASCO',\n",
       " 'SANTO ANDRÉ',\n",
       " 'SÃO PAULO',\n",
       " 'MAUÁ',\n",
       " 'SÃO PAULO',\n",
       " 'SÃO PAULO',\n",
       " 'CAMPINAS',\n",
       " 'SÃO CAETANO DO SUL',\n",
       " 'SÃO PAULO',\n",
       " 'SÃO PAULO',\n",
       " 'CAMPINAS',\n",
       " 'ITU',\n",
       " 'TATUÍ',\n",
       " 'PRESIDENTE PRUDENTE',\n",
       " 'ARARAQUARA',\n",
       " 'SÃO PAULO',\n",
       " 'SÃO PAULO',\n",
       " 'SÃO JOSÉ DO BARREIRO',\n",
       " 'SÃO BERNARDO DO CAMPO',\n",
       " 'SANTO ANDRÉ',\n",
       " 'SÃO PAULO',\n",
       " 'SANTO ANDRÉ',\n",
       " 'BIRIGUI',\n",
       " 'SÃO PAULO',\n",
       " 'INDAIATUBA',\n",
       " 'IPORANGA',\n",
       " 'SÃO PAULO',\n",
       " 'RIBEIRÃO PRETO',\n",
       " 'DIADEMA',\n",
       " 'MARÍLIA',\n",
       " 'ITANHAÉM',\n",
       " 'SÃO PAULO',\n",
       " 'SOROCABA',\n",
       " 'RIBEIRÃO PRETO',\n",
       " 'SOROCABA',\n",
       " 'CAMPINAS',\n",
       " 'OSASCO',\n",
       " 'OSASCO',\n",
       " 'CAIEIRAS',\n",
       " 'JUNDIAÍ',\n",
       " 'JUNDIAÍ',\n",
       " 'JUNDIAÍ',\n",
       " 'SÃO JOSÉ DOS CAMPOS',\n",
       " 'BAURU',\n",
       " 'INDAIATUBA',\n",
       " 'SÃO JOSÉ DO BARREIRO',\n",
       " 'LOUVEIRA',\n",
       " 'SÃO PAULO',\n",
       " 'MOGI DAS CRUZES',\n",
       " 'SÃO PAULO',\n",
       " 'SÃO PAULO',\n",
       " 'SÃO PAULO',\n",
       " 'SÃO PAULO',\n",
       " 'SÃO PAULO',\n",
       " 'INDAIATUBA',\n",
       " 'SÃO PAULO',\n",
       " 'SÃO PAULO',\n",
       " 'SÃO PAULO',\n",
       " 'PAULÍNIA',\n",
       " 'SÃO PAULO',\n",
       " 'OSASCO',\n",
       " 'GUARULHOS',\n",
       " ...]"
      ]
     },
     "execution_count": 21,
     "metadata": {},
     "output_type": "execute_result"
    }
   ],
   "source": [
    "fixed"
   ]
  },
  {
   "cell_type": "code",
   "execution_count": null,
   "metadata": {},
   "outputs": [],
   "source": []
  },
  {
   "cell_type": "code",
   "execution_count": 22,
   "metadata": {},
   "outputs": [
    {
     "data": {
      "text/html": [
       "<div>\n",
       "<style scoped>\n",
       "    .dataframe tbody tr th:only-of-type {\n",
       "        vertical-align: middle;\n",
       "    }\n",
       "\n",
       "    .dataframe tbody tr th {\n",
       "        vertical-align: top;\n",
       "    }\n",
       "\n",
       "    .dataframe thead th {\n",
       "        text-align: right;\n",
       "    }\n",
       "</style>\n",
       "<table border=\"1\" class=\"dataframe\">\n",
       "  <thead>\n",
       "    <tr style=\"text-align: right;\">\n",
       "      <th></th>\n",
       "      <th>city</th>\n",
       "    </tr>\n",
       "  </thead>\n",
       "  <tbody>\n",
       "    <tr>\n",
       "      <th>0</th>\n",
       "      <td>SÃO PEDRO</td>\n",
       "    </tr>\n",
       "    <tr>\n",
       "      <th>1</th>\n",
       "      <td>OSASCO</td>\n",
       "    </tr>\n",
       "    <tr>\n",
       "      <th>2</th>\n",
       "      <td>FERRAZ DE VASCONCELOS</td>\n",
       "    </tr>\n",
       "    <tr>\n",
       "      <th>3</th>\n",
       "      <td>ITATIBA</td>\n",
       "    </tr>\n",
       "    <tr>\n",
       "      <th>4</th>\n",
       "      <td>SÃO PAULO</td>\n",
       "    </tr>\n",
       "    <tr>\n",
       "      <th>...</th>\n",
       "      <td>...</td>\n",
       "    </tr>\n",
       "    <tr>\n",
       "      <th>1925</th>\n",
       "      <td>SÃO PAULO</td>\n",
       "    </tr>\n",
       "    <tr>\n",
       "      <th>1926</th>\n",
       "      <td>PIRACICABA</td>\n",
       "    </tr>\n",
       "    <tr>\n",
       "      <th>1927</th>\n",
       "      <td>ESPÍRITO SANTO DO TURVO</td>\n",
       "    </tr>\n",
       "    <tr>\n",
       "      <th>1928</th>\n",
       "      <td>SÃO PAULO</td>\n",
       "    </tr>\n",
       "    <tr>\n",
       "      <th>1929</th>\n",
       "      <td>SANTA BÁRBARA D`OESTE</td>\n",
       "    </tr>\n",
       "  </tbody>\n",
       "</table>\n",
       "<p>1930 rows × 1 columns</p>\n",
       "</div>"
      ],
      "text/plain": [
       "                         city\n",
       "0                   SÃO PEDRO\n",
       "1                      OSASCO\n",
       "2       FERRAZ DE VASCONCELOS\n",
       "3                     ITATIBA\n",
       "4                   SÃO PAULO\n",
       "...                       ...\n",
       "1925                SÃO PAULO\n",
       "1926               PIRACICABA\n",
       "1927  ESPÍRITO SANTO DO TURVO\n",
       "1928                SÃO PAULO\n",
       "1929    SANTA BÁRBARA D`OESTE\n",
       "\n",
       "[1930 rows x 1 columns]"
      ]
     },
     "execution_count": 22,
     "metadata": {},
     "output_type": "execute_result"
    }
   ],
   "source": [
    "sp_fixed = res_sp.copy().reset_index().drop(['uf'], axis=1)\n",
    "sp_fixed['city'] = pd.Series(fixed)\n",
    "sp_fixed"
   ]
  },
  {
   "cell_type": "code",
   "execution_count": 23,
   "metadata": {},
   "outputs": [],
   "source": [
    "\n",
    "sp_fixed['freq'] = 1"
   ]
  },
  {
   "cell_type": "code",
   "execution_count": 24,
   "metadata": {},
   "outputs": [],
   "source": [
    "sp_count =sp_fixed.groupby(['city'])['freq'].sum()\n"
   ]
  },
  {
   "cell_type": "code",
   "execution_count": 25,
   "metadata": {},
   "outputs": [
    {
     "data": {
      "text/plain": [
       "city\n",
       "ADAMANTINA                 1\n",
       "AGUDOS                     1\n",
       "AMERICANA                 11\n",
       "AMPARO                     4\n",
       "APARECIDA                  1\n",
       "                          ..\n",
       "VARGEM GRANDE PAULISTA     1\n",
       "VINHEDO                    3\n",
       "VOTORANTIM                 2\n",
       "VOTUPORANGA               15\n",
       "VÁRZEA PAULISTA            3\n",
       "Name: freq, Length: 193, dtype: int64"
      ]
     },
     "execution_count": 25,
     "metadata": {},
     "output_type": "execute_result"
    }
   ],
   "source": [
    "sp_count"
   ]
  },
  {
   "cell_type": "code",
   "execution_count": 26,
   "metadata": {},
   "outputs": [],
   "source": [
    "df_sp = df_sp.rename(columns={'municipio': 'city'})\n"
   ]
  },
  {
   "cell_type": "code",
   "execution_count": 27,
   "metadata": {},
   "outputs": [
    {
     "data": {
      "text/html": [
       "<div>\n",
       "<style scoped>\n",
       "    .dataframe tbody tr th:only-of-type {\n",
       "        vertical-align: middle;\n",
       "    }\n",
       "\n",
       "    .dataframe tbody tr th {\n",
       "        vertical-align: top;\n",
       "    }\n",
       "\n",
       "    .dataframe thead th {\n",
       "        text-align: right;\n",
       "    }\n",
       "</style>\n",
       "<table border=\"1\" class=\"dataframe\">\n",
       "  <thead>\n",
       "    <tr style=\"text-align: right;\">\n",
       "      <th></th>\n",
       "      <th>city</th>\n",
       "      <th>lon</th>\n",
       "      <th>lat</th>\n",
       "    </tr>\n",
       "    <tr>\n",
       "      <th>uf</th>\n",
       "      <th></th>\n",
       "      <th></th>\n",
       "      <th></th>\n",
       "    </tr>\n",
       "  </thead>\n",
       "  <tbody>\n",
       "    <tr>\n",
       "      <th>SP</th>\n",
       "      <td>ADAMANTINA</td>\n",
       "      <td>-51.073695</td>\n",
       "      <td>-21.682012</td>\n",
       "    </tr>\n",
       "    <tr>\n",
       "      <th>SP</th>\n",
       "      <td>ADOLFO</td>\n",
       "      <td>-49.645128</td>\n",
       "      <td>-21.232494</td>\n",
       "    </tr>\n",
       "    <tr>\n",
       "      <th>SP</th>\n",
       "      <td>AGUAÍ</td>\n",
       "      <td>-46.973502</td>\n",
       "      <td>-22.057207</td>\n",
       "    </tr>\n",
       "    <tr>\n",
       "      <th>SP</th>\n",
       "      <td>AGUDOS</td>\n",
       "      <td>-48.98632</td>\n",
       "      <td>-22.469433</td>\n",
       "    </tr>\n",
       "    <tr>\n",
       "      <th>SP</th>\n",
       "      <td>ALAMBARI</td>\n",
       "      <td>-47.897971</td>\n",
       "      <td>-23.550338</td>\n",
       "    </tr>\n",
       "    <tr>\n",
       "      <th>...</th>\n",
       "      <td>...</td>\n",
       "      <td>...</td>\n",
       "      <td>...</td>\n",
       "    </tr>\n",
       "    <tr>\n",
       "      <th>SP</th>\n",
       "      <td>ÁGUAS DE SÃO PEDRO</td>\n",
       "      <td>-47.873395</td>\n",
       "      <td>-22.597749</td>\n",
       "    </tr>\n",
       "    <tr>\n",
       "      <th>SP</th>\n",
       "      <td>ÁLVARES FLORENCE</td>\n",
       "      <td>-49.914126</td>\n",
       "      <td>-20.320341</td>\n",
       "    </tr>\n",
       "    <tr>\n",
       "      <th>SP</th>\n",
       "      <td>ÁLVARES MACHADO</td>\n",
       "      <td>-51.47224</td>\n",
       "      <td>-22.076415</td>\n",
       "    </tr>\n",
       "    <tr>\n",
       "      <th>SP</th>\n",
       "      <td>ÁLVARO DE CARVALHO</td>\n",
       "      <td>-49.719044</td>\n",
       "      <td>-22.084132</td>\n",
       "    </tr>\n",
       "    <tr>\n",
       "      <th>SP</th>\n",
       "      <td>ÓLEO</td>\n",
       "      <td>-49.341924</td>\n",
       "      <td>-22.943461</td>\n",
       "    </tr>\n",
       "  </tbody>\n",
       "</table>\n",
       "<p>645 rows × 3 columns</p>\n",
       "</div>"
      ],
      "text/plain": [
       "                  city         lon         lat\n",
       "uf                                            \n",
       "SP          ADAMANTINA  -51.073695  -21.682012\n",
       "SP              ADOLFO  -49.645128  -21.232494\n",
       "SP               AGUAÍ  -46.973502  -22.057207\n",
       "SP              AGUDOS   -48.98632  -22.469433\n",
       "SP            ALAMBARI  -47.897971  -23.550338\n",
       "..                 ...         ...         ...\n",
       "SP  ÁGUAS DE SÃO PEDRO  -47.873395  -22.597749\n",
       "SP    ÁLVARES FLORENCE  -49.914126  -20.320341\n",
       "SP     ÁLVARES MACHADO   -51.47224  -22.076415\n",
       "SP  ÁLVARO DE CARVALHO  -49.719044  -22.084132\n",
       "SP                ÓLEO  -49.341924  -22.943461\n",
       "\n",
       "[645 rows x 3 columns]"
      ]
     },
     "execution_count": 27,
     "metadata": {},
     "output_type": "execute_result"
    }
   ],
   "source": [
    "df_sp"
   ]
  },
  {
   "cell_type": "code",
   "execution_count": 28,
   "metadata": {},
   "outputs": [
    {
     "data": {
      "text/plain": [
       "city\n",
       "ADAMANTINA                 1\n",
       "AGUDOS                     1\n",
       "AMERICANA                 11\n",
       "AMPARO                     4\n",
       "APARECIDA                  1\n",
       "                          ..\n",
       "VARGEM GRANDE PAULISTA     1\n",
       "VINHEDO                    3\n",
       "VOTORANTIM                 2\n",
       "VOTUPORANGA               15\n",
       "VÁRZEA PAULISTA            3\n",
       "Name: freq, Length: 193, dtype: int64"
      ]
     },
     "execution_count": 28,
     "metadata": {},
     "output_type": "execute_result"
    }
   ],
   "source": [
    "sp_count"
   ]
  },
  {
   "cell_type": "code",
   "execution_count": 29,
   "metadata": {},
   "outputs": [],
   "source": [
    "sp_count = sp_count.rename_axis('a').reset_index()\n"
   ]
  },
  {
   "cell_type": "code",
   "execution_count": 30,
   "metadata": {},
   "outputs": [
    {
     "data": {
      "text/html": [
       "<div>\n",
       "<style scoped>\n",
       "    .dataframe tbody tr th:only-of-type {\n",
       "        vertical-align: middle;\n",
       "    }\n",
       "\n",
       "    .dataframe tbody tr th {\n",
       "        vertical-align: top;\n",
       "    }\n",
       "\n",
       "    .dataframe thead th {\n",
       "        text-align: right;\n",
       "    }\n",
       "</style>\n",
       "<table border=\"1\" class=\"dataframe\">\n",
       "  <thead>\n",
       "    <tr style=\"text-align: right;\">\n",
       "      <th></th>\n",
       "      <th>a</th>\n",
       "      <th>freq</th>\n",
       "    </tr>\n",
       "  </thead>\n",
       "  <tbody>\n",
       "    <tr>\n",
       "      <th>0</th>\n",
       "      <td>ADAMANTINA</td>\n",
       "      <td>1</td>\n",
       "    </tr>\n",
       "    <tr>\n",
       "      <th>1</th>\n",
       "      <td>AGUDOS</td>\n",
       "      <td>1</td>\n",
       "    </tr>\n",
       "    <tr>\n",
       "      <th>2</th>\n",
       "      <td>AMERICANA</td>\n",
       "      <td>11</td>\n",
       "    </tr>\n",
       "    <tr>\n",
       "      <th>3</th>\n",
       "      <td>AMPARO</td>\n",
       "      <td>4</td>\n",
       "    </tr>\n",
       "    <tr>\n",
       "      <th>4</th>\n",
       "      <td>APARECIDA</td>\n",
       "      <td>1</td>\n",
       "    </tr>\n",
       "    <tr>\n",
       "      <th>...</th>\n",
       "      <td>...</td>\n",
       "      <td>...</td>\n",
       "    </tr>\n",
       "    <tr>\n",
       "      <th>188</th>\n",
       "      <td>VARGEM GRANDE PAULISTA</td>\n",
       "      <td>1</td>\n",
       "    </tr>\n",
       "    <tr>\n",
       "      <th>189</th>\n",
       "      <td>VINHEDO</td>\n",
       "      <td>3</td>\n",
       "    </tr>\n",
       "    <tr>\n",
       "      <th>190</th>\n",
       "      <td>VOTORANTIM</td>\n",
       "      <td>2</td>\n",
       "    </tr>\n",
       "    <tr>\n",
       "      <th>191</th>\n",
       "      <td>VOTUPORANGA</td>\n",
       "      <td>15</td>\n",
       "    </tr>\n",
       "    <tr>\n",
       "      <th>192</th>\n",
       "      <td>VÁRZEA PAULISTA</td>\n",
       "      <td>3</td>\n",
       "    </tr>\n",
       "  </tbody>\n",
       "</table>\n",
       "<p>193 rows × 2 columns</p>\n",
       "</div>"
      ],
      "text/plain": [
       "                          a  freq\n",
       "0                ADAMANTINA     1\n",
       "1                    AGUDOS     1\n",
       "2                 AMERICANA    11\n",
       "3                    AMPARO     4\n",
       "4                 APARECIDA     1\n",
       "..                      ...   ...\n",
       "188  VARGEM GRANDE PAULISTA     1\n",
       "189                 VINHEDO     3\n",
       "190              VOTORANTIM     2\n",
       "191             VOTUPORANGA    15\n",
       "192         VÁRZEA PAULISTA     3\n",
       "\n",
       "[193 rows x 2 columns]"
      ]
     },
     "execution_count": 30,
     "metadata": {},
     "output_type": "execute_result"
    }
   ],
   "source": [
    "sp_count"
   ]
  },
  {
   "cell_type": "code",
   "execution_count": 31,
   "metadata": {},
   "outputs": [
    {
     "data": {
      "text/html": [
       "<div>\n",
       "<style scoped>\n",
       "    .dataframe tbody tr th:only-of-type {\n",
       "        vertical-align: middle;\n",
       "    }\n",
       "\n",
       "    .dataframe tbody tr th {\n",
       "        vertical-align: top;\n",
       "    }\n",
       "\n",
       "    .dataframe thead th {\n",
       "        text-align: right;\n",
       "    }\n",
       "</style>\n",
       "<table border=\"1\" class=\"dataframe\">\n",
       "  <thead>\n",
       "    <tr style=\"text-align: right;\">\n",
       "      <th></th>\n",
       "      <th>a</th>\n",
       "      <th>freq</th>\n",
       "    </tr>\n",
       "  </thead>\n",
       "  <tbody>\n",
       "    <tr>\n",
       "      <th>0</th>\n",
       "      <td>ADAMANTINA</td>\n",
       "      <td>1</td>\n",
       "    </tr>\n",
       "    <tr>\n",
       "      <th>1</th>\n",
       "      <td>AGUDOS</td>\n",
       "      <td>1</td>\n",
       "    </tr>\n",
       "    <tr>\n",
       "      <th>2</th>\n",
       "      <td>AMERICANA</td>\n",
       "      <td>11</td>\n",
       "    </tr>\n",
       "    <tr>\n",
       "      <th>3</th>\n",
       "      <td>AMPARO</td>\n",
       "      <td>4</td>\n",
       "    </tr>\n",
       "    <tr>\n",
       "      <th>4</th>\n",
       "      <td>APARECIDA</td>\n",
       "      <td>1</td>\n",
       "    </tr>\n",
       "    <tr>\n",
       "      <th>...</th>\n",
       "      <td>...</td>\n",
       "      <td>...</td>\n",
       "    </tr>\n",
       "    <tr>\n",
       "      <th>188</th>\n",
       "      <td>VARGEM GRANDE PAULISTA</td>\n",
       "      <td>1</td>\n",
       "    </tr>\n",
       "    <tr>\n",
       "      <th>189</th>\n",
       "      <td>VINHEDO</td>\n",
       "      <td>3</td>\n",
       "    </tr>\n",
       "    <tr>\n",
       "      <th>190</th>\n",
       "      <td>VOTORANTIM</td>\n",
       "      <td>2</td>\n",
       "    </tr>\n",
       "    <tr>\n",
       "      <th>191</th>\n",
       "      <td>VOTUPORANGA</td>\n",
       "      <td>15</td>\n",
       "    </tr>\n",
       "    <tr>\n",
       "      <th>192</th>\n",
       "      <td>VÁRZEA PAULISTA</td>\n",
       "      <td>3</td>\n",
       "    </tr>\n",
       "  </tbody>\n",
       "</table>\n",
       "<p>193 rows × 2 columns</p>\n",
       "</div>"
      ],
      "text/plain": [
       "                          a  freq\n",
       "0                ADAMANTINA     1\n",
       "1                    AGUDOS     1\n",
       "2                 AMERICANA    11\n",
       "3                    AMPARO     4\n",
       "4                 APARECIDA     1\n",
       "..                      ...   ...\n",
       "188  VARGEM GRANDE PAULISTA     1\n",
       "189                 VINHEDO     3\n",
       "190              VOTORANTIM     2\n",
       "191             VOTUPORANGA    15\n",
       "192         VÁRZEA PAULISTA     3\n",
       "\n",
       "[193 rows x 2 columns]"
      ]
     },
     "execution_count": 31,
     "metadata": {},
     "output_type": "execute_result"
    }
   ],
   "source": [
    "sp_count = sp_count.rename(columns={'city':'freq'})\n",
    "sp_count"
   ]
  },
  {
   "cell_type": "code",
   "execution_count": 32,
   "metadata": {},
   "outputs": [
    {
     "data": {
      "text/html": [
       "<div>\n",
       "<style scoped>\n",
       "    .dataframe tbody tr th:only-of-type {\n",
       "        vertical-align: middle;\n",
       "    }\n",
       "\n",
       "    .dataframe tbody tr th {\n",
       "        vertical-align: top;\n",
       "    }\n",
       "\n",
       "    .dataframe thead th {\n",
       "        text-align: right;\n",
       "    }\n",
       "</style>\n",
       "<table border=\"1\" class=\"dataframe\">\n",
       "  <thead>\n",
       "    <tr style=\"text-align: right;\">\n",
       "      <th></th>\n",
       "      <th>city</th>\n",
       "      <th>freq</th>\n",
       "    </tr>\n",
       "  </thead>\n",
       "  <tbody>\n",
       "    <tr>\n",
       "      <th>0</th>\n",
       "      <td>ADAMANTINA</td>\n",
       "      <td>1</td>\n",
       "    </tr>\n",
       "    <tr>\n",
       "      <th>1</th>\n",
       "      <td>AGUDOS</td>\n",
       "      <td>1</td>\n",
       "    </tr>\n",
       "    <tr>\n",
       "      <th>2</th>\n",
       "      <td>AMERICANA</td>\n",
       "      <td>11</td>\n",
       "    </tr>\n",
       "    <tr>\n",
       "      <th>3</th>\n",
       "      <td>AMPARO</td>\n",
       "      <td>4</td>\n",
       "    </tr>\n",
       "    <tr>\n",
       "      <th>4</th>\n",
       "      <td>APARECIDA</td>\n",
       "      <td>1</td>\n",
       "    </tr>\n",
       "    <tr>\n",
       "      <th>...</th>\n",
       "      <td>...</td>\n",
       "      <td>...</td>\n",
       "    </tr>\n",
       "    <tr>\n",
       "      <th>188</th>\n",
       "      <td>VARGEM GRANDE PAULISTA</td>\n",
       "      <td>1</td>\n",
       "    </tr>\n",
       "    <tr>\n",
       "      <th>189</th>\n",
       "      <td>VINHEDO</td>\n",
       "      <td>3</td>\n",
       "    </tr>\n",
       "    <tr>\n",
       "      <th>190</th>\n",
       "      <td>VOTORANTIM</td>\n",
       "      <td>2</td>\n",
       "    </tr>\n",
       "    <tr>\n",
       "      <th>191</th>\n",
       "      <td>VOTUPORANGA</td>\n",
       "      <td>15</td>\n",
       "    </tr>\n",
       "    <tr>\n",
       "      <th>192</th>\n",
       "      <td>VÁRZEA PAULISTA</td>\n",
       "      <td>3</td>\n",
       "    </tr>\n",
       "  </tbody>\n",
       "</table>\n",
       "<p>193 rows × 2 columns</p>\n",
       "</div>"
      ],
      "text/plain": [
       "                       city  freq\n",
       "0                ADAMANTINA     1\n",
       "1                    AGUDOS     1\n",
       "2                 AMERICANA    11\n",
       "3                    AMPARO     4\n",
       "4                 APARECIDA     1\n",
       "..                      ...   ...\n",
       "188  VARGEM GRANDE PAULISTA     1\n",
       "189                 VINHEDO     3\n",
       "190              VOTORANTIM     2\n",
       "191             VOTUPORANGA    15\n",
       "192         VÁRZEA PAULISTA     3\n",
       "\n",
       "[193 rows x 2 columns]"
      ]
     },
     "execution_count": 32,
     "metadata": {},
     "output_type": "execute_result"
    }
   ],
   "source": [
    "sp_count = sp_count.rename(columns={'a':'city'})\n",
    "sp_count"
   ]
  },
  {
   "cell_type": "code",
   "execution_count": 33,
   "metadata": {},
   "outputs": [
    {
     "data": {
      "text/html": [
       "<div>\n",
       "<style scoped>\n",
       "    .dataframe tbody tr th:only-of-type {\n",
       "        vertical-align: middle;\n",
       "    }\n",
       "\n",
       "    .dataframe tbody tr th {\n",
       "        vertical-align: top;\n",
       "    }\n",
       "\n",
       "    .dataframe thead th {\n",
       "        text-align: right;\n",
       "    }\n",
       "</style>\n",
       "<table border=\"1\" class=\"dataframe\">\n",
       "  <thead>\n",
       "    <tr style=\"text-align: right;\">\n",
       "      <th></th>\n",
       "      <th>city</th>\n",
       "      <th>freq</th>\n",
       "    </tr>\n",
       "  </thead>\n",
       "  <tbody>\n",
       "    <tr>\n",
       "      <th>0</th>\n",
       "      <td>ADAMANTINA</td>\n",
       "      <td>1</td>\n",
       "    </tr>\n",
       "    <tr>\n",
       "      <th>1</th>\n",
       "      <td>AGUDOS</td>\n",
       "      <td>1</td>\n",
       "    </tr>\n",
       "    <tr>\n",
       "      <th>2</th>\n",
       "      <td>AMERICANA</td>\n",
       "      <td>11</td>\n",
       "    </tr>\n",
       "    <tr>\n",
       "      <th>3</th>\n",
       "      <td>AMPARO</td>\n",
       "      <td>4</td>\n",
       "    </tr>\n",
       "    <tr>\n",
       "      <th>4</th>\n",
       "      <td>APARECIDA</td>\n",
       "      <td>1</td>\n",
       "    </tr>\n",
       "    <tr>\n",
       "      <th>...</th>\n",
       "      <td>...</td>\n",
       "      <td>...</td>\n",
       "    </tr>\n",
       "    <tr>\n",
       "      <th>188</th>\n",
       "      <td>VARGEM GRANDE PAULISTA</td>\n",
       "      <td>1</td>\n",
       "    </tr>\n",
       "    <tr>\n",
       "      <th>189</th>\n",
       "      <td>VINHEDO</td>\n",
       "      <td>3</td>\n",
       "    </tr>\n",
       "    <tr>\n",
       "      <th>190</th>\n",
       "      <td>VOTORANTIM</td>\n",
       "      <td>2</td>\n",
       "    </tr>\n",
       "    <tr>\n",
       "      <th>191</th>\n",
       "      <td>VOTUPORANGA</td>\n",
       "      <td>15</td>\n",
       "    </tr>\n",
       "    <tr>\n",
       "      <th>192</th>\n",
       "      <td>VÁRZEA PAULISTA</td>\n",
       "      <td>3</td>\n",
       "    </tr>\n",
       "  </tbody>\n",
       "</table>\n",
       "<p>193 rows × 2 columns</p>\n",
       "</div>"
      ],
      "text/plain": [
       "                       city  freq\n",
       "0                ADAMANTINA     1\n",
       "1                    AGUDOS     1\n",
       "2                 AMERICANA    11\n",
       "3                    AMPARO     4\n",
       "4                 APARECIDA     1\n",
       "..                      ...   ...\n",
       "188  VARGEM GRANDE PAULISTA     1\n",
       "189                 VINHEDO     3\n",
       "190              VOTORANTIM     2\n",
       "191             VOTUPORANGA    15\n",
       "192         VÁRZEA PAULISTA     3\n",
       "\n",
       "[193 rows x 2 columns]"
      ]
     },
     "execution_count": 33,
     "metadata": {},
     "output_type": "execute_result"
    }
   ],
   "source": [
    "sp_count"
   ]
  },
  {
   "cell_type": "code",
   "execution_count": 34,
   "metadata": {},
   "outputs": [],
   "source": [
    "final_sp = pd.merge(sp_count, df_sp)"
   ]
  },
  {
   "cell_type": "code",
   "execution_count": 35,
   "metadata": {},
   "outputs": [
    {
     "data": {
      "text/html": [
       "<div>\n",
       "<style scoped>\n",
       "    .dataframe tbody tr th:only-of-type {\n",
       "        vertical-align: middle;\n",
       "    }\n",
       "\n",
       "    .dataframe tbody tr th {\n",
       "        vertical-align: top;\n",
       "    }\n",
       "\n",
       "    .dataframe thead th {\n",
       "        text-align: right;\n",
       "    }\n",
       "</style>\n",
       "<table border=\"1\" class=\"dataframe\">\n",
       "  <thead>\n",
       "    <tr style=\"text-align: right;\">\n",
       "      <th></th>\n",
       "      <th>city</th>\n",
       "      <th>freq</th>\n",
       "      <th>lon</th>\n",
       "      <th>lat</th>\n",
       "    </tr>\n",
       "  </thead>\n",
       "  <tbody>\n",
       "    <tr>\n",
       "      <th>0</th>\n",
       "      <td>ADAMANTINA</td>\n",
       "      <td>1</td>\n",
       "      <td>-51.073695</td>\n",
       "      <td>-21.682012</td>\n",
       "    </tr>\n",
       "    <tr>\n",
       "      <th>1</th>\n",
       "      <td>AGUDOS</td>\n",
       "      <td>1</td>\n",
       "      <td>-48.98632</td>\n",
       "      <td>-22.469433</td>\n",
       "    </tr>\n",
       "    <tr>\n",
       "      <th>2</th>\n",
       "      <td>AMERICANA</td>\n",
       "      <td>11</td>\n",
       "      <td>-47.333119</td>\n",
       "      <td>-22.73736</td>\n",
       "    </tr>\n",
       "    <tr>\n",
       "      <th>3</th>\n",
       "      <td>AMPARO</td>\n",
       "      <td>4</td>\n",
       "      <td>-46.772022</td>\n",
       "      <td>-22.70879</td>\n",
       "    </tr>\n",
       "    <tr>\n",
       "      <th>4</th>\n",
       "      <td>APARECIDA</td>\n",
       "      <td>1</td>\n",
       "      <td>-45.232496</td>\n",
       "      <td>-22.849509</td>\n",
       "    </tr>\n",
       "    <tr>\n",
       "      <th>...</th>\n",
       "      <td>...</td>\n",
       "      <td>...</td>\n",
       "      <td>...</td>\n",
       "      <td>...</td>\n",
       "    </tr>\n",
       "    <tr>\n",
       "      <th>188</th>\n",
       "      <td>VARGEM GRANDE PAULISTA</td>\n",
       "      <td>1</td>\n",
       "      <td>-47.022038</td>\n",
       "      <td>-23.599338</td>\n",
       "    </tr>\n",
       "    <tr>\n",
       "      <th>189</th>\n",
       "      <td>VINHEDO</td>\n",
       "      <td>3</td>\n",
       "      <td>-46.983312</td>\n",
       "      <td>-23.030184</td>\n",
       "    </tr>\n",
       "    <tr>\n",
       "      <th>190</th>\n",
       "      <td>VOTORANTIM</td>\n",
       "      <td>2</td>\n",
       "      <td>-47.438753</td>\n",
       "      <td>-23.54459</td>\n",
       "    </tr>\n",
       "    <tr>\n",
       "      <th>191</th>\n",
       "      <td>VOTUPORANGA</td>\n",
       "      <td>15</td>\n",
       "      <td>-49.978112</td>\n",
       "      <td>-20.423659</td>\n",
       "    </tr>\n",
       "    <tr>\n",
       "      <th>192</th>\n",
       "      <td>VÁRZEA PAULISTA</td>\n",
       "      <td>3</td>\n",
       "      <td>-46.823444</td>\n",
       "      <td>-23.213582</td>\n",
       "    </tr>\n",
       "  </tbody>\n",
       "</table>\n",
       "<p>193 rows × 4 columns</p>\n",
       "</div>"
      ],
      "text/plain": [
       "                       city  freq         lon         lat\n",
       "0                ADAMANTINA     1  -51.073695  -21.682012\n",
       "1                    AGUDOS     1   -48.98632  -22.469433\n",
       "2                 AMERICANA    11  -47.333119   -22.73736\n",
       "3                    AMPARO     4  -46.772022   -22.70879\n",
       "4                 APARECIDA     1  -45.232496  -22.849509\n",
       "..                      ...   ...         ...         ...\n",
       "188  VARGEM GRANDE PAULISTA     1  -47.022038  -23.599338\n",
       "189                 VINHEDO     3  -46.983312  -23.030184\n",
       "190              VOTORANTIM     2  -47.438753   -23.54459\n",
       "191             VOTUPORANGA    15  -49.978112  -20.423659\n",
       "192         VÁRZEA PAULISTA     3  -46.823444  -23.213582\n",
       "\n",
       "[193 rows x 4 columns]"
      ]
     },
     "execution_count": 35,
     "metadata": {},
     "output_type": "execute_result"
    }
   ],
   "source": [
    "final_sp"
   ]
  },
  {
   "cell_type": "code",
   "execution_count": 36,
   "metadata": {},
   "outputs": [],
   "source": [
    "import plotly.express as px"
   ]
  },
  {
   "cell_type": "code",
   "execution_count": 172,
   "metadata": {},
   "outputs": [
    {
     "data": {
      "application/vnd.plotly.v1+json": {
       "config": {
        "plotlyServerURL": "https://plot.ly"
       },
       "data": [
        {
         "coloraxis": "coloraxis",
         "customdata": [
          [
           "ADAMANTINA"
          ],
          [
           "AGUDOS"
          ],
          [
           "AMERICANA"
          ],
          [
           "AMPARO"
          ],
          [
           "APARECIDA"
          ],
          [
           "ARARAQUARA"
          ],
          [
           "ARARAS"
          ],
          [
           "ARAÇARIGUAMA"
          ],
          [
           "ARAÇATUBA"
          ],
          [
           "ARTUR NOGUEIRA"
          ],
          [
           "ARUJÁ"
          ],
          [
           "ASSIS"
          ],
          [
           "ATIBAIA"
          ],
          [
           "AVARÉ"
          ],
          [
           "BARIRI"
          ],
          [
           "BARRA BONITA"
          ],
          [
           "BARRETOS"
          ],
          [
           "BARRINHA"
          ],
          [
           "BARUERI"
          ],
          [
           "BASTOS"
          ],
          [
           "BATATAIS"
          ],
          [
           "BAURU"
          ],
          [
           "BEBEDOURO"
          ],
          [
           "BERTIOGA"
          ],
          [
           "BIRIGUI"
          ],
          [
           "BOITUVA"
          ],
          [
           "BOM JESUS DOS PERDÕES"
          ],
          [
           "BOTUCATU"
          ],
          [
           "BRAGANÇA PAULISTA"
          ],
          [
           "BROTAS"
          ],
          [
           "BÁLSAMO"
          ],
          [
           "CABREÚVA"
          ],
          [
           "CACONDE"
          ],
          [
           "CAIEIRAS"
          ],
          [
           "CAJAMAR"
          ],
          [
           "CAJURU"
          ],
          [
           "CAMPINA DO MONTE ALEGRE"
          ],
          [
           "CAMPINAS"
          ],
          [
           "CAMPO LIMPO PAULISTA"
          ],
          [
           "CAMPOS DO JORDÃO"
          ],
          [
           "CAPIVARI"
          ],
          [
           "CARAGUATATUBA"
          ],
          [
           "CARAPICUÍBA"
          ],
          [
           "CATANDUVA"
          ],
          [
           "CERQUILHO"
          ],
          [
           "CLEMENTINA"
          ],
          [
           "CONCHAL"
          ],
          [
           "CORDEIRÓPOLIS"
          ],
          [
           "COTIA"
          ],
          [
           "CRUZEIRO"
          ],
          [
           "CUBATÃO"
          ],
          [
           "DIADEMA"
          ],
          [
           "DOURADO"
          ],
          [
           "EMBU"
          ],
          [
           "EMBU-GUAÇU"
          ],
          [
           "ESPÍRITO SANTO DO TURVO"
          ],
          [
           "FERNANDÓPOLIS"
          ],
          [
           "FERRAZ DE VASCONCELOS"
          ],
          [
           "FRANCA"
          ],
          [
           "FRANCISCO MORATO"
          ],
          [
           "FRANCO DA ROCHA"
          ],
          [
           "GUARATINGUETÁ"
          ],
          [
           "GUARIBA"
          ],
          [
           "GUARUJÁ"
          ],
          [
           "GUARULHOS"
          ],
          [
           "HORTOLÂNDIA"
          ],
          [
           "IBIRAREMA"
          ],
          [
           "IBITINGA"
          ],
          [
           "IBIÚNA"
          ],
          [
           "INDAIATUBA"
          ],
          [
           "IPORANGA"
          ],
          [
           "IRACEMÁPOLIS"
          ],
          [
           "ITANHAÉM"
          ],
          [
           "ITAPECERICA DA SERRA"
          ],
          [
           "ITAPETININGA"
          ],
          [
           "ITAPEVA"
          ],
          [
           "ITAPEVI"
          ],
          [
           "ITAPIRA"
          ],
          [
           "ITAQUAQUECETUBA"
          ],
          [
           "ITATIBA"
          ],
          [
           "ITAÍ"
          ],
          [
           "ITU"
          ],
          [
           "ITUPEVA"
          ],
          [
           "ITUVERAVA"
          ],
          [
           "JABOTICABAL"
          ],
          [
           "JACAREÍ"
          ],
          [
           "JACI"
          ],
          [
           "JACUPIRANGA"
          ],
          [
           "JAGUARIÚNA"
          ],
          [
           "JALES"
          ],
          [
           "JARDINÓPOLIS"
          ],
          [
           "JARINU"
          ],
          [
           "JAÚ"
          ],
          [
           "JUNDIAÍ"
          ],
          [
           "JUNQUEIRÓPOLIS"
          ],
          [
           "LAGOINHA"
          ],
          [
           "LARANJAL PAULISTA"
          ],
          [
           "LEME"
          ],
          [
           "LENÇÓIS PAULISTA"
          ],
          [
           "LIMEIRA"
          ],
          [
           "LINS"
          ],
          [
           "LORENA"
          ],
          [
           "LOUVEIRA"
          ],
          [
           "MAIRINQUE"
          ],
          [
           "MAIRIPORÃ"
          ],
          [
           "MARÍLIA"
          ],
          [
           "MATÃO"
          ],
          [
           "MAUÁ"
          ],
          [
           "MINEIROS DO TIETÊ"
          ],
          [
           "MIRASSOL"
          ],
          [
           "MOCOCA"
          ],
          [
           "MOGI DAS CRUZES"
          ],
          [
           "MOGI GUAÇU"
          ],
          [
           "MOGI MIRIM"
          ],
          [
           "MONGAGUÁ"
          ],
          [
           "MONTE ALTO"
          ],
          [
           "MONTE MOR"
          ],
          [
           "MORRO AGUDO"
          ],
          [
           "NIPOÃ"
          ],
          [
           "NOVA ODESSA"
          ],
          [
           "NOVO HORIZONTE"
          ],
          [
           "OLÍMPIA"
          ],
          [
           "ORLÂNDIA"
          ],
          [
           "OSASCO"
          ],
          [
           "OURINHOS"
          ],
          [
           "PARAGUAÇU PAULISTA"
          ],
          [
           "PARAIBUNA"
          ],
          [
           "PAULO DE FARIA"
          ],
          [
           "PAULÍNIA"
          ],
          [
           "PEDERNEIRAS"
          ],
          [
           "PEDREIRA"
          ],
          [
           "PENÁPOLIS"
          ],
          [
           "PERUÍBE"
          ],
          [
           "PINDAMONHANGABA"
          ],
          [
           "PINHALZINHO"
          ],
          [
           "PIRACAIA"
          ],
          [
           "PIRACICABA"
          ],
          [
           "PIRAJU"
          ],
          [
           "PIRASSUNUNGA"
          ],
          [
           "PITANGUEIRAS"
          ],
          [
           "PLANALTO"
          ],
          [
           "PORTO FELIZ"
          ],
          [
           "PORTO FERREIRA"
          ],
          [
           "POÁ"
          ],
          [
           "PRAIA GRANDE"
          ],
          [
           "PRESIDENTE PRUDENTE"
          ],
          [
           "REGISTRO"
          ],
          [
           "RIBEIRÃO PIRES"
          ],
          [
           "RIBEIRÃO PRETO"
          ],
          [
           "RIO CLARO"
          ],
          [
           "RIO DAS PEDRAS"
          ],
          [
           "RIO GRANDE DA SERRA"
          ],
          [
           "SALTO"
          ],
          [
           "SALTO GRANDE"
          ],
          [
           "SANTA BÁRBARA D`OESTE"
          ],
          [
           "SANTA FÉ DO SUL"
          ],
          [
           "SANTA ISABEL"
          ],
          [
           "SANTO ANDRÉ"
          ],
          [
           "SANTOS"
          ],
          [
           "SERRANA"
          ],
          [
           "SERTÃOZINHO"
          ],
          [
           "SOCORRO"
          ],
          [
           "SOROCABA"
          ],
          [
           "SUMARÉ"
          ],
          [
           "SUZANO"
          ],
          [
           "SÃO BERNARDO DO CAMPO"
          ],
          [
           "SÃO CAETANO DO SUL"
          ],
          [
           "SÃO CARLOS"
          ],
          [
           "SÃO JOSÉ DO BARREIRO"
          ],
          [
           "SÃO JOSÉ DO RIO PRETO"
          ],
          [
           "SÃO JOSÉ DOS CAMPOS"
          ],
          [
           "SÃO JOÃO DA BOA VISTA"
          ],
          [
           "SÃO LOURENÇO DA SERRA"
          ],
          [
           "SÃO MANUEL"
          ],
          [
           "SÃO MIGUEL ARCANJO"
          ],
          [
           "SÃO PAULO"
          ],
          [
           "SÃO PEDRO"
          ],
          [
           "SÃO ROQUE"
          ],
          [
           "SÃO SEBASTIÃO"
          ],
          [
           "SÃO VICENTE"
          ],
          [
           "TABOÃO DA SERRA"
          ],
          [
           "TATUÍ"
          ],
          [
           "TAUBATÉ"
          ],
          [
           "TORRINHA"
          ],
          [
           "TUPÃ"
          ],
          [
           "VALINHOS"
          ],
          [
           "VALPARAÍSO"
          ],
          [
           "VARGEM GRANDE DO SUL"
          ],
          [
           "VARGEM GRANDE PAULISTA"
          ],
          [
           "VINHEDO"
          ],
          [
           "VOTORANTIM"
          ],
          [
           "VOTUPORANGA"
          ],
          [
           "VÁRZEA PAULISTA"
          ]
         ],
         "hovertemplate": "freq=%{z}<br>lat=%{lat}<br>lon=%{lon}<br>city=%{customdata[0]}<extra></extra>",
         "lat": [
          "-21.682012",
          "-22.469433",
          "-22.73736",
          "-22.70879",
          "-22.849509",
          "-21.784511",
          "-22.357238",
          "-23.436597",
          "-21.207648",
          "-22.572737",
          "-23.396476",
          "-22.659957",
          "-23.117059",
          "-23.106732",
          "-22.072955",
          "-22.490859",
          "-20.553146",
          "-21.186374",
          "-23.505689",
          "-21.920984",
          "-20.892867",
          "-22.324569",
          "-20.949077",
          "-23.848568",
          "-21.291034",
          "-23.285531",
          "-23.135579",
          "-22.883697",
          "-22.952681",
          "-22.279476",
          "-20.734843",
          "-23.30533",
          "-21.527995",
          "-23.360729",
          "-23.355014",
          "-21.274934",
          "-23.58948",
          "-22.905346",
          "-23.207791",
          "-22.729618",
          "-22.995144",
          "-23.612535",
          "-23.523471",
          "-21.131381",
          "-23.166487",
          "-21.560447",
          "-22.337512",
          "-22.477778",
          "-23.602177",
          "-22.572764",
          "-23.891121",
          "-23.681347",
          "-22.104436",
          "-23.643717",
          "-23.829717",
          "-22.69254",
          "-20.280556",
          "-23.541056",
          "-20.53523",
          "-23.279248",
          "-23.322882",
          "-22.807534",
          "-21.35938",
          "-23.988798",
          "-23.453758",
          "-22.852854",
          "-22.818537",
          "-21.75623",
          "-23.65961",
          "-23.081591",
          "-24.584718",
          "-22.583234",
          "-24.173633",
          "-23.716135",
          "-23.588607",
          "-23.978823",
          "-23.548774",
          "-22.435731",
          "-23.483481",
          "-23.003497",
          "-23.42129",
          "-23.254397",
          "-23.152635",
          "-20.335465",
          "-21.252037",
          "-23.29829",
          "-20.880468",
          "-24.696326",
          "-22.70374",
          "-20.267227",
          "-21.017612",
          "-23.103855",
          "-22.293585",
          "-23.185218",
          "-21.510348",
          "-23.084621",
          "-23.050564",
          "-22.180857",
          "-22.602693",
          "-22.56605",
          "-21.67182",
          "-22.73338",
          "-23.085572",
          "-23.539822",
          "-23.31713",
          "-22.217108",
          "-21.602511",
          "-23.66767",
          "-22.412007",
          "-20.816874",
          "-21.464731",
          "-23.52082",
          "-22.367453",
          "-22.431878",
          "-24.080901",
          "-21.265545",
          "-22.945043",
          "-20.728828",
          "-20.911397",
          "-22.783186",
          "-21.465145",
          "-20.736634",
          "-20.716925",
          "-23.53239",
          "-22.979695",
          "-22.411369",
          "-23.387213",
          "-20.029612",
          "-22.754178",
          "-22.351086",
          "-22.741347",
          "-21.414765",
          "-24.311974",
          "-22.92463",
          "-22.781115",
          "-23.052545",
          "-22.733801",
          "-23.198066",
          "-21.995982",
          "-21.013203",
          "-21.034249",
          "-23.209318",
          "-21.849814",
          "-23.533285",
          "-24.008378",
          "-22.120654",
          "-24.497942",
          "-23.706669",
          "-21.169923",
          "-22.398378",
          "-22.841723",
          "-23.743724",
          "-23.199592",
          "-22.889389",
          "-22.755256",
          "-20.208252",
          "-23.317194",
          "-23.67373",
          "-23.953543",
          "-21.204336",
          "-21.131596",
          "-22.590264",
          "-23.496886",
          "-22.820416",
          "-23.544828",
          "-23.691412",
          "-23.62287",
          "-22.017395",
          "-22.641353",
          "-20.811289",
          "-23.189554",
          "-21.970747",
          "-23.849134",
          "-22.732081",
          "-23.878197",
          "-23.532905",
          "-22.548256",
          "-23.522598",
          "-23.795059",
          "-23.957353",
          "-23.601867",
          "-23.348731",
          "-23.010414",
          "-22.423721",
          "-21.933528",
          "-22.969805",
          "-21.222929",
          "-21.832194",
          "-23.599338",
          "-23.030184",
          "-23.54459",
          "-20.423659",
          "-23.213582"
         ],
         "lon": [
          "-51.073695",
          "-48.98632",
          "-47.333119",
          "-46.772022",
          "-45.232496",
          "-48.178014",
          "-47.384235",
          "-47.060825",
          "-50.440106",
          "-47.172679",
          "-46.319983",
          "-50.418307",
          "-46.556262",
          "-48.925052",
          "-48.743828",
          "-48.558349",
          "-48.569832",
          "-48.163614",
          "-46.879042",
          "-50.735695",
          "-47.592149",
          "-49.087142",
          "-48.479083",
          "-46.139586",
          "-50.343162",
          "-47.678574",
          "-46.467474",
          "-48.443706",
          "-46.54188",
          "-48.125115",
          "-49.586487",
          "-47.136251",
          "-46.643659",
          "-46.73974",
          "-46.878146",
          "-47.303022",
          "-48.4758",
          "-47.06595",
          "-46.788919",
          "-45.583337",
          "-47.50715",
          "-45.412533",
          "-46.840676",
          "-48.977015",
          "-47.745862",
          "-50.452476",
          "-47.172927",
          "-47.451886",
          "-46.91902",
          "-44.96896",
          "-46.423968",
          "-46.62052",
          "-48.317823",
          "-46.857854",
          "-46.813593",
          "-49.434119",
          "-50.247115",
          "-46.37097",
          "-47.403861",
          "-46.744781",
          "-46.729011",
          "-45.193788",
          "-48.23158",
          "-46.257959",
          "-46.533347",
          "-47.214259",
          "-50.073901",
          "-48.831903",
          "-47.223037",
          "-47.210093",
          "-48.597119",
          "-47.522963",
          "-46.787986",
          "-46.857193",
          "-48.048326",
          "-48.876433",
          "-46.932747",
          "-46.822434",
          "-46.345724",
          "-46.846353",
          "-49.092005",
          "-47.292688",
          "-47.059262",
          "-47.790207",
          "-48.325223",
          "-45.965814",
          "-49.579732",
          "-48.006402",
          "-46.985062",
          "-50.549442",
          "-47.760583",
          "-46.728015",
          "-48.559193",
          "-46.897358",
          "-51.434187",
          "-45.194415",
          "-47.837549",
          "-47.384109",
          "-48.803683",
          "-47.396987",
          "-49.752555",
          "-45.11968",
          "-46.948369",
          "-47.184995",
          "-46.589695",
          "-49.95006",
          "-48.363968",
          "-46.461263",
          "-48.450998",
          "-49.52061",
          "-47.002405",
          "-46.18541",
          "-46.9428",
          "-46.950514",
          "-46.626526",
          "-48.497066",
          "-47.312182",
          "-48.058084",
          "-49.783278",
          "-47.294059",
          "-49.223409",
          "-48.910625",
          "-47.885205",
          "-46.791555",
          "-49.869702",
          "-50.57316",
          "-45.663943",
          "-49.400013",
          "-47.148776",
          "-48.778113",
          "-46.894846",
          "-50.076855",
          "-47.0012",
          "-45.461264",
          "-46.589679",
          "-46.359374",
          "-47.647612",
          "-49.380335",
          "-47.425746",
          "-48.220951",
          "-49.933034",
          "-47.52512",
          "-47.487034",
          "-46.347292",
          "-46.412057",
          "-51.392526",
          "-47.844895",
          "-46.405805",
          "-47.809875",
          "-47.554632",
          "-47.604657",
          "-46.397084",
          "-47.293087",
          "-49.983134",
          "-47.414308",
          "-50.931958",
          "-46.223668",
          "-46.543154",
          "-46.335042",
          "-47.595239",
          "-47.987496",
          "-46.525118",
          "-47.445073",
          "-47.272823",
          "-46.311181",
          "-46.564617",
          "-46.554797",
          "-47.885971",
          "-44.577437",
          "-49.375767",
          "-45.884115",
          "-46.794356",
          "-46.94316",
          "-48.572316",
          "-47.993549",
          "-46.63952",
          "-47.909579",
          "-47.13567",
          "-45.414314",
          "-46.388333",
          "-46.752637",
          "-47.84612",
          "-45.55926",
          "-48.17314",
          "-50.519113",
          "-46.997367",
          "-50.869874",
          "-46.891286",
          "-47.022038",
          "-46.983312",
          "-47.438753",
          "-49.978112",
          "-46.823444"
         ],
         "name": "",
         "opacity": 0.58,
         "radius": 20,
         "subplot": "mapbox",
         "type": "densitymapbox",
         "z": [
          1,
          1,
          11,
          4,
          1,
          10,
          7,
          1,
          12,
          1,
          7,
          6,
          8,
          5,
          1,
          2,
          5,
          3,
          10,
          1,
          1,
          17,
          3,
          1,
          2,
          7,
          1,
          4,
          11,
          1,
          1,
          4,
          1,
          5,
          2,
          1,
          1,
          35,
          1,
          1,
          1,
          1,
          8,
          6,
          4,
          1,
          1,
          2,
          9,
          2,
          4,
          38,
          1,
          6,
          2,
          4,
          5,
          2,
          10,
          1,
          1,
          3,
          1,
          5,
          42,
          6,
          1,
          1,
          2,
          11,
          1,
          1,
          1,
          5,
          8,
          4,
          3,
          3,
          11,
          8,
          1,
          10,
          3,
          2,
          10,
          2,
          2,
          1,
          3,
          2,
          1,
          6,
          2,
          21,
          1,
          1,
          1,
          4,
          4,
          14,
          1,
          1,
          2,
          1,
          2,
          9,
          6,
          34,
          1,
          3,
          3,
          22,
          5,
          6,
          1,
          2,
          1,
          1,
          1,
          2,
          1,
          1,
          3,
          42,
          4,
          1,
          1,
          2,
          7,
          3,
          1,
          2,
          2,
          1,
          1,
          1,
          30,
          2,
          3,
          1,
          1,
          2,
          4,
          3,
          7,
          9,
          3,
          9,
          47,
          9,
          1,
          1,
          7,
          1,
          7,
          1,
          2,
          50,
          14,
          2,
          16,
          2,
          30,
          6,
          10,
          53,
          13,
          12,
          22,
          3,
          15,
          5,
          1,
          1,
          2,
          764,
          2,
          5,
          1,
          8,
          6,
          11,
          3,
          1,
          2,
          3,
          1,
          1,
          1,
          3,
          2,
          15,
          3
         ]
        }
       ],
       "layout": {
        "coloraxis": {
         "cmax": 25,
         "cmin": 1,
         "colorbar": {
          "title": {
           "text": "freq"
          }
         },
         "colorscale": [
          [
           0,
           "#0d0887"
          ],
          [
           0.1111111111111111,
           "#46039f"
          ],
          [
           0.2222222222222222,
           "#7201a8"
          ],
          [
           0.3333333333333333,
           "#9c179e"
          ],
          [
           0.4444444444444444,
           "#bd3786"
          ],
          [
           0.5555555555555556,
           "#d8576b"
          ],
          [
           0.6666666666666666,
           "#ed7953"
          ],
          [
           0.7777777777777778,
           "#fb9f3a"
          ],
          [
           0.8888888888888888,
           "#fdca26"
          ],
          [
           1,
           "#f0f921"
          ]
         ]
        },
        "height": 720,
        "legend": {
         "tracegroupgap": 0
        },
        "mapbox": {
         "center": {
          "lat": -22.43,
          "lon": -48
         },
         "domain": {
          "x": [
           0,
           1
          ],
          "y": [
           0,
           1
          ]
         },
         "style": "open-street-map",
         "zoom": 6
        },
        "template": {
         "data": {
          "bar": [
           {
            "error_x": {
             "color": "#2a3f5f"
            },
            "error_y": {
             "color": "#2a3f5f"
            },
            "marker": {
             "line": {
              "color": "#E5ECF6",
              "width": 0.5
             },
             "pattern": {
              "fillmode": "overlay",
              "size": 10,
              "solidity": 0.2
             }
            },
            "type": "bar"
           }
          ],
          "barpolar": [
           {
            "marker": {
             "line": {
              "color": "#E5ECF6",
              "width": 0.5
             },
             "pattern": {
              "fillmode": "overlay",
              "size": 10,
              "solidity": 0.2
             }
            },
            "type": "barpolar"
           }
          ],
          "carpet": [
           {
            "aaxis": {
             "endlinecolor": "#2a3f5f",
             "gridcolor": "white",
             "linecolor": "white",
             "minorgridcolor": "white",
             "startlinecolor": "#2a3f5f"
            },
            "baxis": {
             "endlinecolor": "#2a3f5f",
             "gridcolor": "white",
             "linecolor": "white",
             "minorgridcolor": "white",
             "startlinecolor": "#2a3f5f"
            },
            "type": "carpet"
           }
          ],
          "choropleth": [
           {
            "colorbar": {
             "outlinewidth": 0,
             "ticks": ""
            },
            "type": "choropleth"
           }
          ],
          "contour": [
           {
            "colorbar": {
             "outlinewidth": 0,
             "ticks": ""
            },
            "colorscale": [
             [
              0,
              "#0d0887"
             ],
             [
              0.1111111111111111,
              "#46039f"
             ],
             [
              0.2222222222222222,
              "#7201a8"
             ],
             [
              0.3333333333333333,
              "#9c179e"
             ],
             [
              0.4444444444444444,
              "#bd3786"
             ],
             [
              0.5555555555555556,
              "#d8576b"
             ],
             [
              0.6666666666666666,
              "#ed7953"
             ],
             [
              0.7777777777777778,
              "#fb9f3a"
             ],
             [
              0.8888888888888888,
              "#fdca26"
             ],
             [
              1,
              "#f0f921"
             ]
            ],
            "type": "contour"
           }
          ],
          "contourcarpet": [
           {
            "colorbar": {
             "outlinewidth": 0,
             "ticks": ""
            },
            "type": "contourcarpet"
           }
          ],
          "heatmap": [
           {
            "colorbar": {
             "outlinewidth": 0,
             "ticks": ""
            },
            "colorscale": [
             [
              0,
              "#0d0887"
             ],
             [
              0.1111111111111111,
              "#46039f"
             ],
             [
              0.2222222222222222,
              "#7201a8"
             ],
             [
              0.3333333333333333,
              "#9c179e"
             ],
             [
              0.4444444444444444,
              "#bd3786"
             ],
             [
              0.5555555555555556,
              "#d8576b"
             ],
             [
              0.6666666666666666,
              "#ed7953"
             ],
             [
              0.7777777777777778,
              "#fb9f3a"
             ],
             [
              0.8888888888888888,
              "#fdca26"
             ],
             [
              1,
              "#f0f921"
             ]
            ],
            "type": "heatmap"
           }
          ],
          "heatmapgl": [
           {
            "colorbar": {
             "outlinewidth": 0,
             "ticks": ""
            },
            "colorscale": [
             [
              0,
              "#0d0887"
             ],
             [
              0.1111111111111111,
              "#46039f"
             ],
             [
              0.2222222222222222,
              "#7201a8"
             ],
             [
              0.3333333333333333,
              "#9c179e"
             ],
             [
              0.4444444444444444,
              "#bd3786"
             ],
             [
              0.5555555555555556,
              "#d8576b"
             ],
             [
              0.6666666666666666,
              "#ed7953"
             ],
             [
              0.7777777777777778,
              "#fb9f3a"
             ],
             [
              0.8888888888888888,
              "#fdca26"
             ],
             [
              1,
              "#f0f921"
             ]
            ],
            "type": "heatmapgl"
           }
          ],
          "histogram": [
           {
            "marker": {
             "pattern": {
              "fillmode": "overlay",
              "size": 10,
              "solidity": 0.2
             }
            },
            "type": "histogram"
           }
          ],
          "histogram2d": [
           {
            "colorbar": {
             "outlinewidth": 0,
             "ticks": ""
            },
            "colorscale": [
             [
              0,
              "#0d0887"
             ],
             [
              0.1111111111111111,
              "#46039f"
             ],
             [
              0.2222222222222222,
              "#7201a8"
             ],
             [
              0.3333333333333333,
              "#9c179e"
             ],
             [
              0.4444444444444444,
              "#bd3786"
             ],
             [
              0.5555555555555556,
              "#d8576b"
             ],
             [
              0.6666666666666666,
              "#ed7953"
             ],
             [
              0.7777777777777778,
              "#fb9f3a"
             ],
             [
              0.8888888888888888,
              "#fdca26"
             ],
             [
              1,
              "#f0f921"
             ]
            ],
            "type": "histogram2d"
           }
          ],
          "histogram2dcontour": [
           {
            "colorbar": {
             "outlinewidth": 0,
             "ticks": ""
            },
            "colorscale": [
             [
              0,
              "#0d0887"
             ],
             [
              0.1111111111111111,
              "#46039f"
             ],
             [
              0.2222222222222222,
              "#7201a8"
             ],
             [
              0.3333333333333333,
              "#9c179e"
             ],
             [
              0.4444444444444444,
              "#bd3786"
             ],
             [
              0.5555555555555556,
              "#d8576b"
             ],
             [
              0.6666666666666666,
              "#ed7953"
             ],
             [
              0.7777777777777778,
              "#fb9f3a"
             ],
             [
              0.8888888888888888,
              "#fdca26"
             ],
             [
              1,
              "#f0f921"
             ]
            ],
            "type": "histogram2dcontour"
           }
          ],
          "mesh3d": [
           {
            "colorbar": {
             "outlinewidth": 0,
             "ticks": ""
            },
            "type": "mesh3d"
           }
          ],
          "parcoords": [
           {
            "line": {
             "colorbar": {
              "outlinewidth": 0,
              "ticks": ""
             }
            },
            "type": "parcoords"
           }
          ],
          "pie": [
           {
            "automargin": true,
            "type": "pie"
           }
          ],
          "scatter": [
           {
            "fillpattern": {
             "fillmode": "overlay",
             "size": 10,
             "solidity": 0.2
            },
            "type": "scatter"
           }
          ],
          "scatter3d": [
           {
            "line": {
             "colorbar": {
              "outlinewidth": 0,
              "ticks": ""
             }
            },
            "marker": {
             "colorbar": {
              "outlinewidth": 0,
              "ticks": ""
             }
            },
            "type": "scatter3d"
           }
          ],
          "scattercarpet": [
           {
            "marker": {
             "colorbar": {
              "outlinewidth": 0,
              "ticks": ""
             }
            },
            "type": "scattercarpet"
           }
          ],
          "scattergeo": [
           {
            "marker": {
             "colorbar": {
              "outlinewidth": 0,
              "ticks": ""
             }
            },
            "type": "scattergeo"
           }
          ],
          "scattergl": [
           {
            "marker": {
             "colorbar": {
              "outlinewidth": 0,
              "ticks": ""
             }
            },
            "type": "scattergl"
           }
          ],
          "scattermapbox": [
           {
            "marker": {
             "colorbar": {
              "outlinewidth": 0,
              "ticks": ""
             }
            },
            "type": "scattermapbox"
           }
          ],
          "scatterpolar": [
           {
            "marker": {
             "colorbar": {
              "outlinewidth": 0,
              "ticks": ""
             }
            },
            "type": "scatterpolar"
           }
          ],
          "scatterpolargl": [
           {
            "marker": {
             "colorbar": {
              "outlinewidth": 0,
              "ticks": ""
             }
            },
            "type": "scatterpolargl"
           }
          ],
          "scatterternary": [
           {
            "marker": {
             "colorbar": {
              "outlinewidth": 0,
              "ticks": ""
             }
            },
            "type": "scatterternary"
           }
          ],
          "surface": [
           {
            "colorbar": {
             "outlinewidth": 0,
             "ticks": ""
            },
            "colorscale": [
             [
              0,
              "#0d0887"
             ],
             [
              0.1111111111111111,
              "#46039f"
             ],
             [
              0.2222222222222222,
              "#7201a8"
             ],
             [
              0.3333333333333333,
              "#9c179e"
             ],
             [
              0.4444444444444444,
              "#bd3786"
             ],
             [
              0.5555555555555556,
              "#d8576b"
             ],
             [
              0.6666666666666666,
              "#ed7953"
             ],
             [
              0.7777777777777778,
              "#fb9f3a"
             ],
             [
              0.8888888888888888,
              "#fdca26"
             ],
             [
              1,
              "#f0f921"
             ]
            ],
            "type": "surface"
           }
          ],
          "table": [
           {
            "cells": {
             "fill": {
              "color": "#EBF0F8"
             },
             "line": {
              "color": "white"
             }
            },
            "header": {
             "fill": {
              "color": "#C8D4E3"
             },
             "line": {
              "color": "white"
             }
            },
            "type": "table"
           }
          ]
         },
         "layout": {
          "annotationdefaults": {
           "arrowcolor": "#2a3f5f",
           "arrowhead": 0,
           "arrowwidth": 1
          },
          "autotypenumbers": "strict",
          "coloraxis": {
           "colorbar": {
            "outlinewidth": 0,
            "ticks": ""
           }
          },
          "colorscale": {
           "diverging": [
            [
             0,
             "#8e0152"
            ],
            [
             0.1,
             "#c51b7d"
            ],
            [
             0.2,
             "#de77ae"
            ],
            [
             0.3,
             "#f1b6da"
            ],
            [
             0.4,
             "#fde0ef"
            ],
            [
             0.5,
             "#f7f7f7"
            ],
            [
             0.6,
             "#e6f5d0"
            ],
            [
             0.7,
             "#b8e186"
            ],
            [
             0.8,
             "#7fbc41"
            ],
            [
             0.9,
             "#4d9221"
            ],
            [
             1,
             "#276419"
            ]
           ],
           "sequential": [
            [
             0,
             "#0d0887"
            ],
            [
             0.1111111111111111,
             "#46039f"
            ],
            [
             0.2222222222222222,
             "#7201a8"
            ],
            [
             0.3333333333333333,
             "#9c179e"
            ],
            [
             0.4444444444444444,
             "#bd3786"
            ],
            [
             0.5555555555555556,
             "#d8576b"
            ],
            [
             0.6666666666666666,
             "#ed7953"
            ],
            [
             0.7777777777777778,
             "#fb9f3a"
            ],
            [
             0.8888888888888888,
             "#fdca26"
            ],
            [
             1,
             "#f0f921"
            ]
           ],
           "sequentialminus": [
            [
             0,
             "#0d0887"
            ],
            [
             0.1111111111111111,
             "#46039f"
            ],
            [
             0.2222222222222222,
             "#7201a8"
            ],
            [
             0.3333333333333333,
             "#9c179e"
            ],
            [
             0.4444444444444444,
             "#bd3786"
            ],
            [
             0.5555555555555556,
             "#d8576b"
            ],
            [
             0.6666666666666666,
             "#ed7953"
            ],
            [
             0.7777777777777778,
             "#fb9f3a"
            ],
            [
             0.8888888888888888,
             "#fdca26"
            ],
            [
             1,
             "#f0f921"
            ]
           ]
          },
          "colorway": [
           "#636efa",
           "#EF553B",
           "#00cc96",
           "#ab63fa",
           "#FFA15A",
           "#19d3f3",
           "#FF6692",
           "#B6E880",
           "#FF97FF",
           "#FECB52"
          ],
          "font": {
           "color": "#2a3f5f"
          },
          "geo": {
           "bgcolor": "white",
           "lakecolor": "white",
           "landcolor": "#E5ECF6",
           "showlakes": true,
           "showland": true,
           "subunitcolor": "white"
          },
          "hoverlabel": {
           "align": "left"
          },
          "hovermode": "closest",
          "mapbox": {
           "style": "light"
          },
          "paper_bgcolor": "white",
          "plot_bgcolor": "#E5ECF6",
          "polar": {
           "angularaxis": {
            "gridcolor": "white",
            "linecolor": "white",
            "ticks": ""
           },
           "bgcolor": "#E5ECF6",
           "radialaxis": {
            "gridcolor": "white",
            "linecolor": "white",
            "ticks": ""
           }
          },
          "scene": {
           "xaxis": {
            "backgroundcolor": "#E5ECF6",
            "gridcolor": "white",
            "gridwidth": 2,
            "linecolor": "white",
            "showbackground": true,
            "ticks": "",
            "zerolinecolor": "white"
           },
           "yaxis": {
            "backgroundcolor": "#E5ECF6",
            "gridcolor": "white",
            "gridwidth": 2,
            "linecolor": "white",
            "showbackground": true,
            "ticks": "",
            "zerolinecolor": "white"
           },
           "zaxis": {
            "backgroundcolor": "#E5ECF6",
            "gridcolor": "white",
            "gridwidth": 2,
            "linecolor": "white",
            "showbackground": true,
            "ticks": "",
            "zerolinecolor": "white"
           }
          },
          "shapedefaults": {
           "line": {
            "color": "#2a3f5f"
           }
          },
          "ternary": {
           "aaxis": {
            "gridcolor": "white",
            "linecolor": "white",
            "ticks": ""
           },
           "baxis": {
            "gridcolor": "white",
            "linecolor": "white",
            "ticks": ""
           },
           "bgcolor": "#E5ECF6",
           "caxis": {
            "gridcolor": "white",
            "linecolor": "white",
            "ticks": ""
           }
          },
          "title": {
           "x": 0.05
          },
          "xaxis": {
           "automargin": true,
           "gridcolor": "white",
           "linecolor": "white",
           "ticks": "",
           "title": {
            "standoff": 15
           },
           "zerolinecolor": "white",
           "zerolinewidth": 2
          },
          "yaxis": {
           "automargin": true,
           "gridcolor": "white",
           "linecolor": "white",
           "ticks": "",
           "title": {
            "standoff": 15
           },
           "zerolinecolor": "white",
           "zerolinewidth": 2
          }
         }
        },
        "title": {
         "text": "Distribuição de clientes no Estado de São Paulo"
        },
        "width": 1200
       }
      }
     },
     "metadata": {},
     "output_type": "display_data"
    }
   ],
   "source": [
    "fig1 = px.density_mapbox(final_sp, lat='lat', lon='lon', z='freq', center = dict(lat = -22.43, lon = -48),zoom=6, mapbox_style='open-street-map',\n",
    "                         range_color=[1, 25], radius=20, hover_data=['city'], opacity=0.58, title='Distribuição de clientes no Estado de São Paulo')\n",
    "fig1.update_layout(width=1200, height=720)\n",
    "fig1.show()"
   ]
  },
  {
   "cell_type": "code",
   "execution_count": 101,
   "metadata": {},
   "outputs": [],
   "source": [
    "fig.write_image(\"dist_cli_dctcia.svg\", scale=1)"
   ]
  },
  {
   "cell_type": "code",
   "execution_count": 151,
   "metadata": {},
   "outputs": [],
   "source": [
    "x = final_sp.copy()\n",
    "x[['lat', 'lon', 'freq']] = x[['lat', 'lon', 'freq']].astype(float)\n",
    "\n",
    "\n"
   ]
  },
  {
   "cell_type": "code",
   "execution_count": 144,
   "metadata": {},
   "outputs": [],
   "source": [
    "from math import log"
   ]
  },
  {
   "cell_type": "code",
   "execution_count": 157,
   "metadata": {},
   "outputs": [],
   "source": [
    "x['freq_log'] = x['freq'].apply(lambda x: log(x, 2))"
   ]
  },
  {
   "cell_type": "code",
   "execution_count": 166,
   "metadata": {},
   "outputs": [
    {
     "name": "stdout",
     "output_type": "stream",
     "text": [
      "                       city  freq        lon        lat  freq_log\n",
      "0                ADAMANTINA   1.0 -51.073695 -21.682012  0.000000\n",
      "1                    AGUDOS   1.0 -48.986320 -22.469433  0.000000\n",
      "2                 AMERICANA  11.0 -47.333119 -22.737360  3.459432\n",
      "3                    AMPARO   4.0 -46.772022 -22.708790  2.000000\n",
      "4                 APARECIDA   1.0 -45.232496 -22.849509  0.000000\n",
      "..                      ...   ...        ...        ...       ...\n",
      "188  VARGEM GRANDE PAULISTA   1.0 -47.022038 -23.599338  0.000000\n",
      "189                 VINHEDO   3.0 -46.983312 -23.030184  1.584963\n",
      "190              VOTORANTIM   2.0 -47.438753 -23.544590  1.000000\n",
      "191             VOTUPORANGA  15.0 -49.978112 -20.423659  3.906891\n",
      "192         VÁRZEA PAULISTA   3.0 -46.823444 -23.213582  1.584963\n",
      "\n",
      "[193 rows x 5 columns]\n"
     ]
    }
   ],
   "source": [
    "print(x)"
   ]
  },
  {
   "cell_type": "code",
   "execution_count": 182,
   "metadata": {},
   "outputs": [
    {
     "data": {
      "application/vnd.plotly.v1+json": {
       "config": {
        "plotlyServerURL": "https://plot.ly"
       },
       "data": [
        {
         "customdata": [
          [
           1,
           "ADAMANTINA",
           -51.073695,
           -21.682012,
           0
          ],
          [
           1,
           "AGUDOS",
           -48.98632,
           -22.469433,
           0
          ],
          [
           11,
           "AMERICANA",
           -47.333119,
           -22.73736,
           3.4594316186372978
          ],
          [
           4,
           "AMPARO",
           -46.772022,
           -22.70879,
           2
          ],
          [
           1,
           "APARECIDA",
           -45.232496,
           -22.849509,
           0
          ],
          [
           10,
           "ARARAQUARA",
           -48.178014,
           -21.784511,
           3.3219280948873626
          ],
          [
           7,
           "ARARAS",
           -47.384235,
           -22.357238,
           2.807354922057604
          ],
          [
           1,
           "ARAÇARIGUAMA",
           -47.060825,
           -23.436597,
           0
          ],
          [
           12,
           "ARAÇATUBA",
           -50.440106,
           -21.207648,
           3.5849625007211565
          ],
          [
           1,
           "ARTUR NOGUEIRA",
           -47.172679,
           -22.572737,
           0
          ],
          [
           7,
           "ARUJÁ",
           -46.319983,
           -23.396476,
           2.807354922057604
          ],
          [
           6,
           "ASSIS",
           -50.418307,
           -22.659957,
           2.584962500721156
          ],
          [
           8,
           "ATIBAIA",
           -46.556262,
           -23.117059,
           3
          ],
          [
           5,
           "AVARÉ",
           -48.925052,
           -23.106732,
           2.321928094887362
          ],
          [
           1,
           "BARIRI",
           -48.743828,
           -22.072955,
           0
          ],
          [
           2,
           "BARRA BONITA",
           -48.558349,
           -22.490859,
           1
          ],
          [
           5,
           "BARRETOS",
           -48.569832,
           -20.553146,
           2.321928094887362
          ],
          [
           3,
           "BARRINHA",
           -48.163614,
           -21.186374,
           1.5849625007211563
          ],
          [
           10,
           "BARUERI",
           -46.879042,
           -23.505689,
           3.3219280948873626
          ],
          [
           1,
           "BASTOS",
           -50.735695,
           -21.920984,
           0
          ],
          [
           1,
           "BATATAIS",
           -47.592149,
           -20.892867,
           0
          ],
          [
           17,
           "BAURU",
           -49.087142,
           -22.324569,
           4.08746284125034
          ],
          [
           3,
           "BEBEDOURO",
           -48.479083,
           -20.949077,
           1.5849625007211563
          ],
          [
           1,
           "BERTIOGA",
           -46.139586,
           -23.848568,
           0
          ],
          [
           2,
           "BIRIGUI",
           -50.343162,
           -21.291034,
           1
          ],
          [
           7,
           "BOITUVA",
           -47.678574,
           -23.285531,
           2.807354922057604
          ],
          [
           1,
           "BOM JESUS DOS PERDÕES",
           -46.467474,
           -23.135579,
           0
          ],
          [
           4,
           "BOTUCATU",
           -48.443706,
           -22.883697,
           2
          ],
          [
           11,
           "BRAGANÇA PAULISTA",
           -46.54188,
           -22.952681,
           3.4594316186372978
          ],
          [
           1,
           "BROTAS",
           -48.125115,
           -22.279476,
           0
          ],
          [
           1,
           "BÁLSAMO",
           -49.586487,
           -20.734843,
           0
          ],
          [
           4,
           "CABREÚVA",
           -47.136251,
           -23.30533,
           2
          ],
          [
           1,
           "CACONDE",
           -46.643659,
           -21.527995,
           0
          ],
          [
           5,
           "CAIEIRAS",
           -46.73974,
           -23.360729,
           2.321928094887362
          ],
          [
           2,
           "CAJAMAR",
           -46.878146,
           -23.355014,
           1
          ],
          [
           1,
           "CAJURU",
           -47.303022,
           -21.274934,
           0
          ],
          [
           1,
           "CAMPINA DO MONTE ALEGRE",
           -48.4758,
           -23.58948,
           0
          ],
          [
           35,
           "CAMPINAS",
           -47.06595,
           -22.905346,
           5.129283016944966
          ],
          [
           1,
           "CAMPO LIMPO PAULISTA",
           -46.788919,
           -23.207791,
           0
          ],
          [
           1,
           "CAMPOS DO JORDÃO",
           -45.583337,
           -22.729618,
           0
          ],
          [
           1,
           "CAPIVARI",
           -47.50715,
           -22.995144,
           0
          ],
          [
           1,
           "CARAGUATATUBA",
           -45.412533,
           -23.612535,
           0
          ],
          [
           8,
           "CARAPICUÍBA",
           -46.840676,
           -23.523471,
           3
          ],
          [
           6,
           "CATANDUVA",
           -48.977015,
           -21.131381,
           2.584962500721156
          ],
          [
           4,
           "CERQUILHO",
           -47.745862,
           -23.166487,
           2
          ],
          [
           1,
           "CLEMENTINA",
           -50.452476,
           -21.560447,
           0
          ],
          [
           1,
           "CONCHAL",
           -47.172927,
           -22.337512,
           0
          ],
          [
           2,
           "CORDEIRÓPOLIS",
           -47.451886,
           -22.477778,
           1
          ],
          [
           9,
           "COTIA",
           -46.91902,
           -23.602177,
           3.1699250014423126
          ],
          [
           2,
           "CRUZEIRO",
           -44.96896,
           -22.572764,
           1
          ],
          [
           4,
           "CUBATÃO",
           -46.423968,
           -23.891121,
           2
          ],
          [
           38,
           "DIADEMA",
           -46.62052,
           -23.681347,
           5.247927513443585
          ],
          [
           1,
           "DOURADO",
           -48.317823,
           -22.104436,
           0
          ],
          [
           6,
           "EMBU",
           -46.857854,
           -23.643717,
           2.584962500721156
          ],
          [
           2,
           "EMBU-GUAÇU",
           -46.813593,
           -23.829717,
           1
          ],
          [
           4,
           "ESPÍRITO SANTO DO TURVO",
           -49.434119,
           -22.69254,
           2
          ],
          [
           5,
           "FERNANDÓPOLIS",
           -50.247115,
           -20.280556,
           2.321928094887362
          ],
          [
           2,
           "FERRAZ DE VASCONCELOS",
           -46.37097,
           -23.541056,
           1
          ],
          [
           10,
           "FRANCA",
           -47.403861,
           -20.53523,
           3.3219280948873626
          ],
          [
           1,
           "FRANCISCO MORATO",
           -46.744781,
           -23.279248,
           0
          ],
          [
           1,
           "FRANCO DA ROCHA",
           -46.729011,
           -23.322882,
           0
          ],
          [
           3,
           "GUARATINGUETÁ",
           -45.193788,
           -22.807534,
           1.5849625007211563
          ],
          [
           1,
           "GUARIBA",
           -48.23158,
           -21.35938,
           0
          ],
          [
           5,
           "GUARUJÁ",
           -46.257959,
           -23.988798,
           2.321928094887362
          ],
          [
           42,
           "GUARULHOS",
           -46.533347,
           -23.453758,
           5.392317422778761
          ],
          [
           6,
           "HORTOLÂNDIA",
           -47.214259,
           -22.852854,
           2.584962500721156
          ],
          [
           1,
           "IBIRAREMA",
           -50.073901,
           -22.818537,
           0
          ],
          [
           1,
           "IBITINGA",
           -48.831903,
           -21.75623,
           0
          ],
          [
           2,
           "IBIÚNA",
           -47.223037,
           -23.65961,
           1
          ],
          [
           11,
           "INDAIATUBA",
           -47.210093,
           -23.081591,
           3.4594316186372978
          ],
          [
           1,
           "IPORANGA",
           -48.597119,
           -24.584718,
           0
          ],
          [
           1,
           "IRACEMÁPOLIS",
           -47.522963,
           -22.583234,
           0
          ],
          [
           1,
           "ITANHAÉM",
           -46.787986,
           -24.173633,
           0
          ],
          [
           5,
           "ITAPECERICA DA SERRA",
           -46.857193,
           -23.716135,
           2.321928094887362
          ],
          [
           8,
           "ITAPETININGA",
           -48.048326,
           -23.588607,
           3
          ],
          [
           4,
           "ITAPEVA",
           -48.876433,
           -23.978823,
           2
          ],
          [
           3,
           "ITAPEVI",
           -46.932747,
           -23.548774,
           1.5849625007211563
          ],
          [
           3,
           "ITAPIRA",
           -46.822434,
           -22.435731,
           1.5849625007211563
          ],
          [
           11,
           "ITAQUAQUECETUBA",
           -46.345724,
           -23.483481,
           3.4594316186372978
          ],
          [
           8,
           "ITATIBA",
           -46.846353,
           -23.003497,
           3
          ],
          [
           1,
           "ITAÍ",
           -49.092005,
           -23.42129,
           0
          ],
          [
           10,
           "ITU",
           -47.292688,
           -23.254397,
           3.3219280948873626
          ],
          [
           3,
           "ITUPEVA",
           -47.059262,
           -23.152635,
           1.5849625007211563
          ],
          [
           2,
           "ITUVERAVA",
           -47.790207,
           -20.335465,
           1
          ],
          [
           10,
           "JABOTICABAL",
           -48.325223,
           -21.252037,
           3.3219280948873626
          ],
          [
           2,
           "JACAREÍ",
           -45.965814,
           -23.29829,
           1
          ],
          [
           2,
           "JACI",
           -49.579732,
           -20.880468,
           1
          ],
          [
           1,
           "JACUPIRANGA",
           -48.006402,
           -24.696326,
           0
          ],
          [
           3,
           "JAGUARIÚNA",
           -46.985062,
           -22.70374,
           1.5849625007211563
          ],
          [
           2,
           "JALES",
           -50.549442,
           -20.267227,
           1
          ],
          [
           1,
           "JARDINÓPOLIS",
           -47.760583,
           -21.017612,
           0
          ],
          [
           6,
           "JARINU",
           -46.728015,
           -23.103855,
           2.584962500721156
          ],
          [
           2,
           "JAÚ",
           -48.559193,
           -22.293585,
           1
          ],
          [
           21,
           "JUNDIAÍ",
           -46.897358,
           -23.185218,
           4.392317422778761
          ],
          [
           1,
           "JUNQUEIRÓPOLIS",
           -51.434187,
           -21.510348,
           0
          ],
          [
           1,
           "LAGOINHA",
           -45.194415,
           -23.084621,
           0
          ],
          [
           1,
           "LARANJAL PAULISTA",
           -47.837549,
           -23.050564,
           0
          ],
          [
           4,
           "LEME",
           -47.384109,
           -22.180857,
           2
          ],
          [
           4,
           "LENÇÓIS PAULISTA",
           -48.803683,
           -22.602693,
           2
          ],
          [
           14,
           "LIMEIRA",
           -47.396987,
           -22.56605,
           3.8073549220576037
          ],
          [
           1,
           "LINS",
           -49.752555,
           -21.67182,
           0
          ],
          [
           1,
           "LORENA",
           -45.11968,
           -22.73338,
           0
          ],
          [
           2,
           "LOUVEIRA",
           -46.948369,
           -23.085572,
           1
          ],
          [
           1,
           "MAIRINQUE",
           -47.184995,
           -23.539822,
           0
          ],
          [
           2,
           "MAIRIPORÃ",
           -46.589695,
           -23.31713,
           1
          ],
          [
           9,
           "MARÍLIA",
           -49.95006,
           -22.217108,
           3.1699250014423126
          ],
          [
           6,
           "MATÃO",
           -48.363968,
           -21.602511,
           2.584962500721156
          ],
          [
           34,
           "MAUÁ",
           -46.461263,
           -23.66767,
           5.08746284125034
          ],
          [
           1,
           "MINEIROS DO TIETÊ",
           -48.450998,
           -22.412007,
           0
          ],
          [
           3,
           "MIRASSOL",
           -49.52061,
           -20.816874,
           1.5849625007211563
          ],
          [
           3,
           "MOCOCA",
           -47.002405,
           -21.464731,
           1.5849625007211563
          ],
          [
           22,
           "MOGI DAS CRUZES",
           -46.18541,
           -23.52082,
           4.459431618637297
          ],
          [
           5,
           "MOGI GUAÇU",
           -46.9428,
           -22.367453,
           2.321928094887362
          ],
          [
           6,
           "MOGI MIRIM",
           -46.950514,
           -22.431878,
           2.584962500721156
          ],
          [
           1,
           "MONGAGUÁ",
           -46.626526,
           -24.080901,
           0
          ],
          [
           2,
           "MONTE ALTO",
           -48.497066,
           -21.265545,
           1
          ],
          [
           1,
           "MONTE MOR",
           -47.312182,
           -22.945043,
           0
          ],
          [
           1,
           "MORRO AGUDO",
           -48.058084,
           -20.728828,
           0
          ],
          [
           1,
           "NIPOÃ",
           -49.783278,
           -20.911397,
           0
          ],
          [
           2,
           "NOVA ODESSA",
           -47.294059,
           -22.783186,
           1
          ],
          [
           1,
           "NOVO HORIZONTE",
           -49.223409,
           -21.465145,
           0
          ],
          [
           1,
           "OLÍMPIA",
           -48.910625,
           -20.736634,
           0
          ],
          [
           3,
           "ORLÂNDIA",
           -47.885205,
           -20.716925,
           1.5849625007211563
          ],
          [
           42,
           "OSASCO",
           -46.791555,
           -23.53239,
           5.392317422778761
          ],
          [
           4,
           "OURINHOS",
           -49.869702,
           -22.979695,
           2
          ],
          [
           1,
           "PARAGUAÇU PAULISTA",
           -50.57316,
           -22.411369,
           0
          ],
          [
           1,
           "PARAIBUNA",
           -45.663943,
           -23.387213,
           0
          ],
          [
           2,
           "PAULO DE FARIA",
           -49.400013,
           -20.029612,
           1
          ],
          [
           7,
           "PAULÍNIA",
           -47.148776,
           -22.754178,
           2.807354922057604
          ],
          [
           3,
           "PEDERNEIRAS",
           -48.778113,
           -22.351086,
           1.5849625007211563
          ],
          [
           1,
           "PEDREIRA",
           -46.894846,
           -22.741347,
           0
          ],
          [
           2,
           "PENÁPOLIS",
           -50.076855,
           -21.414765,
           1
          ],
          [
           2,
           "PERUÍBE",
           -47.0012,
           -24.311974,
           1
          ],
          [
           1,
           "PINDAMONHANGABA",
           -45.461264,
           -22.92463,
           0
          ],
          [
           1,
           "PINHALZINHO",
           -46.589679,
           -22.781115,
           0
          ],
          [
           1,
           "PIRACAIA",
           -46.359374,
           -23.052545,
           0
          ],
          [
           30,
           "PIRACICABA",
           -47.647612,
           -22.733801,
           4.906890595608519
          ],
          [
           2,
           "PIRAJU",
           -49.380335,
           -23.198066,
           1
          ],
          [
           3,
           "PIRASSUNUNGA",
           -47.425746,
           -21.995982,
           1.5849625007211563
          ],
          [
           1,
           "PITANGUEIRAS",
           -48.220951,
           -21.013203,
           0
          ],
          [
           1,
           "PLANALTO",
           -49.933034,
           -21.034249,
           0
          ],
          [
           2,
           "PORTO FELIZ",
           -47.52512,
           -23.209318,
           1
          ],
          [
           4,
           "PORTO FERREIRA",
           -47.487034,
           -21.849814,
           2
          ],
          [
           3,
           "POÁ",
           -46.347292,
           -23.533285,
           1.5849625007211563
          ],
          [
           7,
           "PRAIA GRANDE",
           -46.412057,
           -24.008378,
           2.807354922057604
          ],
          [
           9,
           "PRESIDENTE PRUDENTE",
           -51.392526,
           -22.120654,
           3.1699250014423126
          ],
          [
           3,
           "REGISTRO",
           -47.844895,
           -24.497942,
           1.5849625007211563
          ],
          [
           9,
           "RIBEIRÃO PIRES",
           -46.405805,
           -23.706669,
           3.1699250014423126
          ],
          [
           47,
           "RIBEIRÃO PRETO",
           -47.809875,
           -21.169923,
           5.554588851677638
          ],
          [
           9,
           "RIO CLARO",
           -47.554632,
           -22.398378,
           3.1699250014423126
          ],
          [
           1,
           "RIO DAS PEDRAS",
           -47.604657,
           -22.841723,
           0
          ],
          [
           1,
           "RIO GRANDE DA SERRA",
           -46.397084,
           -23.743724,
           0
          ],
          [
           7,
           "SALTO",
           -47.293087,
           -23.199592,
           2.807354922057604
          ],
          [
           1,
           "SALTO GRANDE",
           -49.983134,
           -22.889389,
           0
          ],
          [
           7,
           "SANTA BÁRBARA D`OESTE",
           -47.414308,
           -22.755256,
           2.807354922057604
          ],
          [
           1,
           "SANTA FÉ DO SUL",
           -50.931958,
           -20.208252,
           0
          ],
          [
           2,
           "SANTA ISABEL",
           -46.223668,
           -23.317194,
           1
          ],
          [
           50,
           "SANTO ANDRÉ",
           -46.543154,
           -23.67373,
           5.643856189774724
          ],
          [
           14,
           "SANTOS",
           -46.335042,
           -23.953543,
           3.8073549220576037
          ],
          [
           2,
           "SERRANA",
           -47.595239,
           -21.204336,
           1
          ],
          [
           16,
           "SERTÃOZINHO",
           -47.987496,
           -21.131596,
           4
          ],
          [
           2,
           "SOCORRO",
           -46.525118,
           -22.590264,
           1
          ],
          [
           30,
           "SOROCABA",
           -47.445073,
           -23.496886,
           4.906890595608519
          ],
          [
           6,
           "SUMARÉ",
           -47.272823,
           -22.820416,
           2.584962500721156
          ],
          [
           10,
           "SUZANO",
           -46.311181,
           -23.544828,
           3.3219280948873626
          ],
          [
           53,
           "SÃO BERNARDO DO CAMPO",
           -46.564617,
           -23.691412,
           5.7279204545632
          ],
          [
           13,
           "SÃO CAETANO DO SUL",
           -46.554797,
           -23.62287,
           3.700439718141092
          ],
          [
           12,
           "SÃO CARLOS",
           -47.885971,
           -22.017395,
           3.5849625007211565
          ],
          [
           22,
           "SÃO JOSÉ DO BARREIRO",
           -44.577437,
           -22.641353,
           4.459431618637297
          ],
          [
           3,
           "SÃO JOSÉ DO RIO PRETO",
           -49.375767,
           -20.811289,
           1.5849625007211563
          ],
          [
           15,
           "SÃO JOSÉ DOS CAMPOS",
           -45.884115,
           -23.189554,
           3.9068905956085187
          ],
          [
           5,
           "SÃO JOÃO DA BOA VISTA",
           -46.794356,
           -21.970747,
           2.321928094887362
          ],
          [
           1,
           "SÃO LOURENÇO DA SERRA",
           -46.94316,
           -23.849134,
           0
          ],
          [
           1,
           "SÃO MANUEL",
           -48.572316,
           -22.732081,
           0
          ],
          [
           2,
           "SÃO MIGUEL ARCANJO",
           -47.993549,
           -23.878197,
           1
          ],
          [
           764,
           "SÃO PAULO",
           -46.63952,
           -23.532905,
           9.57742882803575
          ],
          [
           2,
           "SÃO PEDRO",
           -47.909579,
           -22.548256,
           1
          ],
          [
           5,
           "SÃO ROQUE",
           -47.13567,
           -23.522598,
           2.321928094887362
          ],
          [
           1,
           "SÃO SEBASTIÃO",
           -45.414314,
           -23.795059,
           0
          ],
          [
           8,
           "SÃO VICENTE",
           -46.388333,
           -23.957353,
           3
          ],
          [
           6,
           "TABOÃO DA SERRA",
           -46.752637,
           -23.601867,
           2.584962500721156
          ],
          [
           11,
           "TATUÍ",
           -47.84612,
           -23.348731,
           3.4594316186372978
          ],
          [
           3,
           "TAUBATÉ",
           -45.55926,
           -23.010414,
           1.5849625007211563
          ],
          [
           1,
           "TORRINHA",
           -48.17314,
           -22.423721,
           0
          ],
          [
           2,
           "TUPÃ",
           -50.519113,
           -21.933528,
           1
          ],
          [
           3,
           "VALINHOS",
           -46.997367,
           -22.969805,
           1.5849625007211563
          ],
          [
           1,
           "VALPARAÍSO",
           -50.869874,
           -21.222929,
           0
          ],
          [
           1,
           "VARGEM GRANDE DO SUL",
           -46.891286,
           -21.832194,
           0
          ],
          [
           1,
           "VARGEM GRANDE PAULISTA",
           -47.022038,
           -23.599338,
           0
          ],
          [
           3,
           "VINHEDO",
           -46.983312,
           -23.030184,
           1.5849625007211563
          ],
          [
           2,
           "VOTORANTIM",
           -47.438753,
           -23.54459,
           1
          ],
          [
           15,
           "VOTUPORANGA",
           -49.978112,
           -20.423659,
           3.9068905956085187
          ],
          [
           3,
           "VÁRZEA PAULISTA",
           -46.823444,
           -23.213582,
           1.5849625007211563
          ]
         ],
         "hovertemplate": "freq=%{customdata[0]}<br>city=%{customdata[1]}<extra></extra>",
         "lat": [
          -21.682012,
          -22.469433,
          -22.73736,
          -22.70879,
          -22.849509,
          -21.784511,
          -22.357238,
          -23.436597,
          -21.207648,
          -22.572737,
          -23.396476,
          -22.659957,
          -23.117059,
          -23.106732,
          -22.072955,
          -22.490859,
          -20.553146,
          -21.186374,
          -23.505689,
          -21.920984,
          -20.892867,
          -22.324569,
          -20.949077,
          -23.848568,
          -21.291034,
          -23.285531,
          -23.135579,
          -22.883697,
          -22.952681,
          -22.279476,
          -20.734843,
          -23.30533,
          -21.527995,
          -23.360729,
          -23.355014,
          -21.274934,
          -23.58948,
          -22.905346,
          -23.207791,
          -22.729618,
          -22.995144,
          -23.612535,
          -23.523471,
          -21.131381,
          -23.166487,
          -21.560447,
          -22.337512,
          -22.477778,
          -23.602177,
          -22.572764,
          -23.891121,
          -23.681347,
          -22.104436,
          -23.643717,
          -23.829717,
          -22.69254,
          -20.280556,
          -23.541056,
          -20.53523,
          -23.279248,
          -23.322882,
          -22.807534,
          -21.35938,
          -23.988798,
          -23.453758,
          -22.852854,
          -22.818537,
          -21.75623,
          -23.65961,
          -23.081591,
          -24.584718,
          -22.583234,
          -24.173633,
          -23.716135,
          -23.588607,
          -23.978823,
          -23.548774,
          -22.435731,
          -23.483481,
          -23.003497,
          -23.42129,
          -23.254397,
          -23.152635,
          -20.335465,
          -21.252037,
          -23.29829,
          -20.880468,
          -24.696326,
          -22.70374,
          -20.267227,
          -21.017612,
          -23.103855,
          -22.293585,
          -23.185218,
          -21.510348,
          -23.084621,
          -23.050564,
          -22.180857,
          -22.602693,
          -22.56605,
          -21.67182,
          -22.73338,
          -23.085572,
          -23.539822,
          -23.31713,
          -22.217108,
          -21.602511,
          -23.66767,
          -22.412007,
          -20.816874,
          -21.464731,
          -23.52082,
          -22.367453,
          -22.431878,
          -24.080901,
          -21.265545,
          -22.945043,
          -20.728828,
          -20.911397,
          -22.783186,
          -21.465145,
          -20.736634,
          -20.716925,
          -23.53239,
          -22.979695,
          -22.411369,
          -23.387213,
          -20.029612,
          -22.754178,
          -22.351086,
          -22.741347,
          -21.414765,
          -24.311974,
          -22.92463,
          -22.781115,
          -23.052545,
          -22.733801,
          -23.198066,
          -21.995982,
          -21.013203,
          -21.034249,
          -23.209318,
          -21.849814,
          -23.533285,
          -24.008378,
          -22.120654,
          -24.497942,
          -23.706669,
          -21.169923,
          -22.398378,
          -22.841723,
          -23.743724,
          -23.199592,
          -22.889389,
          -22.755256,
          -20.208252,
          -23.317194,
          -23.67373,
          -23.953543,
          -21.204336,
          -21.131596,
          -22.590264,
          -23.496886,
          -22.820416,
          -23.544828,
          -23.691412,
          -23.62287,
          -22.017395,
          -22.641353,
          -20.811289,
          -23.189554,
          -21.970747,
          -23.849134,
          -22.732081,
          -23.878197,
          -23.532905,
          -22.548256,
          -23.522598,
          -23.795059,
          -23.957353,
          -23.601867,
          -23.348731,
          -23.010414,
          -22.423721,
          -21.933528,
          -22.969805,
          -21.222929,
          -21.832194,
          -23.599338,
          -23.030184,
          -23.54459,
          -20.423659,
          -23.213582
         ],
         "legendgroup": "",
         "lon": [
          -51.073695,
          -48.98632,
          -47.333119,
          -46.772022,
          -45.232496,
          -48.178014,
          -47.384235,
          -47.060825,
          -50.440106,
          -47.172679,
          -46.319983,
          -50.418307,
          -46.556262,
          -48.925052,
          -48.743828,
          -48.558349,
          -48.569832,
          -48.163614,
          -46.879042,
          -50.735695,
          -47.592149,
          -49.087142,
          -48.479083,
          -46.139586,
          -50.343162,
          -47.678574,
          -46.467474,
          -48.443706,
          -46.54188,
          -48.125115,
          -49.586487,
          -47.136251,
          -46.643659,
          -46.73974,
          -46.878146,
          -47.303022,
          -48.4758,
          -47.06595,
          -46.788919,
          -45.583337,
          -47.50715,
          -45.412533,
          -46.840676,
          -48.977015,
          -47.745862,
          -50.452476,
          -47.172927,
          -47.451886,
          -46.91902,
          -44.96896,
          -46.423968,
          -46.62052,
          -48.317823,
          -46.857854,
          -46.813593,
          -49.434119,
          -50.247115,
          -46.37097,
          -47.403861,
          -46.744781,
          -46.729011,
          -45.193788,
          -48.23158,
          -46.257959,
          -46.533347,
          -47.214259,
          -50.073901,
          -48.831903,
          -47.223037,
          -47.210093,
          -48.597119,
          -47.522963,
          -46.787986,
          -46.857193,
          -48.048326,
          -48.876433,
          -46.932747,
          -46.822434,
          -46.345724,
          -46.846353,
          -49.092005,
          -47.292688,
          -47.059262,
          -47.790207,
          -48.325223,
          -45.965814,
          -49.579732,
          -48.006402,
          -46.985062,
          -50.549442,
          -47.760583,
          -46.728015,
          -48.559193,
          -46.897358,
          -51.434187,
          -45.194415,
          -47.837549,
          -47.384109,
          -48.803683,
          -47.396987,
          -49.752555,
          -45.11968,
          -46.948369,
          -47.184995,
          -46.589695,
          -49.95006,
          -48.363968,
          -46.461263,
          -48.450998,
          -49.52061,
          -47.002405,
          -46.18541,
          -46.9428,
          -46.950514,
          -46.626526,
          -48.497066,
          -47.312182,
          -48.058084,
          -49.783278,
          -47.294059,
          -49.223409,
          -48.910625,
          -47.885205,
          -46.791555,
          -49.869702,
          -50.57316,
          -45.663943,
          -49.400013,
          -47.148776,
          -48.778113,
          -46.894846,
          -50.076855,
          -47.0012,
          -45.461264,
          -46.589679,
          -46.359374,
          -47.647612,
          -49.380335,
          -47.425746,
          -48.220951,
          -49.933034,
          -47.52512,
          -47.487034,
          -46.347292,
          -46.412057,
          -51.392526,
          -47.844895,
          -46.405805,
          -47.809875,
          -47.554632,
          -47.604657,
          -46.397084,
          -47.293087,
          -49.983134,
          -47.414308,
          -50.931958,
          -46.223668,
          -46.543154,
          -46.335042,
          -47.595239,
          -47.987496,
          -46.525118,
          -47.445073,
          -47.272823,
          -46.311181,
          -46.564617,
          -46.554797,
          -47.885971,
          -44.577437,
          -49.375767,
          -45.884115,
          -46.794356,
          -46.94316,
          -48.572316,
          -47.993549,
          -46.63952,
          -47.909579,
          -47.13567,
          -45.414314,
          -46.388333,
          -46.752637,
          -47.84612,
          -45.55926,
          -48.17314,
          -50.519113,
          -46.997367,
          -50.869874,
          -46.891286,
          -47.022038,
          -46.983312,
          -47.438753,
          -49.978112,
          -46.823444
         ],
         "marker": {
          "color": "#636efa",
          "opacity": 0.5,
          "size": [
           0,
           0,
           3.4594316186372978,
           2,
           0,
           3.3219280948873626,
           2.807354922057604,
           0,
           3.5849625007211565,
           0,
           2.807354922057604,
           2.584962500721156,
           3,
           2.321928094887362,
           0,
           1,
           2.321928094887362,
           1.5849625007211563,
           3.3219280948873626,
           0,
           0,
           4.08746284125034,
           1.5849625007211563,
           0,
           1,
           2.807354922057604,
           0,
           2,
           3.4594316186372978,
           0,
           0,
           2,
           0,
           2.321928094887362,
           1,
           0,
           0,
           5.129283016944966,
           0,
           0,
           0,
           0,
           3,
           2.584962500721156,
           2,
           0,
           0,
           1,
           3.1699250014423126,
           1,
           2,
           5.247927513443585,
           0,
           2.584962500721156,
           1,
           2,
           2.321928094887362,
           1,
           3.3219280948873626,
           0,
           0,
           1.5849625007211563,
           0,
           2.321928094887362,
           5.392317422778761,
           2.584962500721156,
           0,
           0,
           1,
           3.4594316186372978,
           0,
           0,
           0,
           2.321928094887362,
           3,
           2,
           1.5849625007211563,
           1.5849625007211563,
           3.4594316186372978,
           3,
           0,
           3.3219280948873626,
           1.5849625007211563,
           1,
           3.3219280948873626,
           1,
           1,
           0,
           1.5849625007211563,
           1,
           0,
           2.584962500721156,
           1,
           4.392317422778761,
           0,
           0,
           0,
           2,
           2,
           3.8073549220576037,
           0,
           0,
           1,
           0,
           1,
           3.1699250014423126,
           2.584962500721156,
           5.08746284125034,
           0,
           1.5849625007211563,
           1.5849625007211563,
           4.459431618637297,
           2.321928094887362,
           2.584962500721156,
           0,
           1,
           0,
           0,
           0,
           1,
           0,
           0,
           1.5849625007211563,
           5.392317422778761,
           2,
           0,
           0,
           1,
           2.807354922057604,
           1.5849625007211563,
           0,
           1,
           1,
           0,
           0,
           0,
           4.906890595608519,
           1,
           1.5849625007211563,
           0,
           0,
           1,
           2,
           1.5849625007211563,
           2.807354922057604,
           3.1699250014423126,
           1.5849625007211563,
           3.1699250014423126,
           5.554588851677638,
           3.1699250014423126,
           0,
           0,
           2.807354922057604,
           0,
           2.807354922057604,
           0,
           1,
           5.643856189774724,
           3.8073549220576037,
           1,
           4,
           1,
           4.906890595608519,
           2.584962500721156,
           3.3219280948873626,
           5.7279204545632,
           3.700439718141092,
           3.5849625007211565,
           4.459431618637297,
           1.5849625007211563,
           3.9068905956085187,
           2.321928094887362,
           0,
           0,
           1,
           9.57742882803575,
           1,
           2.321928094887362,
           0,
           3,
           2.584962500721156,
           3.4594316186372978,
           1.5849625007211563,
           0,
           1,
           1.5849625007211563,
           0,
           0,
           0,
           1.5849625007211563,
           1,
           3.9068905956085187,
           1.5849625007211563
          ],
          "sizemode": "area",
          "sizeref": 0.023943572070089375
         },
         "mode": "markers",
         "name": "",
         "showlegend": false,
         "subplot": "mapbox",
         "type": "scattermapbox"
        }
       ],
       "layout": {
        "height": 720,
        "legend": {
         "itemsizing": "constant",
         "tracegroupgap": 0
        },
        "mapbox": {
         "center": {
          "lat": -22.43,
          "lon": -48
         },
         "domain": {
          "x": [
           0,
           1
          ],
          "y": [
           0,
           1
          ]
         },
         "style": "open-street-map",
         "zoom": 6
        },
        "template": {
         "data": {
          "bar": [
           {
            "error_x": {
             "color": "#2a3f5f"
            },
            "error_y": {
             "color": "#2a3f5f"
            },
            "marker": {
             "line": {
              "color": "#E5ECF6",
              "width": 0.5
             },
             "pattern": {
              "fillmode": "overlay",
              "size": 10,
              "solidity": 0.2
             }
            },
            "type": "bar"
           }
          ],
          "barpolar": [
           {
            "marker": {
             "line": {
              "color": "#E5ECF6",
              "width": 0.5
             },
             "pattern": {
              "fillmode": "overlay",
              "size": 10,
              "solidity": 0.2
             }
            },
            "type": "barpolar"
           }
          ],
          "carpet": [
           {
            "aaxis": {
             "endlinecolor": "#2a3f5f",
             "gridcolor": "white",
             "linecolor": "white",
             "minorgridcolor": "white",
             "startlinecolor": "#2a3f5f"
            },
            "baxis": {
             "endlinecolor": "#2a3f5f",
             "gridcolor": "white",
             "linecolor": "white",
             "minorgridcolor": "white",
             "startlinecolor": "#2a3f5f"
            },
            "type": "carpet"
           }
          ],
          "choropleth": [
           {
            "colorbar": {
             "outlinewidth": 0,
             "ticks": ""
            },
            "type": "choropleth"
           }
          ],
          "contour": [
           {
            "colorbar": {
             "outlinewidth": 0,
             "ticks": ""
            },
            "colorscale": [
             [
              0,
              "#0d0887"
             ],
             [
              0.1111111111111111,
              "#46039f"
             ],
             [
              0.2222222222222222,
              "#7201a8"
             ],
             [
              0.3333333333333333,
              "#9c179e"
             ],
             [
              0.4444444444444444,
              "#bd3786"
             ],
             [
              0.5555555555555556,
              "#d8576b"
             ],
             [
              0.6666666666666666,
              "#ed7953"
             ],
             [
              0.7777777777777778,
              "#fb9f3a"
             ],
             [
              0.8888888888888888,
              "#fdca26"
             ],
             [
              1,
              "#f0f921"
             ]
            ],
            "type": "contour"
           }
          ],
          "contourcarpet": [
           {
            "colorbar": {
             "outlinewidth": 0,
             "ticks": ""
            },
            "type": "contourcarpet"
           }
          ],
          "heatmap": [
           {
            "colorbar": {
             "outlinewidth": 0,
             "ticks": ""
            },
            "colorscale": [
             [
              0,
              "#0d0887"
             ],
             [
              0.1111111111111111,
              "#46039f"
             ],
             [
              0.2222222222222222,
              "#7201a8"
             ],
             [
              0.3333333333333333,
              "#9c179e"
             ],
             [
              0.4444444444444444,
              "#bd3786"
             ],
             [
              0.5555555555555556,
              "#d8576b"
             ],
             [
              0.6666666666666666,
              "#ed7953"
             ],
             [
              0.7777777777777778,
              "#fb9f3a"
             ],
             [
              0.8888888888888888,
              "#fdca26"
             ],
             [
              1,
              "#f0f921"
             ]
            ],
            "type": "heatmap"
           }
          ],
          "heatmapgl": [
           {
            "colorbar": {
             "outlinewidth": 0,
             "ticks": ""
            },
            "colorscale": [
             [
              0,
              "#0d0887"
             ],
             [
              0.1111111111111111,
              "#46039f"
             ],
             [
              0.2222222222222222,
              "#7201a8"
             ],
             [
              0.3333333333333333,
              "#9c179e"
             ],
             [
              0.4444444444444444,
              "#bd3786"
             ],
             [
              0.5555555555555556,
              "#d8576b"
             ],
             [
              0.6666666666666666,
              "#ed7953"
             ],
             [
              0.7777777777777778,
              "#fb9f3a"
             ],
             [
              0.8888888888888888,
              "#fdca26"
             ],
             [
              1,
              "#f0f921"
             ]
            ],
            "type": "heatmapgl"
           }
          ],
          "histogram": [
           {
            "marker": {
             "pattern": {
              "fillmode": "overlay",
              "size": 10,
              "solidity": 0.2
             }
            },
            "type": "histogram"
           }
          ],
          "histogram2d": [
           {
            "colorbar": {
             "outlinewidth": 0,
             "ticks": ""
            },
            "colorscale": [
             [
              0,
              "#0d0887"
             ],
             [
              0.1111111111111111,
              "#46039f"
             ],
             [
              0.2222222222222222,
              "#7201a8"
             ],
             [
              0.3333333333333333,
              "#9c179e"
             ],
             [
              0.4444444444444444,
              "#bd3786"
             ],
             [
              0.5555555555555556,
              "#d8576b"
             ],
             [
              0.6666666666666666,
              "#ed7953"
             ],
             [
              0.7777777777777778,
              "#fb9f3a"
             ],
             [
              0.8888888888888888,
              "#fdca26"
             ],
             [
              1,
              "#f0f921"
             ]
            ],
            "type": "histogram2d"
           }
          ],
          "histogram2dcontour": [
           {
            "colorbar": {
             "outlinewidth": 0,
             "ticks": ""
            },
            "colorscale": [
             [
              0,
              "#0d0887"
             ],
             [
              0.1111111111111111,
              "#46039f"
             ],
             [
              0.2222222222222222,
              "#7201a8"
             ],
             [
              0.3333333333333333,
              "#9c179e"
             ],
             [
              0.4444444444444444,
              "#bd3786"
             ],
             [
              0.5555555555555556,
              "#d8576b"
             ],
             [
              0.6666666666666666,
              "#ed7953"
             ],
             [
              0.7777777777777778,
              "#fb9f3a"
             ],
             [
              0.8888888888888888,
              "#fdca26"
             ],
             [
              1,
              "#f0f921"
             ]
            ],
            "type": "histogram2dcontour"
           }
          ],
          "mesh3d": [
           {
            "colorbar": {
             "outlinewidth": 0,
             "ticks": ""
            },
            "type": "mesh3d"
           }
          ],
          "parcoords": [
           {
            "line": {
             "colorbar": {
              "outlinewidth": 0,
              "ticks": ""
             }
            },
            "type": "parcoords"
           }
          ],
          "pie": [
           {
            "automargin": true,
            "type": "pie"
           }
          ],
          "scatter": [
           {
            "fillpattern": {
             "fillmode": "overlay",
             "size": 10,
             "solidity": 0.2
            },
            "type": "scatter"
           }
          ],
          "scatter3d": [
           {
            "line": {
             "colorbar": {
              "outlinewidth": 0,
              "ticks": ""
             }
            },
            "marker": {
             "colorbar": {
              "outlinewidth": 0,
              "ticks": ""
             }
            },
            "type": "scatter3d"
           }
          ],
          "scattercarpet": [
           {
            "marker": {
             "colorbar": {
              "outlinewidth": 0,
              "ticks": ""
             }
            },
            "type": "scattercarpet"
           }
          ],
          "scattergeo": [
           {
            "marker": {
             "colorbar": {
              "outlinewidth": 0,
              "ticks": ""
             }
            },
            "type": "scattergeo"
           }
          ],
          "scattergl": [
           {
            "marker": {
             "colorbar": {
              "outlinewidth": 0,
              "ticks": ""
             }
            },
            "type": "scattergl"
           }
          ],
          "scattermapbox": [
           {
            "marker": {
             "colorbar": {
              "outlinewidth": 0,
              "ticks": ""
             }
            },
            "type": "scattermapbox"
           }
          ],
          "scatterpolar": [
           {
            "marker": {
             "colorbar": {
              "outlinewidth": 0,
              "ticks": ""
             }
            },
            "type": "scatterpolar"
           }
          ],
          "scatterpolargl": [
           {
            "marker": {
             "colorbar": {
              "outlinewidth": 0,
              "ticks": ""
             }
            },
            "type": "scatterpolargl"
           }
          ],
          "scatterternary": [
           {
            "marker": {
             "colorbar": {
              "outlinewidth": 0,
              "ticks": ""
             }
            },
            "type": "scatterternary"
           }
          ],
          "surface": [
           {
            "colorbar": {
             "outlinewidth": 0,
             "ticks": ""
            },
            "colorscale": [
             [
              0,
              "#0d0887"
             ],
             [
              0.1111111111111111,
              "#46039f"
             ],
             [
              0.2222222222222222,
              "#7201a8"
             ],
             [
              0.3333333333333333,
              "#9c179e"
             ],
             [
              0.4444444444444444,
              "#bd3786"
             ],
             [
              0.5555555555555556,
              "#d8576b"
             ],
             [
              0.6666666666666666,
              "#ed7953"
             ],
             [
              0.7777777777777778,
              "#fb9f3a"
             ],
             [
              0.8888888888888888,
              "#fdca26"
             ],
             [
              1,
              "#f0f921"
             ]
            ],
            "type": "surface"
           }
          ],
          "table": [
           {
            "cells": {
             "fill": {
              "color": "#EBF0F8"
             },
             "line": {
              "color": "white"
             }
            },
            "header": {
             "fill": {
              "color": "#C8D4E3"
             },
             "line": {
              "color": "white"
             }
            },
            "type": "table"
           }
          ]
         },
         "layout": {
          "annotationdefaults": {
           "arrowcolor": "#2a3f5f",
           "arrowhead": 0,
           "arrowwidth": 1
          },
          "autotypenumbers": "strict",
          "coloraxis": {
           "colorbar": {
            "outlinewidth": 0,
            "ticks": ""
           }
          },
          "colorscale": {
           "diverging": [
            [
             0,
             "#8e0152"
            ],
            [
             0.1,
             "#c51b7d"
            ],
            [
             0.2,
             "#de77ae"
            ],
            [
             0.3,
             "#f1b6da"
            ],
            [
             0.4,
             "#fde0ef"
            ],
            [
             0.5,
             "#f7f7f7"
            ],
            [
             0.6,
             "#e6f5d0"
            ],
            [
             0.7,
             "#b8e186"
            ],
            [
             0.8,
             "#7fbc41"
            ],
            [
             0.9,
             "#4d9221"
            ],
            [
             1,
             "#276419"
            ]
           ],
           "sequential": [
            [
             0,
             "#0d0887"
            ],
            [
             0.1111111111111111,
             "#46039f"
            ],
            [
             0.2222222222222222,
             "#7201a8"
            ],
            [
             0.3333333333333333,
             "#9c179e"
            ],
            [
             0.4444444444444444,
             "#bd3786"
            ],
            [
             0.5555555555555556,
             "#d8576b"
            ],
            [
             0.6666666666666666,
             "#ed7953"
            ],
            [
             0.7777777777777778,
             "#fb9f3a"
            ],
            [
             0.8888888888888888,
             "#fdca26"
            ],
            [
             1,
             "#f0f921"
            ]
           ],
           "sequentialminus": [
            [
             0,
             "#0d0887"
            ],
            [
             0.1111111111111111,
             "#46039f"
            ],
            [
             0.2222222222222222,
             "#7201a8"
            ],
            [
             0.3333333333333333,
             "#9c179e"
            ],
            [
             0.4444444444444444,
             "#bd3786"
            ],
            [
             0.5555555555555556,
             "#d8576b"
            ],
            [
             0.6666666666666666,
             "#ed7953"
            ],
            [
             0.7777777777777778,
             "#fb9f3a"
            ],
            [
             0.8888888888888888,
             "#fdca26"
            ],
            [
             1,
             "#f0f921"
            ]
           ]
          },
          "colorway": [
           "#636efa",
           "#EF553B",
           "#00cc96",
           "#ab63fa",
           "#FFA15A",
           "#19d3f3",
           "#FF6692",
           "#B6E880",
           "#FF97FF",
           "#FECB52"
          ],
          "font": {
           "color": "#2a3f5f"
          },
          "geo": {
           "bgcolor": "white",
           "lakecolor": "white",
           "landcolor": "#E5ECF6",
           "showlakes": true,
           "showland": true,
           "subunitcolor": "white"
          },
          "hoverlabel": {
           "align": "left"
          },
          "hovermode": "closest",
          "mapbox": {
           "style": "light"
          },
          "paper_bgcolor": "white",
          "plot_bgcolor": "#E5ECF6",
          "polar": {
           "angularaxis": {
            "gridcolor": "white",
            "linecolor": "white",
            "ticks": ""
           },
           "bgcolor": "#E5ECF6",
           "radialaxis": {
            "gridcolor": "white",
            "linecolor": "white",
            "ticks": ""
           }
          },
          "scene": {
           "xaxis": {
            "backgroundcolor": "#E5ECF6",
            "gridcolor": "white",
            "gridwidth": 2,
            "linecolor": "white",
            "showbackground": true,
            "ticks": "",
            "zerolinecolor": "white"
           },
           "yaxis": {
            "backgroundcolor": "#E5ECF6",
            "gridcolor": "white",
            "gridwidth": 2,
            "linecolor": "white",
            "showbackground": true,
            "ticks": "",
            "zerolinecolor": "white"
           },
           "zaxis": {
            "backgroundcolor": "#E5ECF6",
            "gridcolor": "white",
            "gridwidth": 2,
            "linecolor": "white",
            "showbackground": true,
            "ticks": "",
            "zerolinecolor": "white"
           }
          },
          "shapedefaults": {
           "line": {
            "color": "#2a3f5f"
           }
          },
          "ternary": {
           "aaxis": {
            "gridcolor": "white",
            "linecolor": "white",
            "ticks": ""
           },
           "baxis": {
            "gridcolor": "white",
            "linecolor": "white",
            "ticks": ""
           },
           "bgcolor": "#E5ECF6",
           "caxis": {
            "gridcolor": "white",
            "linecolor": "white",
            "ticks": ""
           }
          },
          "title": {
           "x": 0.05
          },
          "xaxis": {
           "automargin": true,
           "gridcolor": "white",
           "linecolor": "white",
           "ticks": "",
           "title": {
            "standoff": 15
           },
           "zerolinecolor": "white",
           "zerolinewidth": 2
          },
          "yaxis": {
           "automargin": true,
           "gridcolor": "white",
           "linecolor": "white",
           "ticks": "",
           "title": {
            "standoff": 15
           },
           "zerolinecolor": "white",
           "zerolinewidth": 2
          }
         }
        },
        "title": {
         "text": "Distribuição de clientes no Estado de São Paulo"
        },
        "width": 1200
       }
      }
     },
     "metadata": {},
     "output_type": "display_data"
    }
   ],
   "source": [
    "fig = px.scatter_mapbox(x, size=\"freq_log\", lon=\"lon\",lat=\"lat\" ,\n",
    "                  color_continuous_scale=px.colors.cyclical.IceFire, center = dict(lat = -22.43, lon = -48),  size_max=20, zoom=6, mapbox_style='open-street-map',opacity=0.5,\n",
    "                    hover_data={'freq':True,'city': True,'lon':False,'lat':False, 'freq_log':False}, title='Distribuição de clientes no Estado de São Paulo')\n",
    "fig.update_layout(width=1200, height=720)\n",
    "fig.show()"
   ]
  },
  {
   "cell_type": "code",
   "execution_count": 170,
   "metadata": {},
   "outputs": [],
   "source": [
    "from dash import Dash, dcc, html"
   ]
  },
  {
   "cell_type": "code",
   "execution_count": 183,
   "metadata": {},
   "outputs": [
    {
     "data": {
      "text/html": [
       "\n",
       "        <iframe\n",
       "            width=\"100%\"\n",
       "            height=\"650\"\n",
       "            src=\"http://127.0.0.1:8050/\"\n",
       "            frameborder=\"0\"\n",
       "            allowfullscreen\n",
       "            \n",
       "        ></iframe>\n",
       "        "
      ],
      "text/plain": [
       "<IPython.lib.display.IFrame at 0x1625db4ba10>"
      ]
     },
     "metadata": {},
     "output_type": "display_data"
    }
   ],
   "source": [
    "\n",
    " # or any Plotly Express function e.g. px.bar(...)\n",
    "# fig.add_trace( ... )\n",
    "# fig.update_layout( ... )\n",
    "\n",
    "\n",
    "\n",
    "app = Dash()\n",
    "app.layout = html.Div([html.Div([dcc.Graph(figure=fig)], class='cont'), \n",
    "             html.Div([dcc.Graph(figure=fig1)], class='cont')], id='cont_fora')\n",
    "\n",
    "\n",
    "\n",
    "app.run_server(debug=True, use_reloader=False)  # Turn off reloader if inside Jupyter"
   ]
  },
  {
   "cell_type": "code",
   "execution_count": null,
   "metadata": {},
   "outputs": [],
   "source": [
    "'''.container {\n",
    "  display: flex; /* Usa flexbox */\n",
    "}\n",
    "\n",
    ".container img {\n",
    "  width: 30%; /* Define a largura das imagens */\n",
    "  margin: 5px; /* Adiciona um pequeno espaço entre as imagens */\n",
    "}'''"
   ]
  }
 ],
 "metadata": {
  "kernelspec": {
   "display_name": "Python 3",
   "language": "python",
   "name": "python3"
  },
  "language_info": {
   "codemirror_mode": {
    "name": "ipython",
    "version": 3
   },
   "file_extension": ".py",
   "mimetype": "text/x-python",
   "name": "python",
   "nbconvert_exporter": "python",
   "pygments_lexer": "ipython3",
   "version": "3.11.6"
  }
 },
 "nbformat": 4,
 "nbformat_minor": 2
}
